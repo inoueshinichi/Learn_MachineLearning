{
 "cells": [
  {
   "cell_type": "markdown",
   "metadata": {},
   "source": [
    "# 自作LDA (判別分析法)"
   ]
  },
  {
   "cell_type": "markdown",
   "metadata": {},
   "source": [
    "### データの読み込み"
   ]
  },
  {
   "cell_type": "code",
   "execution_count": 1,
   "metadata": {},
   "outputs": [],
   "source": [
    "import pandas as pd\n",
    "\n",
    "# Wineデータ\n",
    "df_wine = pd.read_csv('https://archive.ics.uci.edu/ml/machine-learning-databases/wine/wine.data', header=None)\n",
    "df_wine.columns = ['Class label', 'Alcohol', 'Malic acid', 'Ash', \n",
    "                   'Alcalinity of ash', 'Magnesium', 'Total phenols',\n",
    "                  'Flavanoids', 'Nonflavanoid phenols', 'Proanthocyanins', \n",
    "                   'Color intensity', 'Hue', 'OD280/OD315 of diluted wines', 'Proline']"
   ]
  },
  {
   "cell_type": "markdown",
   "metadata": {},
   "source": [
    "### データセットの作成"
   ]
  },
  {
   "cell_type": "code",
   "execution_count": 2,
   "metadata": {},
   "outputs": [],
   "source": [
    "# import\n",
    "from sklearn.model_selection import train_test_split\n",
    "from sklearn.preprocessing import StandardScaler\n",
    "\n",
    "# 学習と検証に分割\n",
    "X = df_wine.iloc[:, 1:].values\n",
    "y = df_wine.iloc[:, 0].values\n",
    "X_train, X_test, y_train, y_test = train_test_split(X, y, test_size=0.3, stratify=y, random_state=0)"
   ]
  },
  {
   "cell_type": "code",
   "execution_count": 3,
   "metadata": {},
   "outputs": [],
   "source": [
    "# 標準化\n",
    "sc = StandardScaler()\n",
    "X_train_std = sc.fit_transform(X_train)\n",
    "X_test_std = sc.transform(X_test)  # ※"
   ]
  },
  {
   "cell_type": "markdown",
   "metadata": {},
   "source": [
    "### クラスごとの平均ベクトルを求める"
   ]
  },
  {
   "cell_type": "code",
   "execution_count": 5,
   "metadata": {},
   "outputs": [
    {
     "name": "stdout",
     "output_type": "stream",
     "text": [
      "MV 1: [ 0.9066 -0.3497  0.3201 -0.7189  0.5056  0.8807  0.9589 -0.5516  0.5416\n",
      "  0.2338  0.5897  0.6563  1.2075]\n",
      "\n",
      "MV 2: [-0.8749 -0.2848 -0.3735  0.3157 -0.3848 -0.0433  0.0635 -0.0946  0.0703\n",
      " -0.8286  0.3144  0.3608 -0.7253]\n",
      "\n",
      "MV 3: [ 0.1992  0.866   0.1682  0.4148 -0.0451 -1.0286 -1.2876  0.8287 -0.7795\n",
      "  0.9649 -1.209  -1.3622 -0.4013]\n",
      "\n"
     ]
    }
   ],
   "source": [
    "import numpy as np\n",
    "np.set_printoptions(precision=4)\n",
    "\n",
    "# 各クラスごとの平均ベクトル\n",
    "mean_vecs = []\n",
    "for label in range(1, 4):\n",
    "    mean_vecs.append(np.mean(X_train_std[y_train==label], axis=0))\n",
    "    print('MV %s: %s\\n' % (label, mean_vecs[label - 1]))"
   ]
  },
  {
   "cell_type": "markdown",
   "metadata": {},
   "source": [
    "### クラス内変動行列を求める"
   ]
  },
  {
   "cell_type": "code",
   "execution_count": 7,
   "metadata": {},
   "outputs": [],
   "source": [
    "d = 13 # 特徴量の個数"
   ]
  },
  {
   "cell_type": "code",
   "execution_count": 13,
   "metadata": {},
   "outputs": [
    {
     "name": "stdout",
     "output_type": "stream",
     "text": [
      "Within-class scatter matrix: 13x13\n",
      "[[ 5.0722e+01  3.1007e+00 -7.9323e+00 -5.7848e+00 -2.8879e+00  7.8990e+00\n",
      "   2.4543e+00  9.3932e-01  9.0781e-01  1.5486e+01  7.0293e+00 -1.8659e+00\n",
      "   4.9370e+00]\n",
      " [ 3.1007e+00  9.0179e+01  4.7074e+00  1.4750e+01 -1.0900e+01 -8.8059e-02\n",
      "   9.7797e-01  8.4547e+00  4.4732e+00 -1.4494e+01 -2.0361e+01  3.5876e+00\n",
      "  -1.1176e+01]\n",
      " [-7.9323e+00  4.7074e+00  1.1189e+02  7.0126e+01  2.2213e+01  1.5505e+01\n",
      "   1.4856e+01  2.0454e+01 -2.3344e+00  1.3787e+00  5.6585e+00  8.1917e+00\n",
      "   3.2570e-01]\n",
      " [-5.7848e+00  1.4750e+01  7.0126e+01  9.2147e+01  1.2485e+01  6.2091e+00\n",
      "   6.2783e+00  1.2735e+01 -4.7597e+00 -4.1511e+00  1.1779e+00  1.1633e+01\n",
      "  -4.5296e+00]\n",
      " [-2.8879e+00 -1.0900e+01  2.2213e+01  1.2485e+01  1.0605e+02  1.0950e+01\n",
      "   5.2875e+00 -2.1136e+01  1.3076e+01  5.9930e+00  8.4568e+00 -5.3128e-01\n",
      "   1.1845e+01]\n",
      " [ 7.8990e+00 -8.8059e-02  1.5505e+01  6.2091e+00  1.0950e+01  5.7194e+01\n",
      "   2.8971e+01 -7.4850e+00  3.0810e+01  1.5516e+01  6.6816e-01  1.9382e+01\n",
      "   6.3808e+00]\n",
      " [ 2.4543e+00  9.7797e-01  1.4856e+01  6.2783e+00  5.2875e+00  2.8971e+01\n",
      "   3.1388e+01 -1.0236e+01  2.5069e+01  1.4922e+01 -1.2394e+00  1.2737e+01\n",
      "   2.7636e+00]\n",
      " [ 9.3932e-01  8.4547e+00  2.0454e+01  1.2735e+01 -2.1136e+01 -7.4850e+00\n",
      "  -1.0236e+01  8.8416e+01 -1.5290e+01 -6.5190e-01  2.8315e+00 -1.7076e+01\n",
      "  -7.0906e+00]\n",
      " [ 9.0781e-01  4.4732e+00 -2.3344e+00 -4.7597e+00  1.3076e+01  3.0810e+01\n",
      "   2.5069e+01 -1.5290e+01  9.1676e+01  2.2137e+01 -5.9150e+00  1.1376e+01\n",
      "   5.9764e+00]\n",
      " [ 1.5486e+01 -1.4494e+01  1.3787e+00 -4.1511e+00  5.9930e+00  1.5516e+01\n",
      "   1.4922e+01 -6.5190e-01  2.2137e+01  5.6702e+01 -1.0507e+01 -5.3682e+00\n",
      "   1.0706e+01]\n",
      " [ 7.0293e+00 -2.0361e+01  5.6585e+00  1.1779e+00  8.4568e+00  6.6816e-01\n",
      "  -1.2394e+00  2.8315e+00 -5.9150e+00 -1.0507e+01  5.6566e+01  3.2692e+00\n",
      "   9.6829e+00]\n",
      " [-1.8659e+00  3.5876e+00  8.1917e+00  1.1633e+01 -5.3128e-01  1.9382e+01\n",
      "   1.2737e+01 -1.7076e+01  1.1376e+01 -5.3682e+00  3.2692e+00  3.8599e+01\n",
      "  -4.6404e+00]\n",
      " [ 4.9370e+00 -1.1176e+01  3.2570e-01 -4.5296e+00  1.1845e+01  6.3808e+00\n",
      "   2.7636e+00 -7.0906e+00  5.9764e+00  1.0706e+01  9.6829e+00 -4.6404e+00\n",
      "   3.2604e+01]]\n"
     ]
    }
   ],
   "source": [
    "# クラス内変動行列S_w = sum(S_i) S_i・・・各クラスの変動行列\n",
    "S_W = np.zeros((d, d))\n",
    "\n",
    "for label, mv in zip(range(1, 4), mean_vecs):\n",
    "    class_scatter = np.zeros((d, d))  # クラス内の変動行列(偏差行列)\n",
    "    for row in X_train_std[y_train==label]:\n",
    "        row, mv = row.reshape(d, 1), mv.reshape(d, 1) # 縦ベクトルにする\n",
    "        class_scatter += (row - mv).dot((row - mv).T)\n",
    "    S_W += class_scatter\n",
    "\n",
    "print('Within-class scatter matrix: %sx%s' % (S_W.shape[0], S_W.shape[1]))\n",
    "print(S_W)"
   ]
  },
  {
   "cell_type": "markdown",
   "metadata": {},
   "source": [
    "### トレーニングデータのクラス分布"
   ]
  },
  {
   "cell_type": "code",
   "execution_count": 14,
   "metadata": {},
   "outputs": [
    {
     "name": "stdout",
     "output_type": "stream",
     "text": [
      "Class label distribution: [ 0 41 50 33]\n",
      "Class label distribution: [41 50 33]\n"
     ]
    }
   ],
   "source": [
    "print('Class label distribution: %s' % np.bincount(y_train))\n",
    "print('Class label distribution: %s' % np.bincount(y_train)[1:])"
   ]
  },
  {
   "cell_type": "markdown",
   "metadata": {},
   "source": [
    "### 共分散行列"
   ]
  },
  {
   "cell_type": "code",
   "execution_count": 15,
   "metadata": {},
   "outputs": [
    {
     "name": "stdout",
     "output_type": "stream",
     "text": [
      "(13, 13)\n",
      "[[ 1.2448  0.0967 -0.1276 -0.1105 -0.0726  0.2374  0.0753  0.0231  0.1102\n",
      "   0.4261  0.1411 -0.0155  0.1224]\n",
      " [ 0.0967  2.2666  0.1168  0.3517 -0.2622 -0.0467 -0.0186  0.2194  0.0187\n",
      "  -0.3939 -0.4167  0.0787 -0.2492]\n",
      " [-0.1276  0.1168  2.6024  1.6442  0.5364  0.3947  0.3191  0.4553 -0.0353\n",
      "   0.06    0.167   0.1987 -0.0081]\n",
      " [-0.1105  0.3517  1.6442  2.1604  0.325   0.1535  0.1222  0.273  -0.0824\n",
      "  -0.068   0.0336  0.2548 -0.1201]\n",
      " [-0.0726 -0.2622  0.5364  0.325   2.4397  0.2384  0.1433 -0.5166  0.2566\n",
      "   0.1445  0.1777 -0.0058  0.2509]\n",
      " [ 0.2374 -0.0467  0.3947  0.1535  0.2384  1.352   0.6416 -0.0781  0.7644\n",
      "   0.4392  0.0177  0.4359  0.1554]\n",
      " [ 0.0753 -0.0186  0.3191  0.1222  0.1433  0.6416  0.6968 -0.2588  0.5765\n",
      "   0.3851 -0.0408  0.2525  0.0748]\n",
      " [ 0.0231  0.2194  0.4553  0.273  -0.5166 -0.0781 -0.2588  2.1795 -0.2801\n",
      "  -0.0363  0.1208 -0.332  -0.1485]\n",
      " [ 0.1102  0.0187 -0.0353 -0.0824  0.2566  0.7644  0.5765 -0.2801  2.1792\n",
      "   0.6795 -0.1815  0.2323  0.1568]\n",
      " [ 0.4261 -0.3939  0.06   -0.068   0.1445  0.4392  0.3851 -0.0363  0.6795\n",
      "   1.6141 -0.3417 -0.1241  0.2666]\n",
      " [ 0.1411 -0.4167  0.167   0.0336  0.1777  0.0177 -0.0408  0.1208 -0.1815\n",
      "  -0.3417  1.3119  0.0917  0.2232]\n",
      " [-0.0155  0.0787  0.1987  0.2548 -0.0058  0.4359  0.2525 -0.332   0.2323\n",
      "  -0.1241  0.0917  0.8714 -0.1167]\n",
      " [ 0.1224 -0.2492 -0.0081 -0.1201  0.2509  0.1554  0.0748 -0.1485  0.1568\n",
      "   0.2666  0.2232 -0.1167  0.7862]]\n"
     ]
    }
   ],
   "source": [
    "# クラスの頻度の偏りをなくした変動行列＝sum(各クラスの共分散行列)\n",
    "S_W_cov = np.zeros((d, d))\n",
    "\n",
    "for label, mv in zip(range(1, 4), mean_vecs):\n",
    "    class_scatter = np.cov(X_train_std[y_train==label].T)\n",
    "    S_W_cov += class_scatter\n",
    "    \n",
    "print(S_W_cov.shape)\n",
    "print(S_W_cov) # scaled"
   ]
  },
  {
   "cell_type": "markdown",
   "metadata": {},
   "source": [
    "### クラス間変動行列を求める"
   ]
  },
  {
   "cell_type": "code",
   "execution_count": 19,
   "metadata": {},
   "outputs": [],
   "source": [
    "# 全データによる平均ベクトル\n",
    "mean_overall = np.mean(X_train_std, axis=0)"
   ]
  },
  {
   "cell_type": "code",
   "execution_count": 21,
   "metadata": {},
   "outputs": [
    {
     "name": "stdout",
     "output_type": "stream",
     "text": [
      "Between-class scatter matrix: 13x13\n",
      "[[ 73.2779   5.1521  29.3409 -37.8053  35.3288  27.8688  24.4037 -10.917\n",
      "   11.9293  51.2816   0.2198  -0.3445  73.9711]\n",
      " [  5.1521  33.8209   5.5342  17.6688  -3.0595 -41.4067 -51.4514  32.9397\n",
      "  -31.0444  36.0237 -47.4845 -53.4785 -18.4551]\n",
      " [ 29.3409   5.5342  12.1084 -13.0286  13.5707   6.6597   4.2554  -0.8742\n",
      "    1.4687  23.8967  -4.84    -5.6837  27.1642]\n",
      " [-37.8053  17.6688 -13.0286  31.8532 -21.5944 -40.7237 -44.8903  26.1101\n",
      "  -25.5242  -6.7623 -28.9705 -32.2968 -52.5343]\n",
      " [ 35.3288  -3.0595  13.5707 -21.5944  17.9512  20.621   20.5742 -10.8479\n",
      "   11.0338  19.3529   7.9757   8.6902  39.5823]\n",
      " [ 27.8688 -41.4067   6.6597 -40.7237  20.621   66.8061  78.1916 -47.8401\n",
      "   45.861  -22.5142  61.6487  69.1515  58.7931]\n",
      " [ 24.4037 -51.4514   4.2554 -44.8903  20.5742  78.1916  92.6119 -57.1978\n",
      "   54.6364 -34.4354  75.5525  84.8261  62.2248]\n",
      " [-10.917   32.9397  -0.8742  26.1101 -10.8479 -47.8401 -57.1978  35.584\n",
      "  -33.8973  25.0189 -47.8855 -53.8    -34.852 ]\n",
      " [ 11.9293 -31.0444   1.4687 -25.5242  11.0338  45.861   54.6364 -33.8973\n",
      "   32.3239 -22.5432  45.299   50.8811  34.5842]\n",
      " [ 51.2816  36.0237  23.8967  -6.7623  19.3529 -22.5142 -34.4354  25.0189\n",
      "  -22.5432  67.2979 -45.8689 -52.0329  28.8464]\n",
      " [  0.2198 -47.4845  -4.84   -28.9705   7.9757  61.6487  75.5525 -47.8855\n",
      "   45.299  -45.8689  67.4344  75.8858  33.8052]\n",
      " [ -0.3445 -53.4785  -5.6837 -32.2968   8.6902  69.1515  84.8261 -53.8\n",
      "   50.8811 -52.0329  75.8858  85.4011  37.4455]\n",
      " [ 73.9711 -18.4551  27.1642 -52.5343  39.5823  58.7931  62.2248 -34.852\n",
      "   34.5842  28.8464  33.8052  37.4455  91.3961]]\n"
     ]
    }
   ],
   "source": [
    "# クラス間変動行列\n",
    "S_B = np.zeros((d, d))\n",
    "\n",
    "for i, mean_vec in enumerate(mean_vecs):\n",
    "    n = X_train[y_train==i+1, :].shape[0] # 特定のクラスラベルに属するデータ数を取得\n",
    "    mean_vec = mean_vec.reshape(d, 1)         # クラス内平均の列ベクトルを作成\n",
    "    mean_overall = mean_overall.reshape(d, 1) # 全体平均の列ベクトルを作成\n",
    "    \n",
    "    S_B += n * (mean_vec - mean_overall).dot((mean_vec - mean_overall).T)\n",
    "    \n",
    "print('Between-class scatter matrix: %sx%s' % (S_B.shape[0], S_B.shape[1]))\n",
    "print(S_B)"
   ]
  },
  {
   "cell_type": "markdown",
   "metadata": {},
   "source": [
    "### クラス内変動行列とクラス間変動行列である行列を作る"
   ]
  },
  {
   "cell_type": "code",
   "execution_count": 28,
   "metadata": {},
   "outputs": [
    {
     "name": "stdout",
     "output_type": "stream",
     "text": [
      "[[ 1.3779 -0.1453  0.5266 -0.858   0.7044  0.8379  0.8436 -0.4492  0.4551\n",
      "   0.7297  0.3479  0.3804  1.5622]\n",
      " [ 0.2932  0.4726  0.1643  0.1233  0.0665 -0.4743 -0.6206  0.4117 -0.383\n",
      "   0.6432 -0.6408 -0.7235 -0.0236]\n",
      " [ 0.9462  0.2559  0.3985 -0.3731  0.4248  0.1144  0.0142  0.0498 -0.0264\n",
      "   0.8456 -0.266  -0.307   0.8212]\n",
      " [-1.1192  0.2322 -0.4159  0.7663 -0.5911 -0.8287 -0.8668  0.48   -0.4785\n",
      "  -0.482  -0.4448 -0.4915 -1.3497]\n",
      " [ 0.2082 -0.0096  0.0809 -0.1221  0.1044  0.1106  0.1078 -0.0554  0.057\n",
      "   0.1223  0.035   0.0377  0.2273]\n",
      " [-0.5524  0.5341 -0.1617  0.633  -0.3612 -0.9526 -1.0943  0.6594 -0.6358\n",
      "   0.1685 -0.815  -0.9127 -0.9627]\n",
      " [ 0.5618 -2.5385 -0.0425 -1.856   0.698   3.555   4.2836 -2.6808  2.5481\n",
      "  -2.1047  3.6616  4.116   2.3898]\n",
      " [ 0.1544 -0.2525  0.0345 -0.2396  0.1181  0.4001  0.4699 -0.2883  0.2761\n",
      "  -0.1471  0.3743  0.42    0.342 ]\n",
      " [-0.2032 -0.0394 -0.084   0.0896 -0.0938 -0.0448 -0.0278  0.005  -0.0092\n",
      "  -0.1665  0.035   0.041  -0.1874]\n",
      " [ 0.0841  1.3419  0.1723  0.7682 -0.1808 -1.6996 -2.0949  1.3334 -1.2594\n",
      "   1.3533 -1.8964 -2.1348 -0.8596]\n",
      " [-0.5954 -0.2951 -0.2647  0.1533 -0.2451  0.1018  0.2041 -0.1664  0.1444\n",
      "  -0.662   0.3577  0.4074 -0.422 ]\n",
      " [ 0.7292 -0.9733  0.1857 -0.9987  0.5213  1.6053  1.871  -1.1408  1.0951\n",
      "  -0.4824  1.4568  1.6335  1.4605]\n",
      " [ 2.3043 -0.7774  0.8252 -1.7596  1.2666  2.094   2.2602 -1.2897  1.2703\n",
      "   0.7024  1.3406  1.49    2.9903]]\n"
     ]
    }
   ],
   "source": [
    "# ある行列 inv(S_W)(S_B)\n",
    "Mat = np.linalg.inv(S_W).dot(S_B)\n",
    "print(Mat)"
   ]
  },
  {
   "cell_type": "markdown",
   "metadata": {},
   "source": [
    "### 変換行列の固有値と固有ベクトルを求める"
   ]
  },
  {
   "cell_type": "code",
   "execution_count": 29,
   "metadata": {},
   "outputs": [
    {
     "name": "stdout",
     "output_type": "stream",
     "text": [
      "固有値 : [ 0.0000e+00+0.0000e+00j  4.2257e+00+0.0000e+00j  8.2625e+00+0.0000e+00j\n",
      "  8.9145e-17+0.0000e+00j -9.2756e-16+0.0000e+00j  5.7890e-16+0.0000e+00j\n",
      "  3.1729e-16+1.2783e-16j  3.1729e-16-1.2783e-16j -2.1146e-17+1.5342e-16j\n",
      " -2.1146e-17-1.5342e-16j -2.8634e-16+0.0000e+00j -1.3966e-16+2.8574e-17j\n",
      " -1.3966e-16-2.8574e-17j]\n",
      "固有ベクトル :  [[ 0.7581+0.j     -0.4077+0.j     -0.1586+0.j      0.7606+0.j\n",
      "   0.5389+0.j      0.3063+0.j      0.6698+0.j      0.6698-0.j\n",
      "  -0.3541+0.3916j -0.3541-0.3916j -0.6094+0.j      0.7484+0.j\n",
      "   0.7484-0.j    ]\n",
      " [-0.0974+0.j     -0.1821+0.j      0.0984+0.j     -0.0271+0.j\n",
      "  -0.5201+0.j      0.6355+0.j      0.0856+0.1162j  0.0856-0.1162j\n",
      "  -0.0195-0.1803j -0.0195+0.1803j  0.0879+0.j     -0.1288-0.0378j\n",
      "  -0.1288+0.0378j]\n",
      " [-0.2358+0.j     -0.3473+0.j     -0.0156+0.j     -0.2025+0.j\n",
      "  -0.0576+0.j     -0.5015+0.j     -0.1726-0.1413j -0.1726+0.1413j\n",
      "   0.5414+0.j      0.5414-0.j     -0.0454+0.j     -0.2957-0.0263j\n",
      "  -0.2957+0.0263j]\n",
      " [ 0.2459+0.j      0.3095+0.j      0.1588+0.j      0.2405+0.j\n",
      "   0.1336+0.j      0.2437+0.j      0.1409+0.0155j  0.1409-0.0155j\n",
      "   0.053 +0.087j   0.053 -0.087j  -0.2061+0.j      0.1968+0.021j\n",
      "   0.1968-0.021j ]\n",
      " [-0.0478+0.j     -0.064 +0.j     -0.0207+0.j     -0.052 +0.j\n",
      "   0.0074+0.j      0.0407+0.j     -0.0365+0.0268j -0.0365-0.0268j\n",
      "   0.1609-0.0537j  0.1609+0.0537j -0.1391+0.j      0.0013-0.0358j\n",
      "   0.0013+0.0358j]\n",
      " [ 0.0954+0.j      0.0733+0.j      0.1884+0.j      0.0721+0.j\n",
      "   0.3571+0.j      0.0118+0.j     -0.0415-0.0886j -0.0415+0.0886j\n",
      "  -0.003 +0.0431j -0.003 -0.0431j -0.1779+0.j      0.0555+0.0061j\n",
      "   0.0555-0.0061j]\n",
      " [ 0.0263+0.j      0.3034+0.j     -0.7153+0.j      0.1061+0.j\n",
      "  -0.2896+0.j      0.2003+0.j      0.2922+0.1817j  0.2922-0.1817j\n",
      "   0.0979-0.1718j  0.0979+0.1718j -0.213 +0.j     -0.0266-0.0391j\n",
      "  -0.0266+0.0391j]\n",
      " [-0.0203+0.j     -0.0009+0.j     -0.0798+0.j     -0.0217+0.j\n",
      "  -0.0173+0.j      0.0683+0.j     -0.0056+0.013j  -0.0056-0.013j\n",
      "   0.2441-0.0181j  0.2441+0.0181j -0.0566+0.j     -0.0704+0.0068j\n",
      "  -0.0704-0.0068j]\n",
      " [ 0.0497+0.j      0.0716+0.j      0.0074+0.j      0.0578+0.j\n",
      "   0.0027+0.j     -0.1052+0.j      0.0637-0.0166j  0.0637+0.0166j\n",
      "  -0.0386-0.0591j -0.0386+0.0591j -0.014 +0.j      0.0459-0.0022j\n",
      "   0.0459+0.0022j]\n",
      " [-0.1025+0.j     -0.2808+0.j      0.3448+0.j     -0.1159+0.j\n",
      "  -0.2399+0.j     -0.2384+0.j     -0.1418-0.0252j -0.1418+0.0252j\n",
      "  -0.0322-0.1299j -0.0322+0.1299j  0.0331+0.j     -0.115 +0.0141j\n",
      "  -0.115 -0.0141j]\n",
      " [ 0.1567+0.j      0.244 +0.j     -0.0254+0.j      0.1026+0.j\n",
      "  -0.0732+0.j     -0.0894+0.j     -0.1085-0.1667j -0.1085+0.1667j\n",
      "  -0.1238+0.3287j -0.1238-0.3287j -0.0374+0.j      0.1733+0.0143j\n",
      "   0.1733-0.0143j]\n",
      " [-0.1094+0.j     -0.0459+0.j     -0.3192+0.j     -0.0774+0.j\n",
      "  -0.2471+0.j      0.2503+0.j      0.035 +0.0913j  0.035 -0.0913j\n",
      "   0.1449-0.2102j  0.1449+0.2102j  0.0669+0.j     -0.1328+0.0027j\n",
      "  -0.1328-0.0027j]\n",
      " [-0.4877+0.j     -0.5806+0.j     -0.4054+0.j     -0.5185+0.j\n",
      "  -0.2866+0.j      0.0796+0.j     -0.5047+0.0395j -0.5047-0.0395j\n",
      "   0.122 -0.1698j  0.122 +0.1698j  0.6853+0.j     -0.4665+0.043j\n",
      "  -0.4665-0.043j ]]\n"
     ]
    }
   ],
   "source": [
    "eigen_vals, eigen_vecs = np.linalg.eig(Mat)\n",
    "print(\"固有値 :\", eigen_vals)\n",
    "print(\"固有ベクトル : \", eigen_vecs)"
   ]
  },
  {
   "cell_type": "markdown",
   "metadata": {},
   "source": [
    "### 判別度(固有値の大きさ)を大きい順に並べる"
   ]
  },
  {
   "cell_type": "code",
   "execution_count": 30,
   "metadata": {},
   "outputs": [
    {
     "name": "stdout",
     "output_type": "stream",
     "text": [
      "Eigenvalues in descending order:\n",
      "\n",
      "固有値 :  8.262493673957483\n",
      "固有ベクトル :  [-0.1586+0.j  0.0984+0.j -0.0156+0.j  0.1588+0.j -0.0207+0.j  0.1884+0.j\n",
      " -0.7153+0.j -0.0798+0.j  0.0074+0.j  0.3448+0.j -0.0254+0.j -0.3192+0.j\n",
      " -0.4054+0.j]\n",
      "固有値 :  4.225659486916686\n",
      "固有ベクトル :  [-0.4077+0.j -0.1821+0.j -0.3473+0.j  0.3095+0.j -0.064 +0.j  0.0733+0.j\n",
      "  0.3034+0.j -0.0009+0.j  0.0716+0.j -0.2808+0.j  0.244 +0.j -0.0459+0.j\n",
      " -0.5806+0.j]\n",
      "固有値 :  9.2755649547541e-16\n",
      "固有ベクトル :  [ 0.5389+0.j -0.5201+0.j -0.0576+0.j  0.1336+0.j  0.0074+0.j  0.3571+0.j\n",
      " -0.2896+0.j -0.0173+0.j  0.0027+0.j -0.2399+0.j -0.0732+0.j -0.2471+0.j\n",
      " -0.2866+0.j]\n",
      "固有値 :  5.788968521986873e-16\n",
      "固有ベクトル :  [ 0.3063+0.j  0.6355+0.j -0.5015+0.j  0.2437+0.j  0.0407+0.j  0.0118+0.j\n",
      "  0.2003+0.j  0.0683+0.j -0.1052+0.j -0.2384+0.j -0.0894+0.j  0.2503+0.j\n",
      "  0.0796+0.j]\n",
      "固有値 :  3.4207348338517877e-16\n",
      "固有ベクトル :  [ 0.6698+0.j      0.0856+0.1162j -0.1726-0.1413j  0.1409+0.0155j\n",
      " -0.0365+0.0268j -0.0415-0.0886j  0.2922+0.1817j -0.0056+0.013j\n",
      "  0.0637-0.0166j -0.1418-0.0252j -0.1085-0.1667j  0.035 +0.0913j\n",
      " -0.5047+0.0395j]\n",
      "固有値 :  3.4207348338517877e-16\n",
      "固有ベクトル :  [ 0.6698-0.j      0.0856-0.1162j -0.1726+0.1413j  0.1409-0.0155j\n",
      " -0.0365-0.0268j -0.0415+0.0886j  0.2922-0.1817j -0.0056-0.013j\n",
      "  0.0637+0.0166j -0.1418+0.0252j -0.1085+0.1667j  0.035 -0.0913j\n",
      " -0.5047-0.0395j]\n",
      "固有値 :  2.863361199026827e-16\n",
      "固有ベクトル :  [-0.6094+0.j  0.0879+0.j -0.0454+0.j -0.2061+0.j -0.1391+0.j -0.1779+0.j\n",
      " -0.213 +0.j -0.0566+0.j -0.014 +0.j  0.0331+0.j -0.0374+0.j  0.0669+0.j\n",
      "  0.6853+0.j]\n",
      "固有値 :  1.5487290843285566e-16\n",
      "固有ベクトル :  [-0.3541+0.3916j -0.0195-0.1803j  0.5414+0.j      0.053 +0.087j\n",
      "  0.1609-0.0537j -0.003 +0.0431j  0.0979-0.1718j  0.2441-0.0181j\n",
      " -0.0386-0.0591j -0.0322-0.1299j -0.1238+0.3287j  0.1449-0.2102j\n",
      "  0.122 -0.1698j]\n",
      "固有値 :  1.5487290843285566e-16\n",
      "固有ベクトル :  [-0.3541-0.3916j -0.0195+0.1803j  0.5414-0.j      0.053 -0.087j\n",
      "  0.1609+0.0537j -0.003 -0.0431j  0.0979+0.1718j  0.2441+0.0181j\n",
      " -0.0386+0.0591j -0.0322+0.1299j -0.1238-0.3287j  0.1449+0.2102j\n",
      "  0.122 +0.1698j]\n",
      "固有値 :  1.4255070709476658e-16\n",
      "固有ベクトル :  [ 0.7484+0.j     -0.1288-0.0378j -0.2957-0.0263j  0.1968+0.021j\n",
      "  0.0013-0.0358j  0.0555+0.0061j -0.0266-0.0391j -0.0704+0.0068j\n",
      "  0.0459-0.0022j -0.115 +0.0141j  0.1733+0.0143j -0.1328+0.0027j\n",
      " -0.4665+0.043j ]\n",
      "固有値 :  1.4255070709476658e-16\n",
      "固有ベクトル :  [ 0.7484-0.j     -0.1288+0.0378j -0.2957+0.0263j  0.1968-0.021j\n",
      "  0.0013+0.0358j  0.0555-0.0061j -0.0266+0.0391j -0.0704-0.0068j\n",
      "  0.0459+0.0022j -0.115 -0.0141j  0.1733-0.0143j -0.1328-0.0027j\n",
      " -0.4665-0.043j ]\n",
      "固有値 :  8.914491057314394e-17\n",
      "固有ベクトル :  [ 0.7606+0.j -0.0271+0.j -0.2025+0.j  0.2405+0.j -0.052 +0.j  0.0721+0.j\n",
      "  0.1061+0.j -0.0217+0.j  0.0578+0.j -0.1159+0.j  0.1026+0.j -0.0774+0.j\n",
      " -0.5185+0.j]\n",
      "固有値 :  0.0\n",
      "固有ベクトル :  [ 0.7581+0.j -0.0974+0.j -0.2358+0.j  0.2459+0.j -0.0478+0.j  0.0954+0.j\n",
      "  0.0263+0.j -0.0203+0.j  0.0497+0.j -0.1025+0.j  0.1567+0.j -0.1094+0.j\n",
      " -0.4877+0.j]\n"
     ]
    }
   ],
   "source": [
    "eigen_pairs = [(np.abs(eigen_vals[i]), eigen_vecs[:, i]) for i in range(len(eigen_vals))]\n",
    "eigen_pairs = sorted(eigen_pairs, key=lambda k: k[0], reverse=True)\n",
    "\n",
    "print('Eigenvalues in descending order:\\n')\n",
    "for eigen_val, eigen_vec in eigen_pairs:\n",
    "    print(\"固有値 : \", eigen_val)\n",
    "    print(\"固有ベクトル : \", eigen_vec)"
   ]
  },
  {
   "cell_type": "markdown",
   "metadata": {},
   "source": [
    "### 判別性（クラスの判別情報の補足度合い）を可視化"
   ]
  },
  {
   "cell_type": "code",
   "execution_count": 31,
   "metadata": {},
   "outputs": [
    {
     "data": {
      "image/png": "[encoded data removed]",
      "text/plain": [
       "<Figure size 432x288 with 1 Axes>"
      ]
     },
     "metadata": {
      "needs_background": "light"
     },
     "output_type": "display_data"
    }
   ],
   "source": [
    "# 判別性（クラスの判別情報の補足度合い）\n",
    "tot = sum(eigen_vals.real)\n",
    "discr = [(i / tot) for i in sorted(eigen_vals.real, reverse=True)]\n",
    "cum_discr = np.cumsum(discr) # 累積\n",
    "\n",
    "import matplotlib.pyplot as plt\n",
    "%matplotlib inline\n",
    "\n",
    "plt.bar(range(1, 14), discr, alpha=0.5, align='center', label='indivisual \"discriminability\"')\n",
    "plt.step(range(1, 14), cum_discr, where='mid', label='cumulative \"discriminability\"')\n",
    "plt.ylabel('\"discriminability\" ratio')\n",
    "plt.xlabel('Linear Discriminants')\n",
    "plt.ylim([-0.1, 1.1])\n",
    "plt.legend(loc='best')\n",
    "plt.tight_layout()\n",
    "plt.show()"
   ]
  },
  {
   "cell_type": "markdown",
   "metadata": {},
   "source": [
    "### 変換行列を作成(上位2つの固有値に対応する固有ベクトルを用いて)"
   ]
  },
  {
   "cell_type": "code",
   "execution_count": 33,
   "metadata": {},
   "outputs": [
    {
     "name": "stdout",
     "output_type": "stream",
     "text": [
      "(13, 2)\n",
      "[[-0.1586 -0.4077]\n",
      " [ 0.0984 -0.1821]\n",
      " [-0.0156 -0.3473]\n",
      " [ 0.1588  0.3095]\n",
      " [-0.0207 -0.064 ]\n",
      " [ 0.1884  0.0733]\n",
      " [-0.7153  0.3034]\n",
      " [-0.0798 -0.0009]\n",
      " [ 0.0074  0.0716]\n",
      " [ 0.3448 -0.2808]\n",
      " [-0.0254  0.244 ]\n",
      " [-0.3192 -0.0459]\n",
      " [-0.4054 -0.5806]]\n"
     ]
    }
   ],
   "source": [
    "# 次元削減用変換行列\n",
    "transM = np.hstack((eigen_pairs[0][1][:, np.newaxis].real, eigen_pairs[1][1][:, np.newaxis].real))\n",
    "print(transM.shape)\n",
    "print(transM)"
   ]
  },
  {
   "cell_type": "markdown",
   "metadata": {},
   "source": [
    "### 次元削減"
   ]
  },
  {
   "cell_type": "code",
   "execution_count": 35,
   "metadata": {},
   "outputs": [
    {
     "data": {
      "image/png": "[encoded data removed]",
      "text/plain": [
       "<Figure size 432x288 with 1 Axes>"
      ]
     },
     "metadata": {
      "needs_background": "light"
     },
     "output_type": "display_data"
    }
   ],
   "source": [
    "X_train_lda = X_train_std.dot(transM) # 部分空間に写像\n",
    "\n",
    "# プロット\n",
    "colors = ['r', 'b', 'g']\n",
    "markers = ['s', 'x', 'o']\n",
    "for l, c, m in zip(np.unique(y_train), colors, markers):\n",
    "    plt.scatter(X_train_lda[y_train==l, 0],\n",
    "               X_train_lda[y_train==l, 1] * (-1),\n",
    "               c=c,\n",
    "               label=l,\n",
    "               marker=m)\n",
    "plt.xlabel('LD 1')\n",
    "plt.ylabel('LD 2')\n",
    "plt.legend(loc='lower right')\n",
    "plt.tight_layout()\n",
    "plt.show()"
   ]
  },
  {
   "cell_type": "markdown",
   "metadata": {},
   "source": [
    "# Scikit-learn LDA"
   ]
  },
  {
   "cell_type": "code",
   "execution_count": 36,
   "metadata": {},
   "outputs": [
    {
     "data": {
      "image/png": "[encoded data removed]",
      "text/plain": [
       "<Figure size 432x288 with 1 Axes>"
      ]
     },
     "metadata": {
      "needs_background": "light"
     },
     "output_type": "display_data"
    }
   ],
   "source": [
    "from sklearn.discriminant_analysis import LinearDiscriminantAnalysis as LDA\n",
    "\n",
    "lda = LDA(n_components=2)\n",
    "X_train_lda = lda.fit_transform(X_train_std, y_train)\n",
    "\n",
    "colors = ['r', 'b', 'g']\n",
    "markers = ['s', 'x', 'o']\n",
    "for l, c, m in zip(np.unique(y_train), colors, markers):\n",
    "    plt.scatter(X_train_lda[y_train==l, 0],\n",
    "               X_train_lda[y_train==l, 1] * (-1),\n",
    "               c=c,\n",
    "               label=l,\n",
    "               marker=m)\n",
    "plt.xlabel('LD 1')\n",
    "plt.ylabel('LD 2')\n",
    "plt.legend(loc='lower right')\n",
    "plt.tight_layout()\n",
    "plt.show()"
   ]
  },
  {
   "cell_type": "markdown",
   "metadata": {},
   "source": [
    "### 学習データで作った変換行列をテストデータに適用"
   ]
  },
  {
   "cell_type": "code",
   "execution_count": 37,
   "metadata": {},
   "outputs": [
    {
     "data": {
      "image/png": "[encoded data removed]",
      "text/plain": [
       "<Figure size 432x288 with 1 Axes>"
      ]
     },
     "metadata": {
      "needs_background": "light"
     },
     "output_type": "display_data"
    }
   ],
   "source": [
    "X_test_lda = lda.transform(X_test_std)\n",
    "\n",
    "colors = ['r', 'b', 'g']\n",
    "markers = ['s', 'x', 'o']\n",
    "for l, c, m in zip(np.unique(y_train), colors, markers):\n",
    "    plt.scatter(X_test_lda[y_test==l, 0],\n",
    "               X_test_lda[y_test==l, 1] * (-1),\n",
    "               c=c,\n",
    "               label=l,\n",
    "               marker=m)\n",
    "plt.xlabel('LD 1')\n",
    "plt.ylabel('LD 2')\n",
    "plt.legend(loc='lower right')\n",
    "plt.tight_layout()\n",
    "plt.show()"
   ]
  },
  {
   "cell_type": "code",
   "execution_count": null,
   "metadata": {},
   "outputs": [],
   "source": []
  }
 ],
 "metadata": {
  "kernelspec": {
   "display_name": "Python 3",
   "language": "python",
   "name": "python3"
  },
  "language_info": {
   "codemirror_mode": {
    "name": "ipython",
    "version": 3
   },
   "file_extension": ".py",
   "mimetype": "text/x-python",
   "name": "python",
   "nbconvert_exporter": "python",
   "pygments_lexer": "ipython3",
   "version": "3.7.4"
  }
 },
 "nbformat": 4,
 "nbformat_minor": 2
}
