{
  "nbformat": 4,
  "nbformat_minor": 0,
  "metadata": {
    "kernelspec": {
      "display_name": "Python 3",
      "language": "python",
      "name": "python3"
    },
    "language_info": {
      "codemirror_mode": {
        "name": "ipython",
        "version": 3
      },
      "file_extension": ".py",
      "mimetype": "text/x-python",
      "name": "python",
      "nbconvert_exporter": "python",
      "pygments_lexer": "ipython3",
      "version": "3.7.4"
    },
    "colab": {
      "name": "Report_PCA(主成分分析).ipynb",
      "provenance": [],
      "include_colab_link": true
    }
  },
  "cells": [
    {
      "cell_type": "markdown",
      "metadata": {
        "id": "view-in-github",
        "colab_type": "text"
      },
      "source": [
        "<a href=\"https://colab.research.google.com/github/inoueshinichi/MachineLearning/blob/main/Report_PCA(%E4%B8%BB%E6%88%90%E5%88%86%E5%88%86%E6%9E%90).ipynb\" target=\"_parent\"><img src=\"https://colab.research.google.com/assets/colab-badge.svg\" alt=\"Open In Colab\"/></a>"
      ]
    },
    {
      "cell_type": "markdown",
      "metadata": {
        "id": "T9AZzcj9OIF5"
      },
      "source": [
        "## 自作PCA"
      ]
    },
    {
      "cell_type": "markdown",
      "metadata": {
        "id": "CEabnmrUOIF8"
      },
      "source": [
        "### データの読み込み"
      ]
    },
    {
      "cell_type": "code",
      "metadata": {
        "id": "dRG4_PZtOIF9"
      },
      "source": [
        "import pandas as pd\n",
        "\n",
        "# Wineデータ\n",
        "df_wine = pd.read_csv('https://archive.ics.uci.edu/ml/machine-learning-databases/wine/wine.data', header=None)\n",
        "df_wine.columns = ['Class label', 'Alcohol', 'Malic acid', 'Ash', \n",
        "                   'Alcalinity of ash', 'Magnesium', 'Total phenols',\n",
        "                  'Flavanoids', 'Nonflavanoid phenols', 'Proanthocyanins', \n",
        "                   'Color intensity', 'Hue', 'OD280/OD315 of diluted wines', 'Proline']\n"
      ],
      "execution_count": null,
      "outputs": []
    },
    {
      "cell_type": "markdown",
      "metadata": {
        "id": "nwHzrSmnOIF-"
      },
      "source": [
        "### データセットの作成"
      ]
    },
    {
      "cell_type": "code",
      "metadata": {
        "id": "hScI_1C0OIF-"
      },
      "source": [
        "# import\n",
        "from sklearn.model_selection import train_test_split\n",
        "from sklearn.preprocessing import StandardScaler\n",
        "\n",
        "# 学習と検証に分割\n",
        "X = df_wine.iloc[:, 1:].values\n",
        "y = df_wine.iloc[:, 0].values\n",
        "X_train, X_test, y_train, y_test = train_test_split(X, y, test_size=0.3, stratify=y, random_state=0)"
      ],
      "execution_count": null,
      "outputs": []
    },
    {
      "cell_type": "code",
      "metadata": {
        "id": "Hu5Z3G_IOIF_"
      },
      "source": [
        "# 標準化\n",
        "sc = StandardScaler()\n",
        "X_train_std = sc.fit_transform(X_train)\n",
        "X_test_std = sc.transform(X_test)  # ※"
      ],
      "execution_count": null,
      "outputs": []
    },
    {
      "cell_type": "markdown",
      "metadata": {
        "id": "RhUI3rdVOIF_"
      },
      "source": [
        "### 分散共分散行列"
      ]
    },
    {
      "cell_type": "code",
      "metadata": {
        "id": "k3rXsx0mOIGA"
      },
      "source": [
        "import numpy as np\n",
        "cov_mat = np.cov(X_train_std.T) # 分散共分散行列"
      ],
      "execution_count": null,
      "outputs": []
    },
    {
      "cell_type": "markdown",
      "metadata": {
        "id": "d0yCPP0iOIGB"
      },
      "source": [
        "### 固有値と固有ベクトル"
      ]
    },
    {
      "cell_type": "code",
      "metadata": {
        "id": "91GbgrqwOIGB",
        "outputId": "a3496df9-635e-4df6-fc86-bfa4c4b84f60"
      },
      "source": [
        "# 固有値，固有ベクトルの対(一般の行列の固有値・固有ベクトルを求める)\n",
        "eigen_vals, eigen_vecs = np.linalg.eig(cov_mat) \n",
        "print('\\n固有値 \\n%s' % eigen_vals)"
      ],
      "execution_count": null,
      "outputs": [
        {
          "output_type": "stream",
          "text": [
            "\n",
            "固有値 \n",
            "[4.84274532 2.41602459 1.54845825 0.96120438 0.84166161 0.6620634\n",
            " 0.51828472 0.34650377 0.3131368  0.10754642 0.21357215 0.15362835\n",
            " 0.1808613 ]\n"
          ],
          "name": "stdout"
        }
      ]
    },
    {
      "cell_type": "code",
      "metadata": {
        "id": "m8vG8R54OIGD",
        "outputId": "4a4c81ef-7e9f-494f-951c-bd4d7154c144"
      },
      "source": [
        "# 固有値，固有ベクトルの対(エルミート（or 実対称）行列の固有値・固有ベクトルを求める)\n",
        "eigenH_vals, eigenH_vecs = np.linalg.eigh(cov_mat)\n",
        "print('\\n固有値H \\n%s' % eigenH_vals)"
      ],
      "execution_count": null,
      "outputs": [
        {
          "output_type": "stream",
          "text": [
            "\n",
            "固有値H \n",
            "[0.10754642 0.15362835 0.1808613  0.21357215 0.3131368  0.34650377\n",
            " 0.51828472 0.6620634  0.84166161 0.96120438 1.54845825 2.41602459\n",
            " 4.84274532]\n"
          ],
          "name": "stdout"
        }
      ]
    },
    {
      "cell_type": "code",
      "metadata": {
        "scrolled": true,
        "id": "vfxupfOKOIGE",
        "outputId": "c534968a-80fd-4909-8579-eb0fcaf42ef5"
      },
      "source": [
        "eigenH_vecs"
      ],
      "execution_count": null,
      "outputs": [
        {
          "output_type": "execute_result",
          "data": {
            "text/plain": [
              "array([[-9.44869777e-02, -1.27834515e-01,  2.62834263e-01,\n",
              "         3.74638877e-01,  3.98377017e-01, -3.68176414e-01,\n",
              "         7.90529293e-02, -2.99096847e-01, -2.90625226e-01,\n",
              "        -3.29610003e-03,  1.37748734e-01,  5.03034778e-01,\n",
              "        -1.37242175e-01],\n",
              "       [ 2.63652406e-02,  8.06401578e-02, -2.66769211e-01,\n",
              "        -1.37405597e-01, -1.10458230e-01, -1.25775752e-02,\n",
              "        -2.74002014e-01, -6.27036396e-01,  8.95378697e-02,\n",
              "         5.62646692e-01, -9.61503863e-02,  1.64871190e-01,\n",
              "         2.47243265e-01],\n",
              "       [ 1.42747511e-01,  1.67924873e-02, -1.15542548e-01,\n",
              "         4.61583035e-01, -3.82496856e-01,  1.77578177e-01,\n",
              "         1.32328045e-01, -3.89128239e-04, -1.60834991e-01,\n",
              "        -1.08977111e-01, -6.77775667e-01,  2.44564761e-01,\n",
              "        -2.54515927e-02],\n",
              "       [-1.30485780e-01, -1.10845657e-01,  1.99483410e-01,\n",
              "        -4.18953989e-01,  2.43373853e-01, -4.40592110e-01,\n",
              "         2.23999097e-01,  4.05836452e-02,  5.15873402e-02,\n",
              "         3.38187002e-02, -6.25040550e-01, -1.13529045e-01,\n",
              "         2.06945084e-01],\n",
              "       [-6.76080782e-02,  7.93879562e-02,  2.89018810e-02,\n",
              "         1.00470630e-02,  2.58982359e-01,  1.16617503e-01,\n",
              "        -4.05268966e-01, -6.57772614e-02,  6.76487073e-01,\n",
              "        -3.67511070e-01, -1.96135481e-01,  2.89745182e-01,\n",
              "        -1.54365821e-01],\n",
              "       [ 4.59917661e-01, -4.91459313e-01, -6.63868598e-02,\n",
              "        -2.21254241e-01,  3.42312860e-01,  3.50192127e-01,\n",
              "        -3.47419412e-02,  5.89776247e-02, -1.18511144e-01,\n",
              "         2.40245127e-01, -1.40310572e-01,  5.08010391e-02,\n",
              "        -3.93769523e-01],\n",
              "       [-8.14583947e-01, -5.03074004e-02, -2.13349079e-01,\n",
              "        -4.17513600e-02,  3.61231642e-02,  2.18718183e-01,\n",
              "         4.17835724e-02,  3.01103180e-02, -1.07100349e-01,\n",
              "         1.87053299e-01, -1.17053859e-01, -2.28733792e-02,\n",
              "        -4.17351064e-01],\n",
              "       [-9.57480885e-02,  1.75328030e-01,  1.86391279e-01,\n",
              "        -8.87569452e-02,  1.71436883e-01,  1.97129425e-01,\n",
              "        -6.31145686e-01,  2.71728086e-01, -5.07581610e-01,\n",
              "        -2.29262234e-02, -1.31217777e-01,  9.04888470e-02,\n",
              "         3.05728961e-01],\n",
              "       [ 6.72468934e-02, -3.67595797e-03,  1.68082985e-01,\n",
              "         1.99921861e-01, -2.44370210e-01, -4.33055871e-01,\n",
              "        -3.23122775e-01,  4.39997519e-01,  2.01634619e-01,\n",
              "         4.96262330e-01, -3.04309008e-02,  8.35232677e-03,\n",
              "        -3.06683469e-01],\n",
              "       [ 8.73336218e-02,  3.59756535e-01, -4.66369031e-01,\n",
              "        -2.21668868e-01,  1.55514919e-01, -6.68411823e-02,\n",
              "         2.69082623e-01,  4.11743459e-01,  5.73607091e-03,\n",
              "         1.06482939e-01,  7.99299713e-02,  5.49775805e-01,\n",
              "         7.55406578e-02],\n",
              "       [ 1.29061125e-01,  4.04669797e-02, -5.32483880e-01,\n",
              "        -9.84694573e-02, -2.11961247e-02, -4.59762295e-01,\n",
              "        -3.02640661e-01, -1.41673377e-01, -2.76914216e-01,\n",
              "        -3.69053747e-01, -5.30591506e-02, -2.07164328e-01,\n",
              "        -3.26132628e-01],\n",
              "       [ 1.87646268e-01,  7.42229543e-01,  2.37835283e-01,\n",
              "         1.91205783e-02,  2.38089559e-01,  1.10827548e-01,\n",
              "         1.30540143e-01, -1.75842384e-01, -6.66275572e-02,\n",
              "         1.42016088e-01, -1.32391030e-01, -2.49025357e-01,\n",
              "        -3.68610222e-01],\n",
              "       [ 1.21112574e-02,  3.87395209e-02,  3.67763359e-01,\n",
              "        -5.42532072e-01, -5.17278463e-01,  5.60817288e-03,\n",
              "         8.11335043e-04, -1.38018388e-01, -1.28029045e-01,\n",
              "        -1.67682173e-01,  7.06502178e-02,  3.80229423e-01,\n",
              "        -2.96696514e-01]])"
            ]
          },
          "metadata": {
            "tags": []
          },
          "execution_count": 16
        }
      ]
    },
    {
      "cell_type": "markdown",
      "metadata": {
        "id": "1T096NwDOIGF"
      },
      "source": [
        "### 各固有ベクトル方向の寄与率(分散説明率)"
      ]
    },
    {
      "cell_type": "code",
      "metadata": {
        "id": "E6tgDK1DOIGF"
      },
      "source": [
        "# 寄与率（分散説明率）\n",
        "tot = sum(eigen_vals)\n",
        "var_exp = [(i / tot) for i in sorted(eigen_vals, reverse=True)]\n",
        "cum_var_exp = np.cumsum(var_exp)"
      ],
      "execution_count": null,
      "outputs": []
    },
    {
      "cell_type": "code",
      "metadata": {
        "id": "0xiP1q4eOIGG",
        "outputId": "68f36926-c640-47b0-dc28-558149173c0d"
      },
      "source": [
        "import matplotlib.pyplot as plt\n",
        "%matplotlib inline\n",
        "plt.bar(range(1, 14), var_exp, alpha=0.5, align='center', label='individual explained variance')\n",
        "plt.step(range(1, 14), cum_var_exp, where='mid', label='cumulative explained variance')\n",
        "plt.ylabel('Explained variance ratio')\n",
        "plt.xlabel('Principal component index')\n",
        "plt.legend(loc='best')\n",
        "plt.tight_layout()\n",
        "plt.show()"
      ],
      "execution_count": null,
      "outputs": [
        {
          "output_type": "display_data",
          "data": {
            "image/png": "[encoded data removed]",
            "text/plain": [
              "<Figure size 432x288 with 1 Axes>"
            ]
          },
          "metadata": {
            "tags": [],
            "needs_background": "light"
          }
        }
      ]
    },
    {
      "cell_type": "code",
      "metadata": {
        "id": "w0vR3_QpOIGH"
      },
      "source": [
        "# 上位2個の固有値に対応する固有ベクトルで次元削減用の変換行列を作る\n",
        "eigen_pairs = [(np.abs(eigen_vals[i]), eigen_vecs[:, i]) for i in range(len(eigen_vals))]\n",
        "\n",
        "# 固有値でソート\n",
        "eigen_pairs.sort(key=lambda k: k[0], reverse=True)"
      ],
      "execution_count": null,
      "outputs": []
    },
    {
      "cell_type": "code",
      "metadata": {
        "scrolled": true,
        "id": "5Kxl8sVBOIGH",
        "outputId": "20fa86cd-1d3e-4498-870f-0b619e4dfe58"
      },
      "source": [
        "# 最上位の固有ベクトル\n",
        "eigen_pairs[0][1]"
      ],
      "execution_count": null,
      "outputs": [
        {
          "output_type": "execute_result",
          "data": {
            "text/plain": [
              "array([-0.13724218,  0.24724326, -0.02545159,  0.20694508, -0.15436582,\n",
              "       -0.39376952, -0.41735106,  0.30572896, -0.30668347,  0.07554066,\n",
              "       -0.32613263, -0.36861022, -0.29669651])"
            ]
          },
          "metadata": {
            "tags": []
          },
          "execution_count": 20
        }
      ]
    },
    {
      "cell_type": "code",
      "metadata": {
        "id": "06ewnjOJOIGI",
        "outputId": "40ed2cbe-f3cd-46a0-d9b6-9a0f3d773194"
      },
      "source": [
        "# 固有ベクトルの形状変換\n",
        "eigen_pairs[0][1][:, np.newaxis]"
      ],
      "execution_count": null,
      "outputs": [
        {
          "output_type": "execute_result",
          "data": {
            "text/plain": [
              "array([[-0.13724218],\n",
              "       [ 0.24724326],\n",
              "       [-0.02545159],\n",
              "       [ 0.20694508],\n",
              "       [-0.15436582],\n",
              "       [-0.39376952],\n",
              "       [-0.41735106],\n",
              "       [ 0.30572896],\n",
              "       [-0.30668347],\n",
              "       [ 0.07554066],\n",
              "       [-0.32613263],\n",
              "       [-0.36861022],\n",
              "       [-0.29669651]])"
            ]
          },
          "metadata": {
            "tags": []
          },
          "execution_count": 21
        }
      ]
    },
    {
      "cell_type": "code",
      "metadata": {
        "scrolled": true,
        "id": "ujCXgYunOIGJ",
        "outputId": "07e4f4f0-3c3f-42fe-8d72-aa7f26bcd834"
      },
      "source": [
        "# 次元削減用の変換行列を作成\n",
        "w = np.hstack((eigen_pairs[0][1][:, np.newaxis], eigen_pairs[1][1][:, np.newaxis]))\n",
        "print(\"Matrix W(13x2):\\n\", w)"
      ],
      "execution_count": null,
      "outputs": [
        {
          "output_type": "stream",
          "text": [
            "Matrix W(13x2):\n",
            " [[-0.13724218  0.50303478]\n",
            " [ 0.24724326  0.16487119]\n",
            " [-0.02545159  0.24456476]\n",
            " [ 0.20694508 -0.11352904]\n",
            " [-0.15436582  0.28974518]\n",
            " [-0.39376952  0.05080104]\n",
            " [-0.41735106 -0.02287338]\n",
            " [ 0.30572896  0.09048885]\n",
            " [-0.30668347  0.00835233]\n",
            " [ 0.07554066  0.54977581]\n",
            " [-0.32613263 -0.20716433]\n",
            " [-0.36861022 -0.24902536]\n",
            " [-0.29669651  0.38022942]]\n"
          ],
          "name": "stdout"
        }
      ]
    },
    {
      "cell_type": "markdown",
      "metadata": {
        "id": "rzu4xexROIGJ"
      },
      "source": [
        "### 次元削減"
      ]
    },
    {
      "cell_type": "code",
      "metadata": {
        "id": "18r4jiiMOIGK",
        "outputId": "2b9ad3e3-f9ba-46d0-85f3-9d98949fbb19"
      },
      "source": [
        "# １サンプル(1x13)->(1x2)に変換\n",
        "print(\"X_train_std[0]: \\n{}\".format(X_train_std[0]))\n",
        "print(\"X_train_std[0].dot(w): \\n{}\".format(X_train_std[0].dot(w)))"
      ],
      "execution_count": null,
      "outputs": [
        {
          "output_type": "stream",
          "text": [
            "X_train_std[0]: \n",
            "[ 0.71225893  2.22048673 -0.13025864  0.05962872 -0.50432733 -0.52831584\n",
            " -1.24000033  0.84118003 -1.05215112 -0.29218864 -0.20017028 -0.82164144\n",
            " -0.62946362]\n",
            "X_train_std[0].dot(w): \n",
            "[2.38299011 0.45458499]\n"
          ],
          "name": "stdout"
        }
      ]
    },
    {
      "cell_type": "code",
      "metadata": {
        "scrolled": true,
        "id": "KJLrqKM2OIGL",
        "outputId": "65fa66e5-d1ad-4338-c619-904df0b46c8b"
      },
      "source": [
        "# トレーニングサンプル全体を(nx2)に変換\n",
        "X_train_pca = X_train_std.dot(w)\n",
        "print(X_train_pca[:5])"
      ],
      "execution_count": null,
      "outputs": [
        {
          "output_type": "stream",
          "text": [
            "[[ 2.38299011  0.45458499]\n",
            " [-1.96578183  1.65376939]\n",
            " [-2.53907598  1.02909066]\n",
            " [-1.43010776  0.6024011 ]\n",
            " [ 3.14147227  0.66214979]]\n"
          ],
          "name": "stdout"
        }
      ]
    },
    {
      "cell_type": "markdown",
      "metadata": {
        "id": "-OVHBII3OIGL"
      },
      "source": [
        "### 次元削減した学習データをプロット"
      ]
    },
    {
      "cell_type": "code",
      "metadata": {
        "id": "06_r76vCOIGM",
        "outputId": "1f44715a-1206-4c9e-f8e0-3cf3e1e93d2b"
      },
      "source": [
        "colors = ['r', 'b', 'g']\n",
        "markers = ['s', 'x', 'o']\n",
        "\n",
        "for l, c, m in zip(np.unique(y_train), colors, markers):\n",
        "    plt.scatter(X_train_pca[y_train==l, 0], X_train_pca[y_train==l, 1], c=c, label=l, marker=m)\n",
        "    \n",
        "plt.xlabel('PC1')\n",
        "plt.ylabel('PC2')\n",
        "plt.legend(loc='lower left')\n",
        "plt.tight_layout()\n",
        "plt.show()"
      ],
      "execution_count": null,
      "outputs": [
        {
          "output_type": "display_data",
          "data": {
            "image/png": "[encoded data removed]",
            "text/plain": [
              "<Figure size 432x288 with 1 Axes>"
            ]
          },
          "metadata": {
            "tags": [],
            "needs_background": "light"
          }
        }
      ]
    },
    {
      "cell_type": "markdown",
      "metadata": {
        "id": "E1s9jJfeOIGM"
      },
      "source": [
        "# scikit-learn PCA"
      ]
    },
    {
      "cell_type": "code",
      "metadata": {
        "scrolled": true,
        "id": "JWkNVqcBOIGM",
        "outputId": "c1aea5ee-3d97-49db-84fd-1119c6ca7a60"
      },
      "source": [
        "from sklearn.linear_model import LogisticRegression\n",
        "from sklearn.decomposition import PCA\n",
        "\n",
        "# PCA\n",
        "scikit_pca = PCA(n_components=2)\n",
        "X_train_scikit_pca = scikit_pca.fit_transform(X_train_std)\n",
        "X_test_scikit_pca = scikit_pca.transform(X_test_std)\n",
        "\n",
        "# Logistic Regression\n",
        "lr = LogisticRegression()\n",
        "\n",
        "# fit\n",
        "lr.fit(X_train_scikit_pca, y_train)\n",
        "\n",
        "# Predict\n",
        "y_train_lr = lr.predict(X_train_scikit_pca)\n",
        "y_test_lr = lr.predict(X_test_scikit_pca)\n",
        "\n",
        "print(y_train_lr)\n",
        "print(y_test_lr)\n",
        "\n",
        "# 学習データ\n",
        "plt.scatter(X_train_scikit_pca[y_train_lr==1, 0], X_train_scikit_pca[y_train_lr==1, 1], marker='s')\n",
        "plt.scatter(X_train_scikit_pca[y_train_lr==2, 0], X_train_scikit_pca[y_train_lr==2, 1], marker='s')\n",
        "plt.scatter(X_train_scikit_pca[y_train_lr==3, 0], X_train_scikit_pca[y_train_lr==3, 1], marker='s')\n",
        "\n",
        "# テストデータ\n",
        "plt.scatter(X_test_scikit_pca[y_test_lr==1, 0], X_test_scikit_pca[y_test_lr==1, 1], marker='o')\n",
        "plt.scatter(X_test_scikit_pca[y_test_lr==2, 0], X_test_scikit_pca[y_test_lr==2, 1], marker='o')\n",
        "plt.scatter(X_test_scikit_pca[y_test_lr==3, 0], X_test_scikit_pca[y_test_lr==3, 1], marker='o')\n",
        "\n",
        "plt.xlabel('PC1')\n",
        "plt.ylabel('PC2')\n",
        "plt.legend(loc='lower left')\n",
        "plt.tight_layout()\n",
        "plt.show()"
      ],
      "execution_count": null,
      "outputs": [
        {
          "output_type": "stream",
          "text": [
            "/Users/inoueshinichi/opt/anaconda3/lib/python3.7/site-packages/sklearn/linear_model/logistic.py:432: FutureWarning: Default solver will be changed to 'lbfgs' in 0.22. Specify a solver to silence this warning.\n",
            "  FutureWarning)\n",
            "/Users/inoueshinichi/opt/anaconda3/lib/python3.7/site-packages/sklearn/linear_model/logistic.py:469: FutureWarning: Default multi_class will be changed to 'auto' in 0.22. Specify the multi_class option to silence this warning.\n",
            "  \"this warning.\", FutureWarning)\n",
            "No handles with labels found to put in legend.\n"
          ],
          "name": "stderr"
        },
        {
          "output_type": "stream",
          "text": [
            "[3 1 1 1 3 2 2 3 2 2 2 1 2 3 1 3 2 1 3 3 2 1 2 2 2 2 3 1 2 3 1 1 3 1 2 1 1\n",
            " 2 3 3 1 3 3 3 1 2 3 3 2 3 2 2 2 1 2 2 3 3 2 1 1 2 3 3 2 1 2 2 2 1 1 1 1 1\n",
            " 3 1 1 3 2 2 3 1 2 1 2 3 3 2 1 1 1 3 2 1 1 2 2 3 3 2 1 1 2 2 3 1 3 1 2 2 2\n",
            " 2 1 3 1 1 1 1 2 2 3 3 2 2]\n",
            "[1 2 1 1 2 3 2 3 1 3 1 2 3 1 3 3 2 1 3 1 1 3 2 2 2 2 1 3 3 2 1 3 1 2 2 1 2\n",
            " 2 1 3 3 2 2 2 1 2 2 3 2 3 2 2 1 2]\n"
          ],
          "name": "stdout"
        },
        {
          "output_type": "display_data",
          "data": {
            "image/png": "[encoded data removed]",
            "text/plain": [
              "<Figure size 432x288 with 1 Axes>"
            ]
          },
          "metadata": {
            "tags": [],
            "needs_background": "light"
          }
        }
      ]
    },
    {
      "cell_type": "markdown",
      "metadata": {
        "id": "SBGHughJOIGO"
      },
      "source": [
        "### 寄与率の表示"
      ]
    },
    {
      "cell_type": "code",
      "metadata": {
        "id": "vmQihlPlOIGO",
        "outputId": "3ebd338e-5ca6-403f-fa85-a6ff2a63e47c"
      },
      "source": [
        "# 寄与率を見るためにn_components = None\n",
        "all_pca = PCA(n_components=None)\n",
        "\n",
        "# 適合\n",
        "X_train_all_pca = all_pca.fit_transform(X_train_std)\n",
        "\n",
        "# 寄与率\n",
        "all_pca.explained_variance_ratio_"
      ],
      "execution_count": null,
      "outputs": [
        {
          "output_type": "execute_result",
          "data": {
            "text/plain": [
              "array([0.36951469, 0.18434927, 0.11815159, 0.07334252, 0.06422108,\n",
              "       0.05051724, 0.03954654, 0.02643918, 0.02389319, 0.01629614,\n",
              "       0.01380021, 0.01172226, 0.00820609])"
            ]
          },
          "metadata": {
            "tags": []
          },
          "execution_count": 29
        }
      ]
    }
  ]
}