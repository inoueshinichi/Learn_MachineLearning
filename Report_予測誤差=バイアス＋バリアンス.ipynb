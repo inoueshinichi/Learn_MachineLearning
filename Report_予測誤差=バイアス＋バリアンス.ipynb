{
 "cells": [
  {
   "cell_type": "markdown",
   "metadata": {},
   "source": [
    "# モデルの汎化性能"
   ]
  },
  {
   "cell_type": "markdown",
   "metadata": {},
   "source": [
    "### 予測誤差の平均 = バイアス + バリアンス"
   ]
  },
  {
   "cell_type": "markdown",
   "metadata": {},
   "source": [
    "バイアス・・・観測データが変わったときに平均的にどれくらい予測するかという指標"
   ]
  },
  {
   "cell_type": "markdown",
   "metadata": {},
   "source": [
    "バリアンス・・・観測データが変わったときにどのくらい予測値がばらつくかという指標"
   ]
  },
  {
   "cell_type": "markdown",
   "metadata": {},
   "source": [
    "$$\n",
    "    E_D\\Bigl[\\bigr(f(x)-\\hat{f_D}(x)\\bigl)^2\\Bigr]=\\Bigl(f(x)-E_D[\\hat{f_D}(x)]\\Bigl)^2+E_D\\Bigl[\\bigl(\\hat{f_D}(x)-E_D[\\hat{f}(x)]\\bigr)^2\\Bigr]\n",
    "$$"
   ]
  },
  {
   "cell_type": "markdown",
   "metadata": {},
   "source": [
    "バイアスだけを見て，汎化性能の判断は禁物。なぜなら，平均値が目的値に達していても，ばらつきが大きい場合があるから。観測データによっては大きな誤差を生む可能性がある。"
   ]
  },
  {
   "cell_type": "markdown",
   "metadata": {},
   "source": [
    "### 以下の関数を線形回帰と多項式回帰で予測して，両者のバイアスとバリアンスを比較する実験"
   ]
  },
  {
   "cell_type": "markdown",
   "metadata": {},
   "source": [
    "$$\n",
    "    y = \\frac{1}{1+x}\\quad(0 \\leq x \\leq 5)\n",
    "$$"
   ]
  },
  {
   "cell_type": "markdown",
   "metadata": {},
   "source": [
    "以下を10万回繰り返す"
   ]
  },
  {
   "cell_type": "markdown",
   "metadata": {},
   "source": [
    "1. $0 \\leq x \\leq5$の範囲に5点をランダムに取り，それらについて$f(x)=\\frac{1}{1+x}$を計算する\n",
    "2. 上記のデータにより，線形回帰と多項式回帰をそれぞれ学習させる\n",
    "3. 0から5まで0.01刻みに予測値を，線形回帰と多項式回帰のそれぞれについて計算する\n",
    "\n",
    "最後に0から5まで0.01刻みに予測値の平均を，線形回帰と多項式回帰それぞれについて計算し，図示する"
   ]
  },
  {
   "cell_type": "code",
   "execution_count": 7,
   "metadata": {},
   "outputs": [],
   "source": [
    "import numpy as np\n",
    "import matplotlib.pyplot as plt\n",
    "import warnings\n",
    "from scipy import linalg\n",
    "% matplotlib inline\n",
    "\n",
    "class LinearRegression:\n",
    "    def __init__(self):\n",
    "        self.w_ = None\n",
    "        \n",
    "    def fit(self, X, t):\n",
    "        Xtil = np.c_[np.ones(X.shape[0]), X]\n",
    "        A = np.dot(Xtil.T, Xtil)\n",
    "        b = np.dot(Xtil.T, t)\n",
    "        self.w_ = linalg.solve(A, b)\n",
    "        \n",
    "    def predict(self, X):\n",
    "        Xtil = np.c_[np.ones(X.shape[0]), X]\n",
    "        return np.dot(Xtil, self.w_)\n",
    "    \n",
    "class PolynominalRegression:\n",
    "    def __init__(self, degree):\n",
    "        self.degree_ = degree\n",
    "        \n",
    "    def fit(self, X, t):\n",
    "        x_pow = []\n",
    "        x = X.reshape(len(X), 1)\n",
    "        for i in range(1, self.degree_ + 1):\n",
    "            x_pow.append(x**i) # x_iの累乗の縦ベクトル\n",
    "        mat = np.concatenate(x_pow, axis=1) # 列方向に連結\n",
    "        \n",
    "        linreg = LinearRegression()\n",
    "        linreg.fit(mat, t)\n",
    "        self.w_ = linreg.w_\n",
    "        \n",
    "    def predict(self, X):\n",
    "        r = 0\n",
    "        for i in range(self.degree_ + 1):\n",
    "            r += X**i * self.w_[i]\n",
    "        return r"
   ]
  },
  {
   "cell_type": "code",
   "execution_count": 8,
   "metadata": {},
   "outputs": [],
   "source": [
    "def f(x):\n",
    "    return 1 / (x + 1)\n",
    "\n",
    "def sample(n):\n",
    "    x = np.random.random(n) * 5\n",
    "    y = f(x)\n",
    "    return x, y"
   ]
  },
  {
   "cell_type": "code",
   "execution_count": 9,
   "metadata": {},
   "outputs": [
    {
     "data": {
      "image/png": "[encoded data removed]",
      "text/plain": [
       "<Figure size 432x288 with 1 Axes>"
      ]
     },
     "metadata": {},
     "output_type": "display_data"
    }
   ],
   "source": [
    "xx = np.arange(0, 5, 0.01)\n",
    "np.random.seed(0)\n",
    "y_poly_sum = np.zeros(len(xx))\n",
    "y_lin_sum = np.zeros(len(xx))\n",
    "n = 100000\n",
    "warnings.filterwarnings(\"ignore\")\n",
    "\n",
    "for _ in range(n):\n",
    "    x, y = sample(5)\n",
    "    poly = PolynominalRegression(4) # ４乗まで\n",
    "    poly.fit(x, y)\n",
    "    lin = LinearRegression()\n",
    "    lin.fit(x, y)\n",
    "    y_poly = poly.predict(xx)\n",
    "    y_poly_sum += y_poly\n",
    "    y_lin = lin.predict(xx)\n",
    "    y_lin_sum += y_lin\n",
    "    \n",
    "fig, ax = plt.subplots()\n",
    "ax.plot(xx, f(xx), label=\"truth\", color=\"k\", linestyle=\"solid\")\n",
    "ax.plot(xx, y_poly_sum / n, label=\"polynominal reg.\", color=\"k\", linestyle=\"dotted\")\n",
    "ax.plot(xx, y_lin_sum / n, label=\"linear reg.\", color=\"k\", linestyle=\"dashed\")\n",
    "ax.legend()\n",
    "plt.show()"
   ]
  },
  {
   "cell_type": "markdown",
   "metadata": {},
   "source": [
    "結果から多項式回帰の方が真値(truth)によく当てはまっているように見える。ここで，わかることは，__「5点を取って全体を予測する」ということを多く繰り返して，平均を取ると線形回帰より多項式回帰のほうが真値に近くなる！__"
   ]
  },
  {
   "cell_type": "markdown",
   "metadata": {},
   "source": [
    "なので，多項式回帰の方が良いモデル！と結論づけようとしたくなるが，__まだバリアンスを確認していない！__"
   ]
  },
  {
   "cell_type": "code",
   "execution_count": 10,
   "metadata": {},
   "outputs": [
    {
     "data": {
      "image/png": "[encoded data removed]",
      "text/plain": [
       "<Figure size 432x288 with 2 Axes>"
      ]
     },
     "metadata": {},
     "output_type": "display_data"
    }
   ],
   "source": [
    "xx = np.arange(0, 5, 0.01)\n",
    "np.random.seed(0)\n",
    "y_poly_sum = np.zeros(len(xx))\n",
    "y_lin_sum = np.zeros(len(xx))\n",
    "y_poly_sum_sq = np.zeros(len(xx))\n",
    "y_lin_sum_sq = np.zeros(len(xx))\n",
    "y_true = f(xx)\n",
    "\n",
    "n = 100000\n",
    "warnings.filterwarnings(\"ignore\")\n",
    "\n",
    "for _ in range(n):\n",
    "    x, y = sample(5)\n",
    "    poly = PolynominalRegression(4) # ４乗まで\n",
    "    poly.fit(x, y)\n",
    "    lin = LinearRegression()\n",
    "    lin.fit(x, y)\n",
    "    y_poly = poly.predict(xx)\n",
    "    y_poly_sum += y_poly\n",
    "    y_poly_sum_sq += (y_poly - y_true)**2 # 予測誤差全体\n",
    "    y_lin = lin.predict(xx)\n",
    "    y_lin_sum += y_lin\n",
    "    y_lin_sum_sq += (y_lin - y_true)**2 # 予測誤差全体\n",
    "    \n",
    "fig = plt.figure()\n",
    "ax1 = fig.add_subplot(121)\n",
    "ax2 = fig.add_subplot(122)\n",
    "ax1.set_title(\"Linear reg.\")\n",
    "ax2.set_title(\"Polynominal reg.\")\n",
    "ax1.set_ylim(0, 1)\n",
    "ax2.set_ylim(0, 1)\n",
    "\n",
    "ax1.fill_between(xx, 0, (y_true - y_lin_sum / n)**2, color=\"0.2\", label=\"bias\")\n",
    "ax1.fill_between(xx, (y_true - y_lin_sum / n)**2, y_lin_sum_sq / n, color=\"0.7\", label=\"variance\")\n",
    "ax1.legend(loc=\"upper left\")\n",
    "\n",
    "ax2.fill_between(xx, 0, (y_true - y_poly_sum / n)**2, color=\"0.2\", label=\"bias\")\n",
    "ax2.fill_between(xx, (y_true - y_poly_sum / n)**2, y_poly_sum_sq / n, color=\"0.7\", label=\"variance\")\n",
    "ax2.legend(loc=\"upper left\")\n",
    "plt.show()"
   ]
  },
  {
   "cell_type": "markdown",
   "metadata": {},
   "source": [
    "積み上げグラフの差分がバリアンス。多項式回帰の方が，$x>3$の範囲でバリアンスが著しく増加している。\n",
    "結果として，グラフの右側では予測値と真値の差がおおきくばらつく。平均を取ると真の曲線に当てはまっているが，\n",
    "大きく上や下に外すことも多い事がわかる。"
   ]
  },
  {
   "cell_type": "markdown",
   "metadata": {},
   "source": [
    "対策として，ホールド・アウト検証やクロスバリデーションを行う。"
   ]
  },
  {
   "cell_type": "code",
   "execution_count": null,
   "metadata": {},
   "outputs": [],
   "source": []
  }
 ],
 "metadata": {
  "kernelspec": {
   "display_name": "Python 3",
   "language": "python",
   "name": "python3"
  },
  "language_info": {
   "codemirror_mode": {
    "name": "ipython",
    "version": 3
   },
   "file_extension": ".py",
   "mimetype": "text/x-python",
   "name": "python",
   "nbconvert_exporter": "python",
   "pygments_lexer": "ipython3",
   "version": "3.6.8"
  }
 },
 "nbformat": 4,
 "nbformat_minor": 2
}
