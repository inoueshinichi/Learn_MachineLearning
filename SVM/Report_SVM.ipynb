{
 "cells": [
  {
   "cell_type": "markdown",
   "metadata": {},
   "source": [
    "# SVM"
   ]
  },
  {
   "cell_type": "markdown",
   "metadata": {},
   "source": [
    "2種類のラベルのついた点群をラベルに応じて超平面で分割することを考える。  \n",
    "2次元データの場合は，以下のような直線(超平面)が考えられる。"
   ]
  },
  {
   "cell_type": "markdown",
   "metadata": {},
   "source": [
    "1\n",
    "<img src=\"./SVM_data/SVM_concept/スライド1.png\" width=\"640\" height=\"480\">"
   ]
  },
  {
   "cell_type": "markdown",
   "metadata": {},
   "source": [
    "2\n",
    "<img src=\"./SVM_data/SVM_concept/スライド2.png\" width=\"640\" height=\"480\">"
   ]
  },
  {
   "cell_type": "markdown",
   "metadata": {},
   "source": [
    "3\n",
    "<img src=\"./SVM_data/SVM_concept/スライド3.png\" width=\"640\" height=\"480\">"
   ]
  },
  {
   "cell_type": "markdown",
   "metadata": {},
   "source": [
    "4\n",
    "<img src=\"./SVM_data/SVM_concept/スライド4.png\" width=\"640\" height=\"480\">"
   ]
  },
  {
   "cell_type": "markdown",
   "metadata": {},
   "source": [
    "分類直線の式  \n",
    "$$\n",
    "    \\boldsymbol{y}=w_0 + \\sum_{i=1}^{n}w_{i}x_{i}=w_{0} + \\boldsymbol{w}^{T}\\boldsymbol{x}\n",
    "$$  \n",
    "$\\boldsymbol{w}^{T}\\boldsymbol{x}$の符号が分類のラベルを意味する。($y_{i}=-1 \\:または\\: y_{i}=1$)"
   ]
  },
  {
   "cell_type": "markdown",
   "metadata": {},
   "source": [
    "ラベルを持つデータ点が正しく分類されている場合は$y_{i}(w_{0}+\\boldsymbol{w}^{T}\\boldsymbol{x}_{i})>0$となる。"
   ]
  },
  {
   "cell_type": "markdown",
   "metadata": {},
   "source": [
    "すべてのデータが正しく分類されるという仮定のもとでは、  \n",
    "i番目の点から直線への距離は  \n",
    "$$\n",
    "    \\frac{y_{i}(w_{0}+\\boldsymbol{w}^{T}\\boldsymbol{x}_{i})}{||\\boldsymbol{w}||}\n",
    "$$"
   ]
  },
  {
   "cell_type": "markdown",
   "metadata": {},
   "source": [
    "マージン最大化の数式表現  \n",
    "$$\n",
    "    Max_{w_{0}, \\boldsymbol{w}} \\:Min_{i} \\frac{y_{i}(w_{0}+\\boldsymbol{w}^{T}\\boldsymbol{x}_{i})}{||\\boldsymbol{w}||}\n",
    "$$  \n",
    "1. 直線(超平面)を仮置きする。\n",
    "2. 直線に対して最も近いデータ点の距離を求める。\n",
    "3. マージンを最大化する。  "
   ]
  },
  {
   "cell_type": "markdown",
   "metadata": {},
   "source": [
    "$||\\boldsymbol{w}||$はiに依存しないので，$\\frac{1}{||\\boldsymbol{w}||}$を$Min_{i}$の外に出せて，次の最適化問題を考えることと同じになる。"
   ]
  },
  {
   "cell_type": "markdown",
   "metadata": {},
   "source": [
    "$$\n",
    "    Max_{w_{0}, \\boldsymbol{w}}\\; \\frac{1}{||\\boldsymbol{w}||}\\:Min_{i}y_{i}(w_{0} + \\boldsymbol{w}^{T}\\boldsymbol{x}_{i})\n",
    "$$"
   ]
  },
  {
   "cell_type": "markdown",
   "metadata": {},
   "source": [
    "ここで$w_{0}$と$\\boldsymbol{w}$のすべての要素を$\\kappa$倍して，$w_{0} \\rightarrow \\kappa w_{0}$，$\\boldsymbol{w} \\rightarrow \\kappa\\boldsymbol{w}$と置き換えたとしても，$\\frac{1}{||\\boldsymbol{w}||}$の分母から$\\kappa$がでてきて，$w_{0} + \\boldsymbol{w}^{T}\\boldsymbol{x}_{i}$からも$\\kappa$が出てきて約分されて，元の式と同じになるので，$min_{i}y_{i}(w_{0} + \\boldsymbol{w}^{T}\\boldsymbol{x}_{i})$は1の場合のみを考えても問題ない。"
   ]
  },
  {
   "cell_type": "markdown",
   "metadata": {},
   "source": [
    "よって，最適化問題は次に簡略化できる。\n",
    "$$\n",
    "    Max_{w_{0}, \\boldsymbol{w}}\\frac{1}{||\\boldsymbol{w}||}\n",
    "$$"
   ]
  },
  {
   "cell_type": "markdown",
   "metadata": {},
   "source": [
    "ただし，ここでは制約式として$min_{i}y_{i}(w_{0} + \\boldsymbol{w}^{T}\\boldsymbol{x}_{i})=1$と$y_{i}(w_{0}+\\boldsymbol{w}^{T}\\boldsymbol{x}_{i})>0$を考えなければならない。すなわち，  \n",
    "制約式\n",
    "$$\n",
    "    y_{i}(w_{0}+\\boldsymbol{w}^{T}\\boldsymbol{x}_{i})\\ge1\n",
    "$$"
   ]
  },
  {
   "cell_type": "markdown",
   "metadata": {},
   "source": [
    "次に$\\frac{1}{||\\boldsymbol{w}||}$を最大化することは$\\boldsymbol{||w||}$を最小化することと同じであり，$||\\boldsymbol{w}||$を最小化したときに得られる$w_{0}, \\boldsymbol{w}$は,$\\frac{1}{2}||\\boldsymbol{w}||^{2}$を最大化したときと変わらないので，次の最適化問題に簡略化できる。"
   ]
  },
  {
   "cell_type": "markdown",
   "metadata": {},
   "source": [
    "$$\n",
    "    Min_{w_{0}, \\boldsymbol{w}}\\;\\frac{1}{2}||\\boldsymbol{w}||^{2} \\\\\n",
    "    s.t\\: y_{i}(w_{0} + \\boldsymbol{w}^{T}\\boldsymbol{x}_{i})\\ge1\n",
    "$$"
   ]
  },
  {
   "cell_type": "markdown",
   "metadata": {},
   "source": [
    "これをラグランジュの未定乗数法で解く。制約式がデータ点の数だけn個あるので，ベクトル変数$\\boldsymbol{a}=(a_1, a_2, \\cdots ,a_n)^{T}$を導入して，ラグランジュ関数は  \n",
    "  \n",
    "$$\n",
    "    L(w_{0}, \\boldsymbol{w}, \\boldsymbol{a})=\\frac{1}{2}||\\boldsymbol{w}||^{2} - \\sum_{i=1}^{n}a_{i}\\bigl( y_{i}(w_{0} + \\boldsymbol{w}^{T}\\boldsymbol{x}_{i} - 1) \\bigr)\n",
    "$$"
   ]
  },
  {
   "cell_type": "markdown",
   "metadata": {},
   "source": [
    "$w_{0}$と$\\boldsymbol{w}$についての偏微分が0という条件より  \n",
    "  \n",
    "$$\n",
    "    \\frac{\\partial}{\\partial w_{0}}L(w_{0}, \\boldsymbol{w}, \\boldsymbol{a})=-\\sum_{i=1}^{n}a_{i}y_{i}=0 \\\\\n",
    "    \\frac{\\partial}{\\partial \\boldsymbol{w}}L(w_{0}, \\boldsymbol{w}, \\boldsymbol{a})=w_{j} - \\sum_{i=1}^{n}a_{i}y_{i}x_{ij}=0\n",
    "$$\n",
    "より  \n",
    "$$\n",
    "    ∴\\sum_{i=1}^{n}a_{i}y_{i}=0 ・・・(1)\\\\\n",
    "    ∴w_{j}=\\sum_{i=1}^{n}a_{i}y_{i}x_{ij}\\quad(j=1,2,\\cdots,d)・・・(2)\n",
    "$$"
   ]
  },
  {
   "cell_type": "markdown",
   "metadata": {},
   "source": [
    "KKT条件は"
   ]
  },
  {
   "cell_type": "markdown",
   "metadata": {},
   "source": [
    "$$\n",
    "    a_{i} \\ge 0 \\\\\n",
    "    -y_{i}(w_{0} + \\boldsymbol{w}^{T}\\boldsymbol{x}_{i}) + 1 \\le 0 \\\\\n",
    "    a_{i}\\bigl(y_{i}(w_{0} + \\boldsymbol{w}^{T}\\boldsymbol{x}_{i}) - 1 \\bigr) = 0\n",
    "$$"
   ]
  },
  {
   "cell_type": "markdown",
   "metadata": {},
   "source": [
    "これらをラグランジュ関数Lに代入する。式が長いので，別々に計算する。"
   ]
  },
  {
   "cell_type": "markdown",
   "metadata": {},
   "source": [
    "第一項(n:データ数, d:特徴量数)  \n",
    "(2)を代入  \n",
    "$$\n",
    "    \\begin{align}\n",
    "    \\frac{1}{2}||\\boldsymbol{w}||^{2} &= \\frac{1}{2}\\sum_{j=1}^{d}\\boldsymbol{w}_{j}^{2} \\\\\n",
    "    &= \\frac{1}{2}\\sum_{j=1}^{d}\\biggl( \\sum_{i=1}^{n}a_{i}y_{i}x_{ij} \\biggr)^{2} \\\\\n",
    "    &= \\frac{1}{2}\\sum_{j=1}^{d}\\biggl( \\sum_{k=1}^{n}a_{k}y_{k}x_{kj} \\biggr)\\biggl( \\sum_{l=1}^{n}a_{l}y_{l}x_{lj} \\biggr) \\\\\n",
    "    &= \\frac{1}{2}\\sum_{j=1}^{d}\\sum_{k=1}^{n}\\sum_{l=1}^{n}a_{k}a_{l}y_{k}y_{l}x_{kj}x_{lj} \\\\\n",
    "    &= \\frac{1}{2}\\sum_{k=1}^{n}\\sum_{l=1}^{n}\\biggl(a_{k}a_{l}y_{k}y_{l}x_{k1}x_{l1} + a_{k}a_{l}y_{k}y_{l}x_{k2}x_{l2} + \\cdots a_{k}a_{l}y_{k}y_{l}x_{kd}x_{ld}\\biggr) \\\\\n",
    "    &= \\frac{1}{2}\\sum_{k=1}^{n}\\sum_{l=1}^{n}\\Biggl(a_{k}a_{l}y_{k}y_{l}\\bigl(x_{k1}x_{l1} + \\cdots + x_{kd}x_{ld}\\bigr)\\Biggr) \\\\\n",
    "    &= \\frac{1}{2}\\sum_{k=1}^{n}\\sum_{l=1}^{n}a_{k}a_{l}y_{k}y_{l}\\boldsymbol{x}_{k}^{T}\\boldsymbol{x}_{l}\n",
    "    \\end{align}    \n",
    "$$"
   ]
  },
  {
   "cell_type": "markdown",
   "metadata": {},
   "source": [
    "第二項(n:データ数, d:特徴量数)  \n",
    "(2)を代入  \n",
    "$$\n",
    "    \\begin{align}\n",
    "        - \\sum_{i=1}^{n}a_{i}\\bigl( y_{i}(w_{0} + \\boldsymbol{w}^{T}\\boldsymbol{x}_{i} - 1) \\bigr) & = \n",
    "        - \\sum_{i=1}^{n}a_{i}\\Biggl(y_{i}\\bigl(w_{0} + \\sum_{l=1}^{n}a_{l}y_{l}\\sum_{j=1}^{d}x_{lj}x_{ij}\\bigr) - 1\\Biggr)\\\\\n",
    "        &= -w_{0}\\sum_{i=1}^{n}a_{i}y_{i} - \\sum_{i=1}^{n}\\sum_{l=1}^{n}a_{i}y_{i}a_{l}y_{l}\\boldsymbol{x}_{l}^{T}\\boldsymbol{x}_{i} + \\sum_{i=1}^{n}a_{i}・・・(1)を代入\\\\\n",
    "        &= - \\sum_{i=1}^{n}\\sum_{l=1}^{n}a_{i}y_{i}a_{l}y_{l}\\boldsymbol{x}_{l}^{T}\\boldsymbol{x}_{i} + \\sum_{i=1}^{n}a_{i}\n",
    "    \\end{align}\n",
    "$$"
   ]
  },
  {
   "cell_type": "markdown",
   "metadata": {},
   "source": [
    "したがって，ラグランジュ関数は(index kとiは同じ)"
   ]
  },
  {
   "cell_type": "markdown",
   "metadata": {},
   "source": [
    "$$\n",
    "\\begin{align}\n",
    "    L(w_{0}, \\boldsymbol{w}, \\boldsymbol{a}) &= \\frac{1}{2}\\sum_{i=1}^{n}\\sum_{l=1}^{n}a_{i}a_{l}y_{i}y_{l}\\boldsymbol{x}_{i}^{T}\\boldsymbol{x}_{l} - \\sum_{i=1}^{n}\\sum_{l=1}^{n}a_{i}y_{i}a_{l}y_{l}\\boldsymbol{x}_{l}^{T}\\boldsymbol{x}_{i} + \\sum_{i=1}^{n}a_{i} \\\\\n",
    "    &= \\sum_{i=1}^{n}a_{i} - \\frac{1}{2}\\sum_{i=1}^{n}\\sum_{l=1}^{n}a_{i}a_{l}y_{i}y_{l}\\boldsymbol{x}_{i}^{T}\\boldsymbol{x}_{l}\n",
    "\\end{align}\n",
    "$$"
   ]
  },
  {
   "cell_type": "markdown",
   "metadata": {},
   "source": [
    "つまり，$w_{0}$，$\\boldsymbol{w}$，$\\boldsymbol{a}$の変数についての最適化問題だったものが$\\boldsymbol{a}$だけの2次最適化問題になった。  \n",
    "制約式は$a$に関するものだけを選べばよい。"
   ]
  },
  {
   "cell_type": "markdown",
   "metadata": {},
   "source": [
    "双対形のラグランジュ関数 変数は$\\boldsymbol{a}$のみなので$f(\\boldsymbol{a})$となる  \n",
    "$$\n",
    "    Max\\;f(\\boldsymbol{a}) = \\sum_{i=1}^{n}a_{k} - \\frac{1}{2} \\sum_{i=1}^{n} \\sum_{l=1}^{n} a_{i} a_{l} y_{i} y_{l} \\boldsymbol{x}_{i}^{T}\\boldsymbol{x}_{l} ・・・(3)\\\\\n",
    "    -\\frac{1}{2}\\boldsymbol{a}^{T}diag(y_{1}y_{1}\\boldsymbol{x}_{1}^{T}\\boldsymbol{x}_{1},\n",
    "                     y_{1}y_{2}\\boldsymbol{x}_{1}^{T}\\boldsymbol{x}_{2},\n",
    "                     \\cdots,\n",
    "                     y_{n}y_{n-1}\\boldsymbol{x}_{n}^{T}\\boldsymbol{x}_{n-1},\n",
    "                     y_{n}y_{n}\\boldsymbol{x}_{n}^{T}\\boldsymbol{x}_{n})\\boldsymbol{a}\n",
    "                     + \\boldsymbol{1}^{T}\\boldsymbol{a} \\\\\n",
    "    s.t \\\\\n",
    "    \\sum_{i=1}^{n}a_{i}y_{i}=0 線形制約\\\\\n",
    "    \\quad a_{i}\\ge0 \\\\\n",
    "    a_{i}\\biggl(y_{i}(w_{0} + \\boldsymbol{w}^{T}\\boldsymbol{x}_{i}) - 1 \\biggr) = 0\n",
    "$$"
   ]
  },
  {
   "cell_type": "markdown",
   "metadata": {},
   "source": [
    "これを__汎用の2次計画問題ソルバ__で解くこともできる(非線形凸関数最適化の勾配降下法も使える)が，線形成約の特性着目してソルバより効率の良いアルゴリズムがある"
   ]
  },
  {
   "cell_type": "markdown",
   "metadata": {},
   "source": [
    "## Platのアルゴリズム (SMO: Sequential Minimum Optimizer) \n",
    "  \n",
    "最後の制約式 $a_{i}\\biggl(y_{i}(w_{0} + \\boldsymbol{w}^{T}\\boldsymbol{x}_{i}) - 1 \\biggr) = 0$について  \n",
    "$y_{i}(w_{0} + \\boldsymbol{w}^{T}\\boldsymbol{x}_{i}) \\neq 1$のときは，$a_{i}=0$となる。\n",
    "一方，$y_{i}(w_{0} + \\boldsymbol{w}^{T}\\boldsymbol{x}_{i}) = 1$のときは$a_{i}\\ge0$で,このときのデータ点$\\boldsymbol{x}_{i}$はサポートベクトルであり，マージン境界線上に乗っている。  \n",
    "つまり，サポートベクトルに対応するラグランジュ変数$a_{i}$だけを考えれば良い。"
   ]
  },
  {
   "cell_type": "markdown",
   "metadata": {},
   "source": [
    "最適化問題(3)はパラメータ数が多い複雑な2次計画問題のように見えるが，サポートベクトルと対応するラグランジュ変数$a_{i}$だけを考えれば，  \n",
    "残りのパラメータは無視できる。"
   ]
  },
  {
   "cell_type": "markdown",
   "metadata": {},
   "source": [
    "### アルゴリズム概要  \n",
    "・初期値$\\boldsymbol{a}^{0}$を選び，以下を繰り返す。  \n",
    "1. ある基準にもとづいてインデックス$i,j$を選択する。\n",
    "2. $a_{i}$と$a_{j}$だけを動かして，他を固定して最適な$a_{i}, a_{j}$を求める。"
   ]
  },
  {
   "cell_type": "markdown",
   "metadata": {},
   "source": [
    "### 先に2.の$a_{i}$と$a_{j}$の最適化方法について  \n",
    "・サポートベクターが決まり、分類直線までのマージンを最大化することに相当"
   ]
  },
  {
   "cell_type": "markdown",
   "metadata": {},
   "source": [
    "制約条件が意味するのは、どれかひとつの変数$a_{i}$ の値を変える場合は、その変化分を補償するように, (最低で)もうひとつ別の変数$a_{j}$も動かさなければならない。そして、その2変数$a_{i}, a_{j}$だけを動かす場合であれば、最大値をとる解は解析的に求めることができる。  \n",
    "これを利用して$\\boldsymbol{a}=(a_{1},a_{2},\\cdots,a_{n})$から2つを選んで値を変えるという行為を必要な回数だけ繰り返すことで、逐次的にグローバルな最適解に近づけていく。"
   ]
  },
  {
   "cell_type": "markdown",
   "metadata": {},
   "source": [
    "まず，最適化される式をインデックス$i,j$とそれ以外に分離する。"
   ]
  },
  {
   "cell_type": "markdown",
   "metadata": {},
   "source": [
    "第二項について$\\sum_{i=1}^{n}\\sum_{l=1}^{n}$の部分を分解する。※インデックスiを使うため，既存のiをkに変更。\n",
    "$$\n",
    "\\begin{align}\n",
    "    \\sum_{i=1}^{n}\\sum_{l=1}^{n}a_{i}a_{l}y_{i}y_{l}\\boldsymbol{x}_{i}^{T}\\boldsymbol{x}_{l}\n",
    "    &= \\bigl(\\sum_{k=1}^{n}a_{k}y_{k}\\boldsymbol{x}_{k}^{T}\\bigr)\\bigl(\\sum_{l=1}^{n}a_{l}y_{l}\\boldsymbol{x}_{l}\\bigr)  \\\\\n",
    "    &= \\bigl(a_{i}y_{i}\\boldsymbol{x}_{i}^{T} + a_{j}y_{j}\\boldsymbol{x}_{j}^{T} + \\sum_{k \\neq i,j}^{n-2}a_{k}y_{k}\\boldsymbol{x}_{k}^{T}\\bigr)\\bigl(a_{i}y_{i}\\boldsymbol{x}_{i} + a_{j}y_{j}\\boldsymbol{x}_{j} + \\sum_{l \\neq i,j}^{n-2}a_{l}y_{l}\\boldsymbol{x}_{l}^{T}\\bigr)  \\\\\n",
    "    &= a_{i}^{2}y_{i}^{2}\\boldsymbol{x}_{i}^{T}\\boldsymbol{x}_{i} + a_{j}^{2}y_{j}^{2}\\boldsymbol{x}_{j}^{T}\\boldsymbol{x}_{j} + 2a_{i}a_{j}y_{i}y_{j}\\boldsymbol{x}_{i}^{T}\\boldsymbol{x}_{j} + 2\\sum_{k \\neq i,j}^{n-2}a_{i}a_{k}y_{i}y_{k}\\boldsymbol{x}_{i}^{T}\\boldsymbol{x}_{k} + 2\\sum_{k \\neq i,j}^{n-2}a_{j}a_{k}y_{j}y_{k}\\boldsymbol{x}_{j}^{T}\\boldsymbol{x}_{k} + \\sum_{k \\neq i,j}^{n-2}\\sum_{l \\neq i,j}^{n-2}a_{k}a_{l}y_{k}y_{l}\\boldsymbol{x}_{k}^{T}\\boldsymbol{x}_{l}  \\\\\n",
    "    &= a_{i}^{2}\\boldsymbol{x}_{i}^{T}\\boldsymbol{x}_{i} + a_{j}^{2}\\boldsymbol{x}_{j}^{T}\\boldsymbol{x}_{j} + 2a_{i}a_{j}y_{i}y_{j}\\boldsymbol{x}_{i}^{T}\\boldsymbol{x}_{j} + 2a_{i}y_{i}\\boldsymbol{x}_{i}^{T}\\sum_{k \\neq i,j}^{n-2}a_{k}y_{k}\\boldsymbol{x}_{k} + 2a_{j}y_{j}\\boldsymbol{x}_{j}^{T}\\sum_{k \\neq i,j}^{n-2}a_{k}y_{k}\\boldsymbol{x}_{k} + \\sum_{k \\neq i,j}^{n-2}\\sum_{l \\neq i,j}^{n-2}a_{k}a_{l}y_{k}y_{l}\\boldsymbol{x}_{k}^{T}\\boldsymbol{x}_{l}・・・(y_{i}^{2}=1, y_{j}^{2}=1)\n",
    "\\end{align}\n",
    "$$"
   ]
  },
  {
   "cell_type": "markdown",
   "metadata": {},
   "source": [
    "最大化したい関数$f(\\boldsymbol{a})$は  \n",
    "\n",
    "$$\n",
    "\\begin{align}\n",
    "    f(\\boldsymbol{a}) &= \\sum_{k \\neq i,j}^{n-2}a_{k} + a_{i} + a_{j} - \\frac{1}{2}\\Biggl( a_{i}^{2}\\boldsymbol{x}_{i}^{T}\\boldsymbol{x}_{i} + a_{j}^{2}\\boldsymbol{x}_{j}^{T}\\boldsymbol{x}_{j} + 2a_{i}a_{j}y_{i}y_{j}\\boldsymbol{x}_{i}^{T}\\boldsymbol{x}_{j} + 2a_{i}y_{i}\\boldsymbol{x}_{i}^{T}\\sum_{k \\neq i,j}^{n-2}a_{k}y_{k}\\boldsymbol{x}_{k} + 2a_{j}y_{j}\\boldsymbol{x}_{j}^{T}\\sum_{k \\neq i,j}^{n-2}a_{k}y_{k}\\boldsymbol{x}_{k} + \\sum_{k \\neq i,j}^{n-2}\\sum_{l \\neq i,j}^{n-2}a_{k}a_{l}y_{k}y_{l}\\boldsymbol{x}_{k}^{T}\\boldsymbol{x}_{l} \\Biggr)  \\\\\n",
    "    &= \\sum_{k \\neq i,j}^{n-2}a_{k} - \\frac{1}{2}a_{i}^{2}\\boldsymbol{x}_{i}^{T}\\boldsymbol{x}_{i} - \\frac{1}{2}a_{j}^{2}\\boldsymbol{x}_{j}^{T}\\boldsymbol{x}_{j} - a_{i}a_{j}y_{i}y_{j}\\boldsymbol{x}_{i}^{T}\\boldsymbol{x}_{j} + a_{i}\\biggl(1 - y_{i}\\boldsymbol{x}_{i}^{T}\\sum_{k \\neq i,j}^{n-2}a_{k}y_{k}\\boldsymbol{x}_{k}\\biggr) + a_{j}\\biggl(1 - y_{j}\\boldsymbol{x}_{j}^{T}\\sum_{k \\neq i,j}^{n-2}a_{k}y_{k}\\boldsymbol{x}_{k}\\biggr) - \\frac{1}{2}\\sum_{k \\neq i,j}^{n-2}\\sum_{l \\neq i,j}^{n-2}a_{k}a_{l}y_{k}y_{l}\\boldsymbol{x}_{k}^{T}\\boldsymbol{x}_{l}\n",
    "\\end{align}\n",
    "$$"
   ]
  },
  {
   "cell_type": "markdown",
   "metadata": {},
   "source": [
    "ここで,  \n",
    "$A = -\\frac{1}{2}\\boldsymbol{x}_{i}^{T}\\boldsymbol{x}_{i}$  \n",
    "$B = -\\frac{1}{2}\\boldsymbol{x}_{j}^{T}\\boldsymbol{x}_{j}$  \n",
    "$C = -y_{i}y_{j}\\boldsymbol{x}_{i}^{T}\\boldsymbol{x}_{j}$  \n",
    "$D = 1 - y_{i}\\boldsymbol{x}_{i}^{T}\\sum_{k \\neq i,j}^{n-2}a_{k}y_{k}\\boldsymbol{x}_{k}$  \n",
    "$E = 1 - y_{j}\\boldsymbol{x}_{j}^{T}\\sum_{k \\neq i,j}^{n-2}a_{k}y_{k}\\boldsymbol{x}_{k}$  \n",
    "$F = \\sum_{k \\neq i,j}^{n-2}a_{k} - \\frac{1}{2}\\sum_{k \\neq i,j}^{n-2}\\sum_{l \\neq i,j}^{n-2}a_{k}a_{l}y_{k}y_{l}\\boldsymbol{x}_{k}^{T}\\boldsymbol{x}_{l}$  \n",
    "と置くと,\n"
   ]
  },
  {
   "cell_type": "markdown",
   "metadata": {},
   "source": [
    "$$\n",
    "    f(\\boldsymbol{a}) = Aa_{i}^{2} + Ba_{j}^{2} + Ca_{i}a_{j} + Da_{i} + Ea_{j} + F・・・(4)\n",
    "$$"
   ]
  },
  {
   "cell_type": "markdown",
   "metadata": {},
   "source": [
    "ここで，(1)の制約式を分離して変形すると，  \n",
    "$$\n",
    "    a_{i}y_{i} + a_{j}a_{j} + \\sum_{k \\neq i,j}^{n-2}a_{k}y_{k} = 0  \\\\\n",
    "    ∴a_{j} = \\frac{1}{y_{j}}\\biggr(-a_{i}y_{i} - \\sum_{k \\neq i,j}^{n-2}a_{k}y_{k}\\biggr)\n",
    "$$  \n",
    "また，$\\sum_{k \\neq i,j}^{n-2}a_{k}y_{k} = G$とおくと，$a_{j} = y_{j}(-a_{i}y_{i} - G)\\:$(ただし，$y_{j}^{2}=1$で$y_{j}=\\frac{1}{y_{j}}$)となり，これを(4)に代入すると"
   ]
  },
  {
   "cell_type": "markdown",
   "metadata": {},
   "source": [
    "$$\n",
    "    f(\\boldsymbol{a}) = Aa_{i}^2 + By_{j}^{2}(-a_{i}y_{i} - G)^{2} + Ca_{i}y_{j}(-a_{i}y_{i} - G) + Da_{i} + Ey_{j}(-a_{i}y_{i} - G) + F  \\\\\n",
    "$$"
   ]
  },
  {
   "cell_type": "markdown",
   "metadata": {},
   "source": [
    "$$\n",
    "    f(\\boldsymbol{a}) = (A + B - y_{i}y_{j}C)a_{i}^{2} + (2y_{i}BG-y_{j}CG+D-y_{i}y_{j}E)a_{i} + (BG^{2} - y_{j}EG + F)\n",
    "$$"
   ]
  },
  {
   "cell_type": "markdown",
   "metadata": {},
   "source": [
    "$$\n",
    "\\begin{align}\n",
    "    (a_{i}^{2}の係数) &= A + B - y_{i}y_{j}C  \\\\\n",
    "    & = -\\frac{1}{2}\\boldsymbol{x}_{i}^{T}\\boldsymbol{x}_{i} -\\frac{1}{2}\\boldsymbol{x}_{j}^{T}\\boldsymbol{x}_{j} - (y_{i}y_{j})(-y_{i}y_{j}\\boldsymbol{x}_{i}^{T}\\boldsymbol{x}_{j})  \\\\\n",
    "    & = -\\frac{1}{2}\\boldsymbol{x}_{i}^{T}\\boldsymbol{x}_{i} -\\frac{1}{2}\\boldsymbol{x}_{j}^{T}\\boldsymbol{x}_{j} + \\boldsymbol{x}_{i}^{T}\\boldsymbol{x}_{j}  \\\\\n",
    "    &= -\\frac{1}{2}(\\boldsymbol{x}_{i} - \\boldsymbol{x}_{j})^{T}(\\boldsymbol{x}_{i} - \\boldsymbol{x}_{j})  \\\\\n",
    "    &= -\\frac{1}{2}||\\boldsymbol{x}_{i} - \\boldsymbol{x}_{j}||^{2}\n",
    "\\end{align}\n",
    "$$"
   ]
  },
  {
   "cell_type": "markdown",
   "metadata": {},
   "source": [
    "$$\n",
    "\\begin{align}\n",
    "    (a_{i}の係数) &= 2y_{i}BG-y_{j}CG+D-y_{i}y_{j}E   \\\\\n",
    "     &= 2y_{i}\\biggl(\\frac{1}{2}\\boldsymbol{x}_{i}^{T}\\boldsymbol{x}_{j}\\biggr)\\biggl(\\sum_{k \\neq i,j}^{n-2}a_{k}y_{k}\\biggr) - y_{j}(-y_{i}y_{j}\\boldsymbol{x}_{i}^{T}\\boldsymbol{x}_{j})\\biggl(\\sum_{k \\neq i,j}^{n-2}a_{k}y_{k}\\biggr) 1 + y_{i}\\boldsymbol{x}_{i}^{T}\\sum_{k \\neq i,j}^{n-2}a_{k}y_{k}\\boldsymbol{x}_{k} - y_{i}y_{j}\\biggl(1 - y_{j}\\boldsymbol{x}_{j}^{T}\\sum_{k \\neq i,j}a_{k}y_{k}x_{k}\\biggr)  \\\\\n",
    "    &= 1 - y_{i}y_{j} + y_{i}\\Biggl[-\\boldsymbol{x}_{j}^{T}\\boldsymbol{x}_{j}\\biggl(\\sum_{k \\neq i,j}^{n-2}a_{k}y_{k}\\biggr) + \\boldsymbol{x}_{i}^{T}\\boldsymbol{x}_{j}\\biggl(\\sum_{k \\neq i,j}^{n-2}a_{k}y_{k}\\biggr) - \\boldsymbol{x}_{i}^{T}\\sum_{k \\neq i,j}^{n-2}a_{k}y_{k}\\boldsymbol{x}_{k} + \\boldsymbol{x}_{j}^{T}\\sum_{k \\neq i,j}^{n-2}a_{k}y_{k}\\boldsymbol{x}_{k}\\Biggr]  \\\\\n",
    "    &= 1 - y_{i}y_{j} + y_{i}\\Biggl[ \\boldsymbol{x}_{i}^{T}\\biggl( \\boldsymbol{x}_{j}\\sum_{k \\neq i,j}^{n-2}a_{k}y_{k} - \\sum_{k \\neq i,j}^{n-2}a_{k}y_{k}\\boldsymbol{x}_{k} \\biggr) - \\boldsymbol{x}_{j}^{T}\\biggl( \\boldsymbol{x}_{j}\\sum_{k \\neq i,j}^{n-2}a_{k}y_{k} - \\sum_{k \\neq i,j}^{n-2}a_{k}y_{k}\\boldsymbol{x}_{k} \\biggr) \\Biggr]  \\\\\n",
    "    &= 1 - y_{i}y_{j} + y_{i}(\\boldsymbol{x}_{i}^{T} - \\boldsymbol{x}_{j}^{T})\\Biggl( \\boldsymbol{x}_{j}\\sum_{k \\neq i,j}^{n-2}a_{k}y_{k} - \\sum_{k \\neq i,j}^{n-2}a_{k}y_{k}\\boldsymbol{x}_{k}  \\Biggr)  \\\\\n",
    "    &= 1 - y_{i}y_{j} + y_{i}(\\boldsymbol{x}_{i} - \\boldsymbol{x}_{j})^{T}\\Biggl( \\boldsymbol{x}_{j}\\sum_{k \\neq i,j}^{n-2}a_{k}y_{k} - \\sum_{k \\neq i,j}^{n-2}a_{k}y_{k}\\boldsymbol{x}_{k}  \\Biggr)\n",
    "\\end{align}\n",
    "$$"
   ]
  },
  {
   "cell_type": "markdown",
   "metadata": {},
   "source": [
    "ここで，2次関数(凸関数)の平方完成による最適解は\n",
    "<img src=\"./SVM_data/2次凸関数の平方完成と極値最適解.png\">  \n",
    "なので，最適解は$-\\frac{b}{2a}$となり"
   ]
  },
  {
   "cell_type": "markdown",
   "metadata": {},
   "source": [
    "$$\n",
    "    \\hat{a_{i}} = \\frac{1}{||\\boldsymbol{x}_{i} - \\boldsymbol{x}_{j}||^{2}}\\Biggl[ 1 - y_{i}y_{j} + y_{i}(\\boldsymbol{x}_{i} - \\boldsymbol{x}_{j})^{T}\\Biggl( \\boldsymbol{x}_{j}\\sum_{k \\neq i,j}^{n-2}a_{k}y_{k} - \\sum_{k \\neq i,j}^{n-2}a_{k}y_{k}\\boldsymbol{x}_{k}  \\Biggr) \\Biggr]\n",
    "$$  \n",
    "が凸関数の最適解となる。$\\hat{a_{i}}$が決まると  \n",
    "$$\n",
    "    \\hat{a_{j}} = y_{i}\\Biggl(-\\hat{a_{i}}y_{i} - \\boldsymbol{x}_{j}\\sum_{k \\neq i,j}^{n-2}a_{k}y_{k}\\Biggr)\n",
    "$$  \n",
    "によって，$\\hat{a_{j}}$が決まる。"
   ]
  },
  {
   "cell_type": "markdown",
   "metadata": {},
   "source": [
    "しかし，ここで制約条件$a_{i}>0, a_{j}>0$を考慮する必要がある。もし，$a_{i}<0$ならば$a_{i}=0$となり$a_{j}<0$ならば$a_{j}=0$が実際の最適解となる。  \n",
    "以上が「$a_{i}>0$と$a_{j}>0$だけを動かして他を固定して最適化する」方法⇐サポートベクターを決めてから分類直線までのマージンを最大化することに相当"
   ]
  },
  {
   "cell_type": "markdown",
   "metadata": {},
   "source": [
    "## 次にインデックスi,jを決める方法"
   ]
  },
  {
   "cell_type": "markdown",
   "metadata": {},
   "source": [
    "$$\n",
    "    i = argmin_{t \\in I_{-}(\\boldsymbol{y}, \\boldsymbol{a})}y_{t}\\nabla f(\\boldsymbol{a})_{t} \\\\ \n",
    "    j = argmin_{t \\in I_{+}(\\boldsymbol{y}, \\boldsymbol{a})}y_{t}\\nabla f(\\boldsymbol{a})_{t}\n",
    "$$"
   ]
  },
  {
   "cell_type": "markdown",
   "metadata": {},
   "source": [
    "$$\n",
    "                I_{-}(\\boldsymbol{y}, \\boldsymbol{a}) = \\{t| y_{t}=-1 または a_{t} > 0\\} \\\\\n",
    "                I_{+}(\\boldsymbol{y}, \\boldsymbol{a}) = \\{t| y_{t}=+1 または a_{t} > 0\\}\n",
    "$$"
   ]
  },
  {
   "cell_type": "markdown",
   "metadata": {},
   "source": [
    "<img src=\"./SVM_data/SVM_concept/スライド6.png\">"
   ]
  },
  {
   "cell_type": "markdown",
   "metadata": {},
   "source": [
    "### インデックスi, jを決める根拠"
   ]
  },
  {
   "cell_type": "markdown",
   "metadata": {},
   "source": [
    "式(3)について、$\\boldsymbol{a}$を変数としてラグランジュの未定乗数法を適用する。"
   ]
  },
  {
   "cell_type": "markdown",
   "metadata": {},
   "source": [
    "目的関数$f(\\boldsymbol{a})$のラグランジュ関数は  \n",
    "$$\n",
    "    L(\\boldsymbol{a}) + \\lambda\\sum_{i=1}^{n}a_{i}y_{i} - \\boldsymbol{\\mu}^{T}\\boldsymbol{a}\n",
    "$$  \n",
    "KKT条件\n",
    "$$\n",
    "    \\mu_{j}a_{j} = 0, \\mu_{j}\\le 0\n",
    "$$"
   ]
  },
  {
   "cell_type": "markdown",
   "metadata": {},
   "source": [
    "ラグランジュ関数Lの$\\boldsymbol{a}$についての勾配をとって=0とおくと,  \n",
    "$$\n",
    "    \\nabla f(\\boldsymbol{a}) + \\lambda\\boldsymbol{y}-\\boldsymbol{\\mu}=0\n",
    "$$"
   ]
  },
  {
   "cell_type": "markdown",
   "metadata": {},
   "source": [
    "成分に注目すると  \n",
    "$$\n",
    "    \\nabla f(\\boldsymbol{a})_{t} + \\lambda y_{t} =\\mu_{t} \\le 0\n",
    "$$"
   ]
  },
  {
   "cell_type": "markdown",
   "metadata": {},
   "source": [
    "KKT条件に注目すると$a_{t}>0$のときは、$\\mu_{t}=0$。$a_{t}=0$のときに、$\\mu_{t}$は任意に動かせる。"
   ]
  },
  {
   "cell_type": "markdown",
   "metadata": {},
   "source": [
    "まずは、$a_{t}=0$のときについて考えると、$y_{t}=1$または$y_{t}=-1$であることに注意して、\n",
    "この式の両辺に$y_{t}$をかけて整理すると次が得られる"
   ]
  },
  {
   "cell_type": "markdown",
   "metadata": {},
   "source": [
    "$$\n",
    "    y_{t}\\nabla f(\\boldsymbol{a})_{t} \\ge -\\lambda \\quad(y_{t} = -1) ・・・i\\\\\n",
    "    y_{t}\\nabla f(\\boldsymbol{a})_{t} \\le -\\lambda \\quad(y_{t} = 1)・・・j\n",
    "$$"
   ]
  },
  {
   "cell_type": "markdown",
   "metadata": {},
   "source": [
    "$$\n",
    "    min_{t \\in I_{-}(\\boldsymbol{y},\\boldsymbol{a})} y_{t} \\nabla f(\\boldsymbol{a})_{t} \\ge max_{t \\in I_{+}(\\boldsymbol{y},\\boldsymbol{a})} y_{t} \\nabla f(\\boldsymbol{a})_{t}\n",
    "$$"
   ]
  },
  {
   "cell_type": "markdown",
   "metadata": {},
   "source": [
    "この条件が成立しなくなったときに、$\\boldsymbol{a}$を変更しようというのがi, jを決定するアイディア。"
   ]
  },
  {
   "cell_type": "markdown",
   "metadata": {},
   "source": [
    "つまり、最適解においては「$y_{t}=-1またはa_{t}>0$」ならば$y_{t}\\nabla f(\\boldsymbol{a})_{t} \\ge -\\lambda$。「$y_{t}=1またはa_{t}>0$」ならば$y_{t}\\nabla f(\\boldsymbol{a})_{t} \\le -\\lambda$"
   ]
  },
  {
   "cell_type": "markdown",
   "metadata": {},
   "source": [
    "<img src=\"./SVM_data/SVM_concept/スライド7.png\">"
   ]
  },
  {
   "cell_type": "markdown",
   "metadata": {},
   "source": [
    "ここで  \n",
    "$$\n",
    "    \\nabla f(\\boldsymbol{a})_{t} = 1 - \\sum_{l=1}^{n}a_{l}y_{t}y_{l}\\boldsymbol{x}_{t}^{T}\\boldsymbol{x}_{l}\n",
    "$$  \n",
    "となる"
   ]
  },
  {
   "cell_type": "markdown",
   "metadata": {},
   "source": [
    "### $\\boldsymbol{w}$と$w_{0}$の算出方法"
   ]
  },
  {
   "cell_type": "markdown",
   "metadata": {},
   "source": [
    "$\\boldsymbol{a}$が決まると式(2)で$w_{j}(j=1,2,\\cdots,d)$が求まる。  "
   ]
  },
  {
   "cell_type": "markdown",
   "metadata": {},
   "source": [
    "$$\n",
    "    ∴w_{j}=\\sum_{i=1}^{n}a_{i}y_{i}x_{ij}\\quad(j=1,2,\\cdots,d)・・・(2)\n",
    "$$"
   ]
  },
  {
   "cell_type": "markdown",
   "metadata": {},
   "source": [
    "$w_{0}$については$ a_{i}\\biggl(y_{i}(w_{0} + \\boldsymbol{w}^{T}\\boldsymbol{x}_{i}) - 1 \\biggr) = 0$だから、$a_{i} \\neq 0$となるインデックスiを一つ見つけて,$y_{i}(w_{0} + \\boldsymbol{w}^{T}\\boldsymbol{x}_{i}) = 1$から$w_{0}$を求めることもできるが、数値的安定解は以下となる。"
   ]
  },
  {
   "cell_type": "markdown",
   "metadata": {},
   "source": [
    "$$\n",
    "    S=\\{i|a_{i} \\neq 0\\} \\\\\n",
    "    w_{0}=\\frac{1}{|S|}\\sum_{k \\in S}\\biggl(y_{k} - \\sum_{l \\in S}a_{l}y_{l}\\boldsymbol{x}_{k}^{T}\\boldsymbol{x}_{l}\\biggr)\n",
    "$$"
   ]
  },
  {
   "cell_type": "markdown",
   "metadata": {},
   "source": [
    "ハードマージンSVM(SVC)の実装"
   ]
  },
  {
   "cell_type": "code",
   "execution_count": 4,
   "metadata": {},
   "outputs": [],
   "source": [
    "import numpy as np\n",
    "from operator import itemgetter\n",
    "\n",
    "class HardSVC:\n",
    "    \n",
    "    def fit(self, X, y, selections=None):\n",
    "        \n",
    "        a = np.zeros(X.shape[0]) # ラグランジュ変数\n",
    "        ay = 0 # sum_{k=1}^[n]a_[k]y_[k]\n",
    "        ayx = np.zeros(X.shape[1]) # sum_[k=1]^[n]a_[k]y_[k]X[k]\n",
    "        yx = y.reshape(-1, 1)*X # (N, M)\n",
    "        indices = np.arange(X.shape[0]) # (N,)\n",
    "        \n",
    "        while True:\n",
    "            \n",
    "            # インデックスiに関する集合 >= インデックスjに関する集合であることが求められる\n",
    "            ydf = y*(1 - np.dot(yx, ayx.T)) # (N,)\n",
    "            iydf = np.c_[indices, ydf] # (N, 2)\n",
    "            i = int(min(iydf[ (y<0) | (a>0) ], key=itemgetter(1))[0]) # インデックスの選択方法\n",
    "            j = int(max(iydf[ (y>0) | (a>0) ], key=itemgetter(1))[0]) # itemgetter(1) : 第二列aについて最小値を求める\n",
    "            \n",
    "            # インデックス選択の条件が満たされていれば終了→最適条件となっている\n",
    "            if ydf[i] >= ydf[j]:\n",
    "                print('while finish 1')\n",
    "                break\n",
    "           \n",
    "            # 最適条件となっていない場合、ai, ajを更新\n",
    "            ay2 = ay - y[i]*a[i] - y[j]*a[j] # インデックスi,jの成分を差し引いたayとayx (※集合演算)\n",
    "            ayx2 = ayx - y[i]*a[i]*X[i, :] - y[j]*a[j]*X[j, :] # (M,) = (M,) - (M,)\n",
    "            ai = ((1 - y[i]*y[j] + y[i]*np.dot(X[i, :] - X[j, :], X[j, :]*ay2 - ayx2)) / ((X[i] - X[j])**2).sum())\n",
    "            if ai < 0:\n",
    "                ai = 0    \n",
    "            aj = (-ai*y[i] - ay2)*y[i]\n",
    "            if aj < 0:\n",
    "                aj = 0\n",
    "                ai = (-aj*y[j] - ay2)*y[i] # 気になる一行 →　aiとajの一次結合は一定だから...\n",
    "            print(\"ai:\", ai)\n",
    "            print(\"a[i]:\", a[i])\n",
    "            print(\"aj:\", aj)\n",
    "            print(\"a[j]:\", a[j])\n",
    "            \n",
    "            # a[i],a[j]が変化してもayとayzは一定にならなければならない(変化量はa[i]とa[j]で分配している)?\n",
    "            ay += y[i]*(ai - a[i]) + y[j]*(aj - a[j])\n",
    "            ayx += y[i]*(ai - a[i])*X[i, :] + y[j]*(aj - a[j])*X[j, :]\n",
    "           \n",
    "            # aiの更新が起きない場合終了\n",
    "            if ai == a[i]:\n",
    "                print('while finish 2')\n",
    "                break\n",
    "            \n",
    "            # aiとajの更新\n",
    "            a[i] = ai\n",
    "            a[j] = aj\n",
    "        \n",
    "        # 最適パラメータの決定\n",
    "        self.a_ = a # (N,)\n",
    "        not_a_index = a != 0. # (N,)\n",
    "        self.w_ = ((a[not_a_index] * y[not_a_index]).reshape(-1, 1)*X[not_a_index, :]).sum(axis=0)\n",
    "        self.w0_ = (y[not_a_index] - np.dot(X[not_a_index, :], self.w_)).sum() / not_a_index.sum()\n",
    "        \n",
    "    def predict(self, X):\n",
    "        return np.sign(self.w0_ + np.dot(X, self.w_))\n",
    "        "
   ]
  },
  {
   "cell_type": "code",
   "execution_count": 26,
   "metadata": {},
   "outputs": [
    {
     "name": "stdout",
     "output_type": "stream",
     "text": [
      "ai: -0.0\n",
      "a[i]: 0.0\n",
      "aj: 0\n",
      "a[j]: 0.0\n",
      "while finish 2\n"
     ]
    },
    {
     "name": "stderr",
     "output_type": "stream",
     "text": [
      "/Users/inoueshinichi/.pyenv/versions/anaconda3-5.0.1/envs/Education/lib/python3.6/site-packages/ipykernel_launcher.py:59: RuntimeWarning: invalid value encountered in double_scalars\n"
     ]
    },
    {
     "data": {
      "image/png": "[encoded data removed]",
      "text/plain": [
       "<Figure size 432x288 with 1 Axes>"
      ]
     },
     "metadata": {
      "needs_background": "light"
     },
     "output_type": "display_data"
    }
   ],
   "source": [
    "import matplotlib.pyplot as plt\n",
    "\n",
    "plt.axes().set_aspect(\"equal\")\n",
    "np.random.seed(0)\n",
    "X0 = np.random.randn(20, 2)\n",
    "X1 = np.random.randn(20, 2) + np.array([5, 5])\n",
    "y = np.array([1] * 20 + [-1] * 20)\n",
    "\n",
    "X = np.r_[X0, X1]\n",
    "model = HardSVC()\n",
    "model.fit(X, y)\n",
    "\n",
    "plt.scatter(X0[:, 0], X0[:, 1], color=\"r\", marker=\"+\")\n",
    "plt.scatter(X1[:, 0], X1[:, 1], color=\"b\", marker=\"*\")\n",
    "\n",
    "def f(model, x):\n",
    "    return (-model.w0_ - model.w_[0] * x) / model.w_[1]\n",
    "\n",
    "x1 = -0.2\n",
    "x2 = 6\n",
    "\n",
    "plt.plot([x1, x2], [f(model, x1), f(model, x2)], color=\"k\")\n",
    "plt.scatter(X[model.a_ != 0, 0], X[model.a_ != 0, 1], s=200, color=(0, 0, 0, 0), edgecolor=\"g\", marker=\"o\")\n",
    "plt.show()\n",
    "\n",
    "# 公式にバグ有り"
   ]
  },
  {
   "cell_type": "markdown",
   "metadata": {},
   "source": [
    "# ソフトマージンSVM"
   ]
  },
  {
   "cell_type": "markdown",
   "metadata": {},
   "source": [
    "<img src=\"./SVM_data/SVM_concept/スライド7.png\">"
   ]
  },
  {
   "cell_type": "markdown",
   "metadata": {},
   "source": [
    "$$\n",
    "    Min \\quad C\\sum_{i=1}^{n}\\zeta_{i}+\\frac{1}{2}\\sum_{i=1}^{n}||\\boldsymbol{w}||^{2} \\\\\n",
    "    s.t \\quad \\quad \\quad \\quad y_{i}(w_{0} + \\boldsymbol{w}^{T}\\boldsymbol{x}) \\ge 1 - \\zeta_{i} \\quad (i=1,2,\\cdots,n) \\\\\n",
    "    \\zeta_{i} \\ge 0 \\quad (i=1,2,\\cdots,n) \n",
    "$$"
   ]
  },
  {
   "cell_type": "markdown",
   "metadata": {},
   "source": [
    "ラグランジュ未定乗数法を適用"
   ]
  },
  {
   "cell_type": "markdown",
   "metadata": {},
   "source": [
    "$$\n",
    "    L(\\boldsymbol{w},\\boldsymbol{\\zeta}, \\boldsymbol{a})=C\\sum_{i=1}^{n}\\zeta_{i}+\\frac{1}{2}\\sum_{i=1}^{n}||\\boldsymbol{w}||^{2}-\\sum_{i=1}^{n}a_{i}\\bigl(y_{i}(w_{0}+\\boldsymbol{w}^{T}\\boldsymbol{x})-1+\\zeta_{i}\\bigr)-\\sum_{i=1}^{n}\\eta_{i}\\zeta_{i}\n",
    "$$"
   ]
  },
  {
   "cell_type": "markdown",
   "metadata": {},
   "source": [
    "KKT条件  \n",
    "$$\n",
    "    a_{i} \\ge 0 \\\\\n",
    "    y_{i}(w_{0}+\\boldsymbol{w}^{T}\\boldsymbol{x})-1+\\zeta_{i} \\ge 0 \\\\\n",
    "    a_{i}\\bigl(y_{i}(w_{0}+\\boldsymbol{w}^{T}\\boldsymbol{x})-1+\\zeta_{i}\\bigr)=0 \\\\\n",
    "    \\eta_{i} \\ge 0 \\\\\n",
    "    \\zeta_{i} \\ge 0 \\\\\n",
    "    \\eta_{i}\\zeta_{i} = 0\n",
    "$$"
   ]
  },
  {
   "cell_type": "markdown",
   "metadata": {},
   "source": [
    "$w_{j}$で$L(\\boldsymbol{w}, \\boldsymbol{\\zeta}, \\boldsymbol{a})$を偏微分して=0とおき、$L(\\boldsymbol{w}, \\boldsymbol{\\zeta}, \\boldsymbol{a})$に代入して、"
   ]
  },
  {
   "cell_type": "markdown",
   "metadata": {},
   "source": [
    "目的関数  \n",
    "$$\n",
    "    Max\\;f(\\boldsymbol{a}) = \\sum_{i=1}^{n}a_{k} - \\frac{1}{2} \\sum_{i=1}^{n} \\sum_{l=1}^{n} a_{i} a_{l} y_{i} y_{l} \\boldsymbol{x}_{i}^{T}\\boldsymbol{x}_{l} ・・・(\\zeta_{i}が無い場合と同様の式)\\\\\n",
    "$$"
   ]
  },
  {
   "cell_type": "markdown",
   "metadata": {},
   "source": [
    "線形制約式も同じ  \n",
    "$$\n",
    "    \\sum_{i=1}^{n}a_{i}y_{i}=0\n",
    "$$"
   ]
  },
  {
   "cell_type": "markdown",
   "metadata": {},
   "source": [
    "異なる部分は$L(\\boldsymbol{w}, \\boldsymbol{\\zeta}, \\boldsymbol{a})$が$\\zeta_{i}$の関数なので,$\\zeta_{i}$で偏微分する。"
   ]
  },
  {
   "cell_type": "markdown",
   "metadata": {},
   "source": [
    "$$\n",
    "    \\frac{\\partial L}{\\partial \\zeta_{i}}=C-a_{i}-\\zeta_{i}=0 \\quad (\\zeta_{i} \\ge 0)\n",
    "$$"
   ]
  },
  {
   "cell_type": "markdown",
   "metadata": {},
   "source": [
    "よって、  \n",
    "$$\n",
    "    a_{i} \\le C\n",
    "$$"
   ]
  },
  {
   "cell_type": "markdown",
   "metadata": {},
   "source": [
    "スラック変数$\\zeta_{i}$を持つ場合、SVMの双対形最適化問題  \n",
    "$$\n",
    "    Max\\;f(\\boldsymbol{a}) = \\sum_{i=1}^{n}a_{k} - \\frac{1}{2} \\sum_{i=1}^{n} \\sum_{l=1}^{n} a_{i} a_{l} y_{i} y_{l} \\boldsymbol{x}_{i}^{T}\\boldsymbol{x}_{l} \\\\\n",
    "    s.t \\quad \\sum_{i=1}^{n}a_{i}y_{i}=0 \\\\\n",
    "    0 \\le a_{i} \\le C\n",
    "$$"
   ]
  },
  {
   "cell_type": "markdown",
   "metadata": {},
   "source": [
    "HardSVMと同様に、更にラグランジュの未定定数法を適用して最適化された場合の$a_{i}$の条件を求める。"
   ]
  },
  {
   "cell_type": "markdown",
   "metadata": {},
   "source": [
    "ラグランジュ未定乗数法  \n",
    "$$\n",
    "L2(\\boldsymbol{a}, \\lambda, \\boldsymbol{\\mu}, \\boldsymbol{\\nu}) = f(\\boldsymbol{a}) + \\lambda\\sum_{i=1}^{n}a_{i}y_{i} - \\boldsymbol{\\mu}^{T}\\boldsymbol{a} - \\boldsymbol{\\nu}(C\\boldsymbol{e} - \\boldsymbol{a}) \\quad\\;(\\boldsymbol{e}=(1,1,\\cdots, 1))\\\\\n",
    "\\mu_{k}a_{k} = 0 \\\\\n",
    "\\mu_{k} \\le 0 \\\\\n",
    "\\nu_{k}(C-a_{k}) = 0 \\\\\n",
    "\\nu_{k} \\le 0\n",
    "$$"
   ]
  },
  {
   "cell_type": "markdown",
   "metadata": {},
   "source": [
    "ラグランジュ関数の勾配は  \n",
    "$$\n",
    "    \\nabla f(\\boldsymbol{a})_{t} + \\lambda y_{k} - \\mu_{t} + \\nu_{t} = 0\n",
    "$$"
   ]
  },
  {
   "cell_type": "markdown",
   "metadata": {},
   "source": [
    "KKT条件より$a_{t}>0$ならば$\\mu_{t}=0$であり、$a_{t}<C$ならば$\\nu_{t}=0$なので"
   ]
  },
  {
   "cell_type": "markdown",
   "metadata": {},
   "source": [
    "$$\n",
    "    \\nabla f(\\boldsymbol{a})_{t} + \\lambda y_{t} = \\mu_{t} - \\nu_{t}\n",
    "    \\left\\{\n",
    "    \\begin{array}{}\n",
    "        \\ge 0\\quad(a_{t}>0) \\\\\n",
    "        \\le 0\\quad(a_{t}<C)\n",
    "    \\end{array}\\right.\n",
    "$$"
   ]
  },
  {
   "cell_type": "markdown",
   "metadata": {},
   "source": [
    "$$\n",
    "    (a_{t}>0かつy_{t}=1)または(a_{t}<Cかつy_{t}=-1) \\Rightarrow y_{t}\\nabla f(\\boldsymbol{a})_{t} \\ge -\\lambda \\\\\n",
    "    (a_{t}>0かつy_{t}=-1)または(a_{t}<Cかつy_{t}=1) \\Rightarrow y_{t}\\nabla f(\\boldsymbol{a})_{t} \\le -\\lambda\n",
    "$$"
   ]
  },
  {
   "cell_type": "markdown",
   "metadata": {},
   "source": [
    "つまり"
   ]
  },
  {
   "cell_type": "markdown",
   "metadata": {},
   "source": [
    "$$\n",
    "    I_{-}(\\boldsymbol{y},\\boldsymbol{a})= \\{ t | (a_{t}>0かつy_{t}=1)または(a_{t}<Cかつy_{t}=-1) \\} \\\\\n",
    "    I_{+}(\\boldsymbol{y},\\boldsymbol{a})= \\{ t | (a_{t}>0かつy_{t}=-1)または(a_{t}<Cかつy_{t}=1) \\}\n",
    "$$"
   ]
  },
  {
   "cell_type": "markdown",
   "metadata": {},
   "source": [
    "あとは、  \n",
    "$$\n",
    "    i = argmin_{t \\in I_{-}(\\boldsymbol{y}, \\boldsymbol{a})}y_{t}\\nabla f(\\boldsymbol{a})_{t} \\\\ \n",
    "    j = argmin_{t \\in I_{+}(\\boldsymbol{y}, \\boldsymbol{a})}y_{t}\\nabla f(\\boldsymbol{a})_{t}\n",
    "$$  \n",
    "でインデックスを選択して、  \n",
    "$$\n",
    "    min_{t \\in I_{-}(\\boldsymbol{y},\\boldsymbol{a})} y_{t} \\nabla f(\\boldsymbol{a})_{t} \\ge max_{t \\in I_{+}(\\boldsymbol{y},\\boldsymbol{a})} y_{t} \\nabla f(\\boldsymbol{a})_{t}\n",
    "$$  \n",
    "をみたさなければ、a_{i}とa_{j}の配分を変更する。"
   ]
  },
  {
   "cell_type": "markdown",
   "metadata": {},
   "source": [
    "ただし、推定解$\\hat{a_{i}}$に対して,$0 \\le \\hat{a_{i}} \\le C$を満たすように制限する。(jも同様)"
   ]
  },
  {
   "cell_type": "markdown",
   "metadata": {},
   "source": [
    "ソフトマージンSVMの実装"
   ]
  },
  {
   "cell_type": "code",
   "execution_count": 27,
   "metadata": {},
   "outputs": [],
   "source": [
    "import numpy as np\n",
    "from operator import itemgetter\n",
    "\n",
    "class SoftSVC:\n",
    "    \n",
    "    def __init__(self, C=1.0):\n",
    "        self.C_ = C\n",
    "        self.a_ = None\n",
    "        self.w_ = None\n",
    "        self.w0_ = None\n",
    "        print(\"C:\", self.C_)\n",
    "        \n",
    "    def fit(self, X, y, selections=None):\n",
    "        a = np.zeros(X.shape[0])\n",
    "        ay = 0\n",
    "        ayx = np.zeros(X.shape[1])\n",
    "        yx = y.reshape(-1, 1)*X\n",
    "        indices = np.arange(X.shape[0])\n",
    "        \n",
    "        while True:\n",
    "            \n",
    "            # インデックスiに関する集合 >= インデックスjに関する集合であることが求められる\n",
    "            ydf = y*(1 - np.dot(yx, ayx.T))\n",
    "            iydf = np.c_[indices, ydf]\n",
    "            i = int(min(iydf[ ((a>0) & (y>0)) | ((a < self.C_) & (y<0)) ], key=itemgetter(1))[0])\n",
    "            j = int(min(iydf[ ((a>0) & (y<0)) | ((a < self.C_) & (y>0)) ], key=itemgetter(1))[0])\n",
    "            \n",
    "            # インデックス選択の条件が満たされていれば終了→最適条件となっている\n",
    "            if ydf[i] >= ydf[j]:\n",
    "                break\n",
    "                \n",
    "            # 最適条件となっていない場合、ai, ajを更新\n",
    "            ay2 = ay - y[i]*a[i] - y[j]*a[j]\n",
    "            ayx2 = ayx - y[i]*a[i]*X[i,:] - y[j]*a[j]*X[j,:]\n",
    "            ai = (1 - y[i]*y[j] + y[i]*np.dot(X[i,:] - X[j,:], X[j,:]*ay2 - ayx2)) / (((X[i,:] - X[j,:])**2).sum())\n",
    "            if ai < 0:\n",
    "                ai = 0\n",
    "            elif ai > self.C_:\n",
    "                ai = self.C_\n",
    "            aj = (-ai*y[i] - ay2) * y[j]\n",
    "            if aj < 0:\n",
    "                aj = 0\n",
    "                ai = (-aj*y[j] - ay2)*y[i]\n",
    "            elif aj > self.C_:\n",
    "                aj = self.C_\n",
    "                ai = (-aj*y[j] - ay2)*y[i]\n",
    "            print(\"ai:\", ai)\n",
    "            print(\"a[i]:\", a[i])\n",
    "            print(\"aj:\", aj)\n",
    "            print(\"a[j]:\", a[j])\n",
    "            \n",
    "            # a[i],a[j]が変化してもayとayzは一定にならなければならない(変化量はa[i]とa[j]で分配している)?\n",
    "            ay += y[i]*(ai - a[i]) + y[j]*(aj - a[j])\n",
    "            ayx += y[i]*(ai - a[i])*X[i,:] + y[j]*(aj - a[j])*X[j,:]\n",
    "            \n",
    "            if ai == a[i]:\n",
    "                break\n",
    "                \n",
    "            a[i] = ai\n",
    "            a[j] = aj\n",
    "            \n",
    "        # 最適パラメータの決定\n",
    "        self.a_ = a\n",
    "        not_zero_index = a != 0.0\n",
    "        self.w_ = ((a[not_zero_index]*y[not_zero_index]).reshape(-1,1) * X[not_zero_index]).sum(axis=0)\n",
    "        self.w0_ = (y[not_zero_index] - np.dot(X[not_zero_index, :], self.w_)).sum() / not_zero_index.sum()\n",
    "        \n",
    "    def predict(self, X):\n",
    "        return np.sign(self.w0_ + np.dot(X, self.w_))\n",
    "                "
   ]
  },
  {
   "cell_type": "code",
   "execution_count": 28,
   "metadata": {},
   "outputs": [
    {
     "name": "stdout",
     "output_type": "stream",
     "text": [
      "C: 100\n",
      "ai: 0.19590541643827156\n",
      "a[i]: 0.0\n",
      "aj: 0.19590541643827156\n",
      "a[j]: 0.0\n",
      "正しく分類できた数： 39\n"
     ]
    },
    {
     "data": {
      "image/png": "[encoded data removed]",
      "text/plain": [
       "<Figure size 432x288 with 1 Axes>"
      ]
     },
     "metadata": {
      "needs_background": "light"
     },
     "output_type": "display_data"
    }
   ],
   "source": [
    "import numpy as np\n",
    "import matplotlib.pyplot as plt\n",
    "\n",
    "plt.axes().set_aspect(\"equal\")\n",
    "np.random.seed(0)\n",
    "X0 = np.random.randn(20, 2)\n",
    "X1 = np.random.randn(20, 2) + np.array([2.5, 5])\n",
    "y = np.array([1] * 20 + [-1] * 20)\n",
    "\n",
    "X = np.r_[X0, X1]\n",
    "model = SoftSVC(C = 100)\n",
    "model.fit(X, y)\n",
    "\n",
    "plt.scatter(X0[:, 0], X0[:, 1], color=\"r\", marker=\"+\")\n",
    "plt.scatter(X1[:, 0], X1[:, 1], color=\"b\", marker=\"*\")\n",
    "\n",
    "def f(model, x):\n",
    "    return (-model.w0_ - model.w_[0] * x) / model.w_[1]\n",
    "\n",
    "x1 = -2\n",
    "x2 = 6\n",
    "\n",
    "plt.plot([x1, x2], [f(model, x1), f(model, x2)], color=\"k\")\n",
    "\n",
    "print(\"正しく分類できた数：\", (model.predict(X) == y).sum())\n",
    "plt.scatter(X[model.a_ != 0, 0], X[model.a_ != 0, 1], s=200, color=(0, 0, 0, 0), edgecolor=\"g\", marker=\"o\")\n",
    "plt.show()\n",
    "\n",
    "# 公式にバグ有り"
   ]
  },
  {
   "cell_type": "markdown",
   "metadata": {},
   "source": [
    "# カーネル法"
   ]
  },
  {
   "cell_type": "markdown",
   "metadata": {},
   "source": [
    "今までは超平面(直線)を使って分類することを考えてきたが、これを超平面(曲線)で分類するようにする方法がカーネル法。非線形で分類する。"
   ]
  },
  {
   "cell_type": "markdown",
   "metadata": {},
   "source": [
    "非線形写像$\\phi : \\mathbb{R}^{d} \\leftarrow \\mathbb{R}^{d}$を用いて分離超平面が下記で表現できると仮定する。"
   ]
  },
  {
   "cell_type": "markdown",
   "metadata": {},
   "source": [
    "$$\n",
    "    w_{0} + \\boldsymbol{w}^{T}\\phi(\\boldsymbol{x})\n",
    "$$"
   ]
  },
  {
   "cell_type": "markdown",
   "metadata": {},
   "source": [
    "$$\n",
    "    Max\\;f(\\boldsymbol{a}) = \\sum_{i=1}^{n}a_{k} - \\frac{1}{2} \\sum_{i=1}^{n} \\sum_{l=1}^{n} a_{i} a_{l} y_{i} y_{l} \\phi(\\boldsymbol{x}_{i})^{T}\\phi(\\boldsymbol{x}_{l}) \\\\\n",
    "    s.t \\quad \\sum_{i=1}^{n}a_{i}y_{i}=0 \\\\\n",
    "    0 \\le a_{i} \\le C\n",
    "$$"
   ]
  },
  {
   "cell_type": "markdown",
   "metadata": {},
   "source": [
    "$\\boldsymbol{x}$を写像変換したあとの内積を明示的に計算せずに、カーネル関数に置き換えてしまう。  \n",
    "$$\n",
    "    \\phi(\\boldsymbol{x}_{i})^{T}\\phi(\\boldsymbol{x}_{l}) = K(\\boldsymbol{x}_{i}, \\boldsymbol{x}_{l})\n",
    "$$"
   ]
  },
  {
   "cell_type": "markdown",
   "metadata": {},
   "source": [
    "目的関数$f(\\boldsymbol{a})$の$\\boldsymbol{a}$についての勾配の第t成分は以下となる。  \n",
    "$$\n",
    "    \\nabla f(\\boldsymbol{a})_{t} = 1 - \\sum_{l=1}^{n}a_{l}y_{t}y_{l}K(\\boldsymbol{x}_{t},\\boldsymbol{x}_{l})\n",
    "$$"
   ]
  },
  {
   "cell_type": "markdown",
   "metadata": {},
   "source": [
    "最適解$\\hat{\\boldsymbol{a}}_{i}$は  \n",
    "$$\n",
    "    \\hat{a_{i}} = \\frac{1}{K(\\boldsymbol{x}_{i},\\boldsymbol{x}_{i}) + K(\\boldsymbol{x}_{j},\\boldsymbol{x}_{j}) - 2K(\\boldsymbol{x}_{i},\\boldsymbol{x}_{j})} \\Biggl[ 1 - y_{i}y_{j} + y_{i}\\bigl\\{ (K(\\boldsymbol{x}_{i},\\boldsymbol{x}_{j}) - K(\\boldsymbol{x}_{j},\\boldsymbol{x}_{j})) \\sum_{k \\neq i, j}^{n}a_{k}y_{k} - y_{i}\\sum_{k \\neq i, j}a_{k}y_{k}(K(\\boldsymbol{x}_{i},\\boldsymbol{x}_{k}) - K(\\boldsymbol{x}_{j},\\boldsymbol{x}_{k})) \\bigr\\} \\Biggr]\n",
    "$$"
   ]
  },
  {
   "cell_type": "markdown",
   "metadata": {},
   "source": [
    "予測値の計算は$w_{0}+\\boldsymbol{w}^{T}\\phi(\\boldsymbol{x})$を評価する必要があるが、$\\boldsymbol{w}^{T}\\phi(\\boldsymbol{w})$をカーネル関数を使って計算できる。"
   ]
  },
  {
   "cell_type": "markdown",
   "metadata": {},
   "source": [
    "$$\n",
    "\\begin{align}\n",
    "    \\boldsymbol{w}^{T}\\phi(\\boldsymbol{x}) &= \\sum_{i=1}^{n}a_{i}y_{i}\\phi(\\boldsymbol{x}_{i})^{T}\\phi(\\boldsymbol{x}) \\\\\n",
    "    &= \\sum_{i=1}^{n}a_{i}y_{i}K(\\boldsymbol{x}_{i}, \\boldsymbol{x}) \\\\\n",
    "    &= \\sum_{i \\in S}a_{i}y_{i}K(\\boldsymbol{x}_{i}, \\boldsymbol{x})\n",
    "\\end{align}\n",
    "$$"
   ]
  },
  {
   "cell_type": "markdown",
   "metadata": {},
   "source": [
    "ただし、$S=\\{i|a_{i} \\neq 0\\}$"
   ]
  },
  {
   "cell_type": "markdown",
   "metadata": {},
   "source": [
    "n=3, d=3の場合\n",
    "$$\n",
    "\\phi(\\boldsymbol{x}_{i})=(\\phi(x_{1}^{i}), \\phi(x_{2}^{i}), \\phi(x_{3}^{i})) \\\\\n",
    "\\begin{align}\n",
    "    \\sum_{i=1}^{3}a_{i}y_{i}\\phi(\\boldsymbol{x}_{i})^{T}\\phi(\\boldsymbol{x}) &= a_{1}y_{1}\\phi(\\boldsymbol{x}_{1})\\phi(\\boldsymbol{x}) + a_{2}y_{2}\\phi(\\boldsymbol{x}_{2})\\phi(\\boldsymbol{x}) + a_{3}y_{3}\\phi(\\boldsymbol{x}_{3})\\phi(\\boldsymbol{x}) \\\\\n",
    "    &= a_{1}y_{1}(\\phi_{1}^{(1)}, \\phi_{2}^{(1)}, \\phi_{3}^{(1)})\\phi(\\boldsymbol{x}) + a_{2}y_{2}(\\phi_{1}^{(2)}, \\phi_{2}^{(2)}, \\phi_{3}^{(2)})\\phi(\\boldsymbol{x}) + a_{3}y_{3}(\\phi_{1}^{(3)}, \\phi_{2}^{(3)}, \\phi_{3}^{(3)})\\phi(\\boldsymbol{x}) \\\\\n",
    "     &= \\biggl(a_{1}y_{1}(\\phi_{1}^{(1)}, \\phi_{2}^{(1)}, \\phi_{3}^{(1)}) + a_{2}y_{2}(\\phi_{1}^{(2)}, \\phi_{2}^{(2)}, \\phi_{3}^{(2)}) + a_{3}y_{3}(\\phi_{1}^{(3)}, \\phi_{2}^{(3)}, \\phi_{3}^{(3)})\\biggr)\\phi(\\boldsymbol{x}) \\\\\n",
    "     &= \\biggl(a_{1}y_{1}\\phi_{1}^{(1)}+a_{2}y_{2}\\phi_{1}^{(2)}+a_{3}y_{3}\\phi_{1}^{(3)}, a_{1}y_{1}\\phi_{2}^{(1)}+a_{2}y_{2}\\phi_{2}^{(2)}+\n",
    "     a_{3}y_{3}\\phi_{2}^{(3)}, a_{1}y_{1}\\phi_{3}^{(1)}+a_{2}y_{2}\\phi_{3}^{(2)}+a_{3}y_{3}\\phi_{3}^{(3)}\\biggr)\\phi(\\boldsymbol{x}) \\\\\n",
    "     &= \\biggl(a_{1}y_{1}\\phi_{1}^{(1)}+a_{2}y_{2}\\phi_{1}^{(2)}+a_{3}y_{3}\\phi_{1}^{(3)}, a_{1}y_{1}\\phi_{2}^{(1)}+a_{2}y_{2}\\phi_{2}^{(2)}+\n",
    "     a_{3}y_{3}\\phi_{2}^{(3)}, a_{1}y_{1}\\phi_{3}^{(1)}+a_{2}y_{2}\\phi_{3}^{(2)}+a_{3}y_{3}\\phi_{3}^{(3)}\\biggr)\n",
    "     \\begin{pmatrix}\n",
    "         \\phi(x_{1})\\\\\n",
    "         \\phi(x_{2})\\\\\n",
    "         \\phi(x_{3})\n",
    "     \\end{pmatrix}\n",
    "\\end{align}\n",
    "$$"
   ]
  },
  {
   "cell_type": "markdown",
   "metadata": {},
   "source": [
    "$$\n",
    "    w_{0} = \\frac{1}{|S|}\\sum_{k \\in S}\\biggl(y_{k} - \\sum_{l \\in S}a_{l}y_{l}K(\\boldsymbol{x}_{k}, \\boldsymbol{x}_{l})\\biggr)\n",
    "$$"
   ]
  },
  {
   "cell_type": "markdown",
   "metadata": {},
   "source": [
    "カーネル関数 放射基底関数(Radical Basis Function: RBF) \n",
    "$$\n",
    "K(\\boldsymbol{x}_{k}, \\boldsymbol{x}) = \\exp{\\biggr(-\\frac{||\\boldsymbol{x}_{k} - \\boldsymbol{x}||^{2}}{2\\sigma^{2}}\\biggr)}\n",
    "$$"
   ]
  },
  {
   "cell_type": "markdown",
   "metadata": {},
   "source": [
    "実装 RBF-SVM"
   ]
  },
  {
   "cell_type": "code",
   "execution_count": 43,
   "metadata": {},
   "outputs": [],
   "source": [
    "import numpy as np\n",
    "from operator import itemgetter\n",
    "\n",
    "class RBFKernel:\n",
    "    def __init__(self, X, sigma):\n",
    "        self.sigma2 = sigma**2\n",
    "        self.X = X\n",
    "        self.values_ = np.empty((X.shape[0], X.shape[0]))\n",
    "        \n",
    "    def value(self, i, j):\n",
    "        return np.exp(-((self.X[i,:] - self.X[j,:])**2).sum() / (2*self.sigma2))\n",
    "    \n",
    "    def eval(self, Z, s):\n",
    "        return np.exp(-((self.X[s,np.newaxis,:] - Z[np.newaxis,:,:])**2).sum(axis=2) / (2*self.sigma2))\n",
    "    \n",
    "\n",
    "class RBFSoftSVC:\n",
    "    def __init__(self, C=1.0, sigma=1.0, max_iter=10000):\n",
    "        self.C_ = C\n",
    "        self.sigma_ = sigma\n",
    "        self.max_iter = max_iter\n",
    "        self.a_ = None\n",
    "        self.y_ = None\n",
    "        self.kernel_ = None\n",
    "        self.w0_ = None\n",
    "        \n",
    "    def fit(self, X, y, selections=None):\n",
    "        a = np.zeros(X.shape[0])\n",
    "        ay = 0\n",
    "        kernel = RBFKernel(X, self.sigma_)\n",
    "        indices = np.arange(X.shape[0])\n",
    "        for _ in range(self.max_iter):\n",
    "            s = (a != 0.0)\n",
    "            ydf = y*(1 - y*np.dot(a[s]*y[s], kernel.eval(X,s)).T)\n",
    "            iydf = np.c_[indices, ydf]\n",
    "            i = int(min(iydf[((a > 0) & (y > 0)) | ((a < self.C_) & (y < 0))], key=itemgetter(1))[0])\n",
    "            j = int(max(iydf[((a > 0) & (y < 0)) | ((a < self.C_) & (y > 0))], key=itemgetter(1))[0])\n",
    "            \n",
    "            if ydf[i] >= ydf[j]:\n",
    "                break\n",
    "                \n",
    "            ay2 = ay - y[i]*a[i] - y[j]*a[j]\n",
    "            kii = kernel.value(i,i)\n",
    "            kij = kernel.value(i,j)\n",
    "            kjj = kernel.value(j,j)\n",
    "            s = (a != 0.0)\n",
    "            s[i] = False\n",
    "            s[j] = False\n",
    "            kxi = kernel.eval(X[i,:].reshape(1,-1),s).ravel()\n",
    "            kxj = kernel.eval(X[j,:].reshape(1,-1),s).ravel()\n",
    "            ai = (1 - y[i]*y[j] + y[i]*((kij - kjj)*ay2 - (a[s]*y[s]*(kxi - kxj)).sum())) / (kii + kjj - 2*kij)\n",
    "            if ai < 0:\n",
    "                ai = 0\n",
    "            elif ai > self.C_:\n",
    "                ai = self.C_\n",
    "            aj = (-ai*y[i] - ay2)*y[j]\n",
    "            if aj < 0:\n",
    "                aj = 0\n",
    "                ai = (-aj*y[j] - ay2)*y[i]\n",
    "            elif aj > self.C_:\n",
    "                aj = self.C_\n",
    "                ai = (-aj*y[j] - ay2)*y[i]\n",
    "            ay += y[i]*(ai - a[i]) + y[j]*(aj - a[j])\n",
    "            if ai == a[i]:\n",
    "                break\n",
    "            a[i] = ai\n",
    "            a[j] = aj\n",
    "        \n",
    "        self.a_ = a\n",
    "        self.y_ = y\n",
    "        self.kernel_ = kernel\n",
    "        s = (a != 0.0)\n",
    "        self.w0_ = (y[s] - np.dot(a[s]*y[s], kernel.eval(X[s], s))).sum() / s.sum()\n",
    "        \n",
    "    def predict(self, X):\n",
    "        s = (self.a_ != 0.0)\n",
    "        return np.sign(self.w0_ + np.dot(self.a_[s]*self.y_[s], self.kernel_.eval(X,s)))\n",
    "        "
   ]
  },
  {
   "cell_type": "code",
   "execution_count": 47,
   "metadata": {},
   "outputs": [
    {
     "name": "stdout",
     "output_type": "stream",
     "text": [
      "正しく分類できた数: 0\n"
     ]
    },
    {
     "name": "stderr",
     "output_type": "stream",
     "text": [
      "/Users/inoueshinichi/.pyenv/versions/anaconda3-5.0.1/envs/Education/lib/python3.6/site-packages/ipykernel_launcher.py:25: DeprecationWarning: elementwise comparison failed; this will raise an error in the future.\n"
     ]
    },
    {
     "data": {
      "image/png": "[encoded data removed]",
      "text/plain": [
       "<Figure size 432x288 with 1 Axes>"
      ]
     },
     "metadata": {
      "needs_background": "light"
     },
     "output_type": "display_data"
    }
   ],
   "source": [
    "import numpy as np\n",
    "import matplotlib.pyplot as plt\n",
    "\n",
    "plt.axes().set_aspect(\"equal\")\n",
    "np.random.seed(0)\n",
    "x0 = np.random.randn(100, 2)\n",
    "x1 = np.random.randn(100, 2) + np.array([2.5, 3])\n",
    "y = np.array([1]*100 + [-1]*100)\n",
    "x = np.r_[x0, x1]\n",
    "\n",
    "model = RBFSoftSVC()\n",
    "model.fit(x,y)\n",
    "\n",
    "xmin, xmax = x[:,0].min(), x[:,0].max()\n",
    "ymin, ymax = x[:,1].min(), x[:,1].max()\n",
    "\n",
    "plt.scatter(x0[:,0], x0[:,1], color='k', marker='*')\n",
    "plt.scatter(x1[:,0], x1[:,1], color='k', marker='+')\n",
    "\n",
    "\n",
    "xmesh, ymesh = np.meshgrid(np.linspace(xmin, xmax, 200), np.linspace(xmin, xmax, 200))\n",
    "Z = model.predict(np.c_[xmesh.ravel(), ymesh.ravel()]).reshape(xmesh.shape)\n",
    "plt.contour(xmesh, ymesh, Z, levels=[0], colors='b')\n",
    "\n",
    "print(\"正しく分類できた数:\", (np.array(model.predict(X) == y)).sum())\n",
    "plt.show()"
   ]
  },
  {
   "cell_type": "markdown",
   "metadata": {},
   "source": [
    "# scikit-learn SVM"
   ]
  },
  {
   "cell_type": "markdown",
   "metadata": {},
   "source": [
    "https://scikit-learn.org/stable/modules/generated/sklearn.svm.SVC.html#sklearn.svm.SVC"
   ]
  },
  {
   "cell_type": "code",
   "execution_count": 2,
   "metadata": {},
   "outputs": [],
   "source": [
    "from sklearn import datasets\n",
    "import numpy as np\n",
    "import matplotlib.pyplot as plt\n",
    "%matplotlib inline\n",
    "from sklearn.svm import SVC"
   ]
  },
  {
   "cell_type": "markdown",
   "metadata": {},
   "source": [
    "領域分類の関数"
   ]
  },
  {
   "cell_type": "code",
   "execution_count": 11,
   "metadata": {},
   "outputs": [],
   "source": [
    "from matplotlib.colors import ListedColormap\n",
    "\n",
    "def plot_decision_regions(X, y, classifier, test_idx=None, resolution=0.02):\n",
    "    markers = ('s', 'x', 'o', '^', 'v')\n",
    "    colors = ('red', 'blue', 'lightgreen', 'gray', 'cyan')\n",
    "    cmap = ListedColormap(colors[:len(np.unique(y))])\n",
    "\n",
    "    x1_min, x1_max = X[:, 0].min() - 1, X[:, 0].max() + 1\n",
    "    x2_min, x2_max = X[:, 1].min() - 1, X[:, 1].max() + 1\n",
    "    \n",
    "    xx1, xx2 = np.meshgrid(np.arange(x1_min, x1_max, resolution), np.arange(x2_min, x2_max, resolution))\n",
    "\n",
    "    # ZはN次元の予測値ベクトル\n",
    "    Z = classifier.predict(np.array([xx1.ravel(), xx2.ravel()]).T)\n",
    "    Z = Z.reshape(xx1.shape)\n",
    "    print(\"xx1.ravel()\", len(xx1.ravel()), xx1.ravel())\n",
    "    print(\"xx2.ravel()\", len(xx2.ravel()), xx2.ravel())\n",
    "\n",
    "    plt.contourf(xx1, xx2, Z, alpha=0.4, cmap=cmap)\n",
    "    plt.xlim(xx1.min(), xx1.max())\n",
    "    plt.ylim(xx2.min(), xx2.max())\n",
    "\n",
    "    # クラス毎にサンプルをプロット\n",
    "    for idx, cl in enumerate(np.unique(y)):\n",
    "        plt.scatter(x=X[y == cl, 0], y=X[y == cl, 1], alpha=0.8, c=cmap(idx), marker=markers[idx], label=cl)\n",
    "\n",
    "    # テストサンプルを目立たせる（点を○で表示)\n",
    "    if test_idx:\n",
    "        X_test, y_test = X[test_idx, :], y[test_idx]\n",
    "        plt.scatter(X_test[:, 0], X_test[:, 1], c='', edgecolors='black', alpha=1.0, linewidths=1, marker='o', s=55, label='test set')\n",
    "        "
   ]
  },
  {
   "cell_type": "markdown",
   "metadata": {},
   "source": [
    "irisデータ・セットを準備"
   ]
  },
  {
   "cell_type": "code",
   "execution_count": 12,
   "metadata": {},
   "outputs": [
    {
     "name": "stdout",
     "output_type": "stream",
     "text": [
      "Class labels: [0 1 2]\n"
     ]
    }
   ],
   "source": [
    "iris = datasets.load_iris()\n",
    "X = iris.data[:,[2,3]]\n",
    "y = iris.target\n",
    "print(\"Class labels:\", np.unique(y))\n",
    "\n",
    "from sklearn.model_selection import train_test_split\n",
    "X_train, X_test, y_train, y_test = train_test_split(X, y, test_size=0.3, random_state=1, stratify=y)\n",
    "X_combined = np.vstack((X_train, X_test))\n",
    "y_combined = np.hstack((y_train, y_test))"
   ]
  },
  {
   "cell_type": "markdown",
   "metadata": {},
   "source": [
    "### 線形SVM(SVC)"
   ]
  },
  {
   "cell_type": "code",
   "execution_count": 20,
   "metadata": {},
   "outputs": [
    {
     "name": "stderr",
     "output_type": "stream",
     "text": [
      "'c' argument looks like a single numeric RGB or RGBA sequence, which should be avoided as value-mapping will have precedence in case its length matches with 'x' & 'y'.  Please use a 2-D array with a single row if you really want to specify the same RGB or RGBA value for all points.\n",
      "'c' argument looks like a single numeric RGB or RGBA sequence, which should be avoided as value-mapping will have precedence in case its length matches with 'x' & 'y'.  Please use a 2-D array with a single row if you really want to specify the same RGB or RGBA value for all points.\n",
      "'c' argument looks like a single numeric RGB or RGBA sequence, which should be avoided as value-mapping will have precedence in case its length matches with 'x' & 'y'.  Please use a 2-D array with a single row if you really want to specify the same RGB or RGBA value for all points.\n"
     ]
    },
    {
     "name": "stdout",
     "output_type": "stream",
     "text": [
      "xx1.ravel() 86900 [0.   0.02 0.04 ... 7.84 7.86 7.88]\n",
      "xx2.ravel() 86900 [-0.9  -0.9  -0.9  ...  3.48  3.48  3.48]\n"
     ]
    },
    {
     "data": {
      "image/png": "[encoded data removed]",
      "text/plain": [
       "<Figure size 432x288 with 1 Axes>"
      ]
     },
     "metadata": {
      "needs_background": "light"
     },
     "output_type": "display_data"
    }
   ],
   "source": [
    "# スラック変数Cの値が大きいほど、誤判定を許容する\n",
    "svc = SVC(kernel='linear', C=0.01, random_state=1)\n",
    "svc.fit(X_train, y_train)\n",
    "plot_decision_regions(X_combined, y_combined, classifier=svc, test_idx=range(105, 150))\n",
    "plt.xlabel('petal length [cm]')\n",
    "plt.ylabel('petal width [cm]')\n",
    "plt.legend(loc='best')\n",
    "plt.tight_layout()\n",
    "plt.show()"
   ]
  },
  {
   "cell_type": "markdown",
   "metadata": {},
   "source": [
    "### 確率的勾配降下法に基づくSVC"
   ]
  },
  {
   "cell_type": "code",
   "execution_count": 21,
   "metadata": {},
   "outputs": [
    {
     "name": "stderr",
     "output_type": "stream",
     "text": [
      "/Users/inoueshinichi/.pyenv/versions/anaconda3-5.0.1/envs/Education/lib/python3.6/site-packages/sklearn/linear_model/stochastic_gradient.py:166: FutureWarning: max_iter and tol parameters have been added in SGDClassifier in 0.19. If both are left unset, they default to max_iter=5 and tol=None. If tol is not None, max_iter defaults to max_iter=1000. From 0.21, default max_iter will be 1000, and default tol will be 1e-3.\n",
      "  FutureWarning)\n",
      "'c' argument looks like a single numeric RGB or RGBA sequence, which should be avoided as value-mapping will have precedence in case its length matches with 'x' & 'y'.  Please use a 2-D array with a single row if you really want to specify the same RGB or RGBA value for all points.\n",
      "'c' argument looks like a single numeric RGB or RGBA sequence, which should be avoided as value-mapping will have precedence in case its length matches with 'x' & 'y'.  Please use a 2-D array with a single row if you really want to specify the same RGB or RGBA value for all points.\n",
      "'c' argument looks like a single numeric RGB or RGBA sequence, which should be avoided as value-mapping will have precedence in case its length matches with 'x' & 'y'.  Please use a 2-D array with a single row if you really want to specify the same RGB or RGBA value for all points.\n"
     ]
    },
    {
     "name": "stdout",
     "output_type": "stream",
     "text": [
      "xx1.ravel() 86900 [0.   0.02 0.04 ... 7.84 7.86 7.88]\n",
      "xx2.ravel() 86900 [-0.9  -0.9  -0.9  ...  3.48  3.48  3.48]\n"
     ]
    },
    {
     "data": {
      "image/png": "[encoded data removed]",
      "text/plain": [
       "<Figure size 432x288 with 1 Axes>"
      ]
     },
     "metadata": {
      "needs_background": "light"
     },
     "output_type": "display_data"
    }
   ],
   "source": [
    "from sklearn.linear_model import SGDClassifier\n",
    "\n",
    "# SVC = コスト：ヒンジ関数、ペナルティ：L2ノルム, α=C(スラック変数)\n",
    "sgd_svc = SGDClassifier(loss='hinge', penalty='l2', alpha=0.01)\n",
    "sgd_svc.fit(X_train, y_train)\n",
    "plot_decision_regions(X_combined, y_combined, classifier=sgd_svc, test_idx=range(105, 150))\n",
    "plt.xlabel('petal length [cm]')\n",
    "plt.ylabel('petal width [cm]')\n",
    "plt.legend(loc='best')\n",
    "plt.tight_layout()\n",
    "plt.show()"
   ]
  },
  {
   "cell_type": "markdown",
   "metadata": {},
   "source": [
    "### RBF_SVC"
   ]
  },
  {
   "cell_type": "markdown",
   "metadata": {},
   "source": [
    "$$\n",
    "\\begin{align}\n",
    "    K(\\boldsymbol{x}^{(i)}, \\boldsymbol{x}^{(j)}) &= \\exp\\bigl(-\\frac{||\\boldsymbol{x}^{(i)} - \\boldsymbol{x}^{(j)}||^{2}}{2 \\sigma^{2}}\\bigr) \\\\\n",
    "    &= \\exp\\bigl(-\\gamma||\\boldsymbol{x}^{(i)} - \\boldsymbol{x}^{(j)}||^{2}\\bigr)\n",
    "\\end{align}\n",
    "$$"
   ]
  },
  {
   "cell_type": "markdown",
   "metadata": {},
   "source": [
    "線形分離不可能なデータ・セットを準備"
   ]
  },
  {
   "cell_type": "code",
   "execution_count": 23,
   "metadata": {},
   "outputs": [
    {
     "data": {
      "image/png": "[encoded data removed]",
      "text/plain": [
       "<Figure size 432x288 with 1 Axes>"
      ]
     },
     "metadata": {
      "needs_background": "light"
     },
     "output_type": "display_data"
    }
   ],
   "source": [
    "np.random.seed(1)\n",
    "X_xor = np.random.randn(200, 2)\n",
    "y_xor = np.logical_xor(X_xor[:, 0] > 0, X_xor[:, 1] > 0) # 排他的論理和\n",
    "y_xor = np.where(y_xor, 1, -1) # 排他的論理和の値が真の場合１，そうでない場合-1\n",
    "plt.scatter(X_xor[y_xor==1, 0], X_xor[y_xor==1, 1], c='b', marker='x', label='1')\n",
    "plt.scatter(X_xor[y_xor==-1, 0], X_xor[y_xor==-1, 1], c='r', marker='s', label='-1')\n",
    "plt.xlim([-3, 3])\n",
    "plt.ylim([-3, 3])\n",
    "plt.legend(loc='best')\n",
    "plt.tight_layout()\n",
    "plt.show()"
   ]
  },
  {
   "cell_type": "markdown",
   "metadata": {},
   "source": [
    "$\\gamma$を大きくするとトレーニングサンプルの影響がおおきくなる。  \n",
    "Cを大きくすると間違いを許容するようになる"
   ]
  },
  {
   "cell_type": "code",
   "execution_count": 25,
   "metadata": {},
   "outputs": [
    {
     "name": "stderr",
     "output_type": "stream",
     "text": [
      "'c' argument looks like a single numeric RGB or RGBA sequence, which should be avoided as value-mapping will have precedence in case its length matches with 'x' & 'y'.  Please use a 2-D array with a single row if you really want to specify the same RGB or RGBA value for all points.\n",
      "'c' argument looks like a single numeric RGB or RGBA sequence, which should be avoided as value-mapping will have precedence in case its length matches with 'x' & 'y'.  Please use a 2-D array with a single row if you really want to specify the same RGB or RGBA value for all points.\n"
     ]
    },
    {
     "name": "stdout",
     "output_type": "stream",
     "text": [
      "xx1.ravel() 141904 [-3.793085 -3.773085 -3.753085 ...  3.986915  4.006915  4.026915]\n",
      "xx2.ravel() 141904 [-3.78253447 -3.78253447 -3.78253447 ...  3.43746553  3.43746553\n",
      "  3.43746553]\n"
     ]
    },
    {
     "data": {
      "image/png": "[encoded data removed]",
      "text/plain": [
       "<Figure size 432x288 with 1 Axes>"
      ]
     },
     "metadata": {
      "needs_background": "light"
     },
     "output_type": "display_data"
    },
    {
     "name": "stderr",
     "output_type": "stream",
     "text": [
      "'c' argument looks like a single numeric RGB or RGBA sequence, which should be avoided as value-mapping will have precedence in case its length matches with 'x' & 'y'.  Please use a 2-D array with a single row if you really want to specify the same RGB or RGBA value for all points.\n",
      "'c' argument looks like a single numeric RGB or RGBA sequence, which should be avoided as value-mapping will have precedence in case its length matches with 'x' & 'y'.  Please use a 2-D array with a single row if you really want to specify the same RGB or RGBA value for all points.\n"
     ]
    },
    {
     "name": "stdout",
     "output_type": "stream",
     "text": [
      "xx1.ravel() 141904 [-3.793085 -3.773085 -3.753085 ...  3.986915  4.006915  4.026915]\n",
      "xx2.ravel() 141904 [-3.78253447 -3.78253447 -3.78253447 ...  3.43746553  3.43746553\n",
      "  3.43746553]\n"
     ]
    },
    {
     "data": {
      "image/png": "[encoded data removed]",
      "text/plain": [
       "<Figure size 432x288 with 1 Axes>"
      ]
     },
     "metadata": {
      "needs_background": "light"
     },
     "output_type": "display_data"
    },
    {
     "name": "stderr",
     "output_type": "stream",
     "text": [
      "'c' argument looks like a single numeric RGB or RGBA sequence, which should be avoided as value-mapping will have precedence in case its length matches with 'x' & 'y'.  Please use a 2-D array with a single row if you really want to specify the same RGB or RGBA value for all points.\n",
      "'c' argument looks like a single numeric RGB or RGBA sequence, which should be avoided as value-mapping will have precedence in case its length matches with 'x' & 'y'.  Please use a 2-D array with a single row if you really want to specify the same RGB or RGBA value for all points.\n"
     ]
    },
    {
     "name": "stdout",
     "output_type": "stream",
     "text": [
      "xx1.ravel() 141904 [-3.793085 -3.773085 -3.753085 ...  3.986915  4.006915  4.026915]\n",
      "xx2.ravel() 141904 [-3.78253447 -3.78253447 -3.78253447 ...  3.43746553  3.43746553\n",
      "  3.43746553]\n"
     ]
    },
    {
     "data": {
      "image/png": "[encoded data removed]",
      "text/plain": [
       "<Figure size 432x288 with 1 Axes>"
      ]
     },
     "metadata": {
      "needs_background": "light"
     },
     "output_type": "display_data"
    }
   ],
   "source": [
    "for c, g in zip([10, 1, 0.1], [0.1, 0.05, 0.01]):\n",
    "    rbf_svc = SVC(kernel='rbf', C=c, gamma=g, random_state=1)\n",
    "    rbf_svc.fit(X_xor, y_xor)\n",
    "    plot_decision_regions(X_xor, y_xor, classifier=rbf_svc, test_idx=range(105, 150))\n",
    "    plt.xlabel('petal length [cm]')\n",
    "    plt.ylabel('petal width [cm]')\n",
    "    plt.legend(loc='best')\n",
    "    plt.tight_layout()\n",
    "    plt.show()"
   ]
  },
  {
   "cell_type": "code",
   "execution_count": null,
   "metadata": {},
   "outputs": [],
   "source": []
  }
 ],
 "metadata": {
  "kernelspec": {
   "display_name": "Python 3",
   "language": "python",
   "name": "python3"
  },
  "language_info": {
   "codemirror_mode": {
    "name": "ipython",
    "version": 3
   },
   "file_extension": ".py",
   "mimetype": "text/x-python",
   "name": "python",
   "nbconvert_exporter": "python",
   "pygments_lexer": "ipython3",
   "version": "3.7.3"
  }
 },
 "nbformat": 4,
 "nbformat_minor": 2
}
