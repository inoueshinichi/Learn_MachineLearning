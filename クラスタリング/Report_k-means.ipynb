{
 "cells": [
  {
   "cell_type": "markdown",
   "metadata": {},
   "source": [
    "# k-means"
   ]
  },
  {
   "cell_type": "markdown",
   "metadata": {},
   "source": [
    "教師なしのクラスタリング"
   ]
  },
  {
   "cell_type": "markdown",
   "metadata": {},
   "source": [
    "・各点$x_{i}$に対してランダムにクラスタを割り当てる。  \n",
    "・収束するまで以下を繰り返す。\n",
    "1. 各クラスタに割り当てられた点について重心を計算する。\n",
    "2. 各点について、上記で計算された重心からの距離を計算し、距離が一番近いクラスタに割り当て直す。  \n",
    "収束条件は,点のクラスタへの所属情報が変化しない場合または所属情報の変化が一定の割合以下である場合。"
   ]
  },
  {
   "cell_type": "markdown",
   "metadata": {},
   "source": [
    "距離としては、一般的にユークリッド距離を使う。"
   ]
  },
  {
   "cell_type": "markdown",
   "metadata": {},
   "source": [
    "j番目のクラスタに属する点のインデックス集合を$I_{j}$とするとクラスタ重心は  \n",
    "$$\n",
    "        G_{j} = \\frac{1}{|I_{j}|}\\sum_{i \\in I_{j}}\\boldsymbol{x}_{i}\n",
    "$$"
   ]
  },
  {
   "cell_type": "markdown",
   "metadata": {},
   "source": [
    "各クラスタの重心を求める上での実装上の工夫"
   ]
  },
  {
   "cell_type": "markdown",
   "metadata": {},
   "source": [
    "特徴量行列Xと各点(レコード)のラベルlabels"
   ]
  },
  {
   "cell_type": "code",
   "execution_count": 2,
   "metadata": {},
   "outputs": [],
   "source": [
    "import numpy as np\n",
    "X = np.array([[1,2]\n",
    "             ,[2,3]\n",
    "             ,[3,4]\n",
    "             ,[4,5]\n",
    "             ,[5,6]\n",
    "             ,[6,7]\n",
    "             ,[7,8]])\n",
    "labels = np.array([0,1,2,0,1,2,0])"
   ]
  },
  {
   "cell_type": "markdown",
   "metadata": {},
   "source": [
    "0に所属→(1,2), (4,5), (7,8)  \n",
    "1に所属→(2,3), (5,6)  \n",
    "2に所属→(3,4), (6,7)"
   ]
  },
  {
   "cell_type": "markdown",
   "metadata": {},
   "source": [
    "工夫：クラスタ0に所属するデータ点のみ抽出する"
   ]
  },
  {
   "cell_type": "code",
   "execution_count": 3,
   "metadata": {},
   "outputs": [
    {
     "data": {
      "text/plain": [
       "array([[1, 2],\n",
       "       [4, 5],\n",
       "       [7, 8]])"
      ]
     },
     "execution_count": 3,
     "metadata": {},
     "output_type": "execute_result"
    }
   ],
   "source": [
    "X[labels==0,:]"
   ]
  },
  {
   "cell_type": "markdown",
   "metadata": {},
   "source": [
    "重心を計算するには、縦方向に平均を取れば良い"
   ]
  },
  {
   "cell_type": "code",
   "execution_count": 4,
   "metadata": {},
   "outputs": [
    {
     "data": {
      "text/plain": [
       "array([4., 5.])"
      ]
     },
     "execution_count": 4,
     "metadata": {},
     "output_type": "execute_result"
    }
   ],
   "source": [
    "X[labels==0,:].mean(axis=0)"
   ]
  },
  {
   "cell_type": "markdown",
   "metadata": {},
   "source": [
    "クラスタの中心cluster_centers"
   ]
  },
  {
   "cell_type": "code",
   "execution_count": 5,
   "metadata": {},
   "outputs": [],
   "source": [
    "cluster_centers = np.array([[1,1]\n",
    "                           ,[2,2]\n",
    "                           ,[3,3]])"
   ]
  },
  {
   "cell_type": "markdown",
   "metadata": {},
   "source": [
    "3つの中心とX(特徴量行列)で表される7つの店との距離を総当たりで計算する必要があるが、距離の２乗は下記の方法で一気に計算できる。"
   ]
  },
  {
   "cell_type": "code",
   "execution_count": 6,
   "metadata": {},
   "outputs": [
    {
     "data": {
      "text/plain": [
       "array([[1, 2],\n",
       "       [2, 3],\n",
       "       [3, 4],\n",
       "       [4, 5],\n",
       "       [5, 6],\n",
       "       [6, 7],\n",
       "       [7, 8]])"
      ]
     },
     "execution_count": 6,
     "metadata": {},
     "output_type": "execute_result"
    }
   ],
   "source": [
    "X[:,:]"
   ]
  },
  {
   "cell_type": "code",
   "execution_count": 7,
   "metadata": {},
   "outputs": [
    {
     "data": {
      "text/plain": [
       "array([[[1],\n",
       "        [2]],\n",
       "\n",
       "       [[2],\n",
       "        [3]],\n",
       "\n",
       "       [[3],\n",
       "        [4]],\n",
       "\n",
       "       [[4],\n",
       "        [5]],\n",
       "\n",
       "       [[5],\n",
       "        [6]],\n",
       "\n",
       "       [[6],\n",
       "        [7]],\n",
       "\n",
       "       [[7],\n",
       "        [8]]])"
      ]
     },
     "execution_count": 7,
     "metadata": {},
     "output_type": "execute_result"
    }
   ],
   "source": [
    "X[:,:,np.newaxis]"
   ]
  },
  {
   "cell_type": "code",
   "execution_count": 8,
   "metadata": {},
   "outputs": [
    {
     "data": {
      "text/plain": [
       "array([[1, 2, 3],\n",
       "       [1, 2, 3]])"
      ]
     },
     "execution_count": 8,
     "metadata": {},
     "output_type": "execute_result"
    }
   ],
   "source": [
    "cluster_centers.T"
   ]
  },
  {
   "cell_type": "code",
   "execution_count": 9,
   "metadata": {},
   "outputs": [
    {
     "data": {
      "text/plain": [
       "array([[[1, 2, 3],\n",
       "        [1, 2, 3]]])"
      ]
     },
     "execution_count": 9,
     "metadata": {},
     "output_type": "execute_result"
    }
   ],
   "source": [
    "cluster_centers.T[np.newaxis,:,:]"
   ]
  },
  {
   "cell_type": "code",
   "execution_count": 10,
   "metadata": {},
   "outputs": [
    {
     "data": {
      "text/plain": [
       "array([[[ 0, -1, -2],\n",
       "        [ 1,  0, -1]],\n",
       "\n",
       "       [[ 1,  0, -1],\n",
       "        [ 2,  1,  0]],\n",
       "\n",
       "       [[ 2,  1,  0],\n",
       "        [ 3,  2,  1]],\n",
       "\n",
       "       [[ 3,  2,  1],\n",
       "        [ 4,  3,  2]],\n",
       "\n",
       "       [[ 4,  3,  2],\n",
       "        [ 5,  4,  3]],\n",
       "\n",
       "       [[ 5,  4,  3],\n",
       "        [ 6,  5,  4]],\n",
       "\n",
       "       [[ 6,  5,  4],\n",
       "        [ 7,  6,  5]]])"
      ]
     },
     "execution_count": 10,
     "metadata": {},
     "output_type": "execute_result"
    }
   ],
   "source": [
    "X[:,:,np.newaxis] - cluster_centers.T[np.newaxis,:,:]"
   ]
  },
  {
   "cell_type": "code",
   "execution_count": 11,
   "metadata": {},
   "outputs": [
    {
     "data": {
      "text/plain": [
       "array([[[ 0,  1,  4],\n",
       "        [ 1,  0,  1]],\n",
       "\n",
       "       [[ 1,  0,  1],\n",
       "        [ 4,  1,  0]],\n",
       "\n",
       "       [[ 4,  1,  0],\n",
       "        [ 9,  4,  1]],\n",
       "\n",
       "       [[ 9,  4,  1],\n",
       "        [16,  9,  4]],\n",
       "\n",
       "       [[16,  9,  4],\n",
       "        [25, 16,  9]],\n",
       "\n",
       "       [[25, 16,  9],\n",
       "        [36, 25, 16]],\n",
       "\n",
       "       [[36, 25, 16],\n",
       "        [49, 36, 25]]])"
      ]
     },
     "execution_count": 11,
     "metadata": {},
     "output_type": "execute_result"
    }
   ],
   "source": [
    "(X[:,:,np.newaxis] - cluster_centers.T[np.newaxis,:,:])**2"
   ]
  },
  {
   "cell_type": "code",
   "execution_count": 13,
   "metadata": {},
   "outputs": [
    {
     "data": {
      "text/plain": [
       "array([[ 1,  1,  5],\n",
       "       [ 5,  1,  1],\n",
       "       [13,  5,  1],\n",
       "       [25, 13,  5],\n",
       "       [41, 25, 13],\n",
       "       [61, 41, 25],\n",
       "       [85, 61, 41]])"
      ]
     },
     "execution_count": 13,
     "metadata": {},
     "output_type": "execute_result"
    }
   ],
   "source": [
    "s = ((X[:,:,np.newaxis] - cluster_centers.T[np.newaxis,:,:])**2).sum(axis=1)\n",
    "s"
   ]
  },
  {
   "cell_type": "markdown",
   "metadata": {},
   "source": [
    "データ点(レコード)に最も近い所属クラスタはaxis=1方向に距離が短いもの"
   ]
  },
  {
   "cell_type": "code",
   "execution_count": 14,
   "metadata": {},
   "outputs": [
    {
     "data": {
      "text/plain": [
       "array([0, 1, 2, 2, 2, 2, 2])"
      ]
     },
     "execution_count": 14,
     "metadata": {},
     "output_type": "execute_result"
    }
   ],
   "source": [
    "s.argmin(axis=1)"
   ]
  },
  {
   "cell_type": "markdown",
   "metadata": {},
   "source": [
    "実装"
   ]
  },
  {
   "cell_type": "code",
   "execution_count": 26,
   "metadata": {},
   "outputs": [],
   "source": [
    "import numpy as np\n",
    "import itertools\n",
    "\n",
    "class KMeans:\n",
    "    def __init__(self, n_clusters, max_iter=1000, random_seed=0):\n",
    "        self.n_clusters_ = n_clusters\n",
    "        self.max_iter_ = max_iter\n",
    "        self.random_state_ = np.random.RandomState(random_seed)\n",
    "        \n",
    "    def fit(self, X):\n",
    "        # 初期値として各レコード(データ点)に対応するクラスタを決める\n",
    "        cycle = itertools.cycle(range(self.n_clusters_)) # 0~self.n_clusters-1のサイクリックなジェネレーターを作る\n",
    "        self.labels_ = np.fromiter(itertools.islice(cycle, X.shape[0]), dtype=np.int)\n",
    "        \n",
    "        # 準備\n",
    "        self.random_state_.shuffle(self.labels_)\n",
    "        self.labels_prev = np.zeros(X.shape[0])\n",
    "        count = 0\n",
    "        self.cluster_centers_ = np.zeros((self.n_clusters_, X.shape[1]))\n",
    "        \n",
    "        # イテレーション\n",
    "        while (not (self.labels_ == self.labels_prev).all() and count < self.max_iter_):\n",
    "            for i in range(self.n_clusters_):\n",
    "                XX = X[self.labels_ == i,:]\n",
    "                self.cluster_centers_[i,:] = XX.mean(axis=0)\n",
    "                dist = ((X[:,:,np.newaxis] - self.cluster_centers_.T[np.newaxis,:,:])**2).sum(axis=1)\n",
    "                self.labels_prev = self.labels_\n",
    "                self.labels_ = dist.argmin(axis=1)\n",
    "                count += 1\n",
    "                \n",
    "    def predict(self, X):\n",
    "        dist = ((X[:,:,np.newaxis] - self.cluster_centers_.T[np.newaxis,:,:])**2).sum(axis=1)\n",
    "        labels = dist.argmin(axis=1)\n",
    "        return labels\n",
    "                "
   ]
  },
  {
   "cell_type": "code",
   "execution_count": 30,
   "metadata": {
    "scrolled": true
   },
   "outputs": [
    {
     "data": {
      "image/png": "[encoded data removed]",
      "text/plain": [
       "<Figure size 432x288 with 1 Axes>"
      ]
     },
     "metadata": {
      "needs_background": "light"
     },
     "output_type": "display_data"
    }
   ],
   "source": [
    "import numpy as np\n",
    "import matplotlib.pyplot as plt\n",
    "\n",
    "np.random.seed(2)\n",
    "points1 = np.random.randn(50, 2)\n",
    "points2 = np.random.randn(50, 2) + np.array([5, 0])\n",
    "points3 = np.random.randn(50, 2) + np.array([5, 5])\n",
    "\n",
    "points = np.r_[points1, points2, points3]\n",
    "np.random.shuffle(points)\n",
    "\n",
    "model = KMeans(3)\n",
    "model.fit(points)\n",
    "\n",
    "markers = ['+', '*', 'o']\n",
    "for i in range(3):\n",
    "    p = points[model.labels_ == i, :]\n",
    "    plt.scatter(p[:, 0], p[:, 1], color='k', marker=markers[i])\n",
    "plt.show()"
   ]
  },
  {
   "cell_type": "markdown",
   "metadata": {},
   "source": [
    "### scikit-learn k-means"
   ]
  },
  {
   "cell_type": "markdown",
   "metadata": {},
   "source": [
    "https://scikit-learn.org/stable/modules/generated/sklearn.cluster.KMeans.html#sklearn.cluster.KMeans"
   ]
  },
  {
   "cell_type": "code",
   "execution_count": null,
   "metadata": {},
   "outputs": [],
   "source": []
  }
 ],
 "metadata": {
  "kernelspec": {
   "display_name": "Python 3",
   "language": "python",
   "name": "python3"
  },
  "language_info": {
   "codemirror_mode": {
    "name": "ipython",
    "version": 3
   },
   "file_extension": ".py",
   "mimetype": "text/x-python",
   "name": "python",
   "nbconvert_exporter": "python",
   "pygments_lexer": "ipython3",
   "version": "3.7.3"
  }
 },
 "nbformat": 4,
 "nbformat_minor": 2
}
