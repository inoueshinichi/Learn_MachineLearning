{
 "cells": [
  {
   "cell_type": "markdown",
   "metadata": {},
   "source": [
    "# ロジスティック回帰(２値分類なので回帰ではない)"
   ]
  },
  {
   "cell_type": "markdown",
   "metadata": {},
   "source": [
    "ラベルの値は0または1とする。  \n",
    "与えられた特徴量のサンプル$\\boldsymbol{x}\\in\\mathbb{R}^d$に対して，ラベルyが1になる確率を$P(Y=1|X=\\boldsymbol{x})$で表し，yが0になる確率を$P(Y=0|X=\\boldsymbol{x})$で表す。"
   ]
  },
  {
   "cell_type": "markdown",
   "metadata": {},
   "source": [
    "$$\n",
    "    P(Y=1|X=\\boldsymbol{x})=\\rho(w_0 + \\sum_{j=1}^{d}x_{j}w_{j})=\\rho(\\boldsymbol{w}^{T}\\tilde{\\boldsymbol{x}})\n",
    "$$"
   ]
  },
  {
   "cell_type": "markdown",
   "metadata": {},
   "source": [
    "シグモイド関数\n",
    "$$\n",
    "    \\rho(\\zeta)=\\frac{1}{1+\\exp(-\\zeta)} \\\\\n",
    "    \\frac{d\\rho}{d\\zeta} = \\rho(\\zeta)(1-\\rho(\\zeta))\n",
    "$$"
   ]
  },
  {
   "cell_type": "markdown",
   "metadata": {},
   "source": [
    "確率\n",
    "$$\n",
    "\\begin{align}\n",
    "    P(Y=y|X=\\boldsymbol{x}) &= P(Y=1|X=\\boldsymbol{x})^{y}P(Y=0|X=\\boldsymbol{x})^{1-y} \\\\\n",
    "    & = \\rho(\\boldsymbol{w}^{T}\\tilde{\\boldsymbol{x}})^{y}(1-\\rho(\\boldsymbol{w}^{T}\\tilde{\\boldsymbol{x}}))^{1-y}\n",
    "\\end{align}\n",
    "$$"
   ]
  },
  {
   "cell_type": "markdown",
   "metadata": {},
   "source": [
    "尤度関数\n",
    "$$\n",
    "    P(\\boldsymbol{y}|\\boldsymbol{X}) = \\prod_{k=1}^{n}\\bigl[\\rho(\\boldsymbol{w}^{T}\\tilde{\\boldsymbol{x}}_{k})^{y_k}(1-\\rho(\\boldsymbol{w}^{T}\\tilde{\\boldsymbol{x}}_{k}))^{1-y_k}\\bigr]\n",
    "$$"
   ]
  },
  {
   "cell_type": "markdown",
   "metadata": {},
   "source": [
    "対数尤度関数の双対→コスト関数とみなす\n",
    "$$\n",
    "    E(\\boldsymbol{w})=-\\log P(\\boldsymbol{y}|\\boldsymbol{X}) = -\\sum_{k=1}^{n}\\bigl[y_{k}\\log \\rho(\\boldsymbol{w}^{T}\\tilde{\\boldsymbol{x}}_{k}) + (1-y_{k})\\log (1-\\rho(\\boldsymbol{w}^{T}\\tilde{\\boldsymbol{x}}_{k}))\\bigr]\n",
    "$$"
   ]
  },
  {
   "cell_type": "markdown",
   "metadata": {},
   "source": [
    "最適化手法としてコスト関数$E(\\boldsymbol{w})$の導関数$\\nabla E(\\boldsymbol{w})=0$に__ニュートン法__を用いる  \n",
    "$\\nabla E(\\boldsymbol{w})$を更に微分してヘッセ行列$\\boldsymbol{H}=\\nabla^2 E(\\boldsymbol{w})$を計算する。\n",
    "$$\n",
    "\\begin{align}\n",
    "    \\nabla E(\\boldsymbol{w}) &= -\\sum_{k=1}^{n}\\biggl[y_k(1-\\rho(\\boldsymbol{w}^{T}\\tilde{\\boldsymbol{x}}_k))\\tilde{\\boldsymbol{x}}_k - (1-y_k)\\rho(\\boldsymbol{w}^{T}\\tilde{\\boldsymbol{x}}_k)\\tilde{\\boldsymbol{x}}_k\\biggr] \\\\\n",
    "    &= \\sum_{k=1}^{n}(\\rho(\\boldsymbol{w}^T\\tilde{\\boldsymbol{x}}_k)-y_k)\\tilde{\\boldsymbol{x}}_k\n",
    "\\end{align}\n",
    "$$"
   ]
  },
  {
   "cell_type": "markdown",
   "metadata": {},
   "source": [
    "ここで，\n",
    "$$\n",
    "    \\hat{\\boldsymbol{y}}=\\bigl(\\rho(\\boldsymbol{w}^{T}\\tilde{\\boldsymbol{x}}_1), \\rho(\\boldsymbol{w}^{T}\\tilde{\\boldsymbol{x}}_2), \\cdots, \\rho(\\boldsymbol{w}^{T}\\tilde{\\boldsymbol{x}}_n) \\bigr)^T\n",
    "$$\n",
    "とおくと，行列$\\tilde{\\boldsymbol{X}}$を使って，次のように簡潔に書ける。  \n",
    "$$\n",
    "    \\nabla E(\\boldsymbol{w}) = \\tilde{\\boldsymbol{X}}^{T}(\\hat{\\boldsymbol{y}}-\\boldsymbol{y})\n",
    "$$"
   ]
  },
  {
   "cell_type": "markdown",
   "metadata": {},
   "source": [
    "ヘッセ行列$\\boldsymbol{H}$の(i,j)成分$H_{ij}$は，  \n",
    "$$\n",
    "    \\begin{align}\n",
    "        H_{ij} &= \\frac{d}{dw_j}\\biggl[\\sum_{k=1}^{n}\\bigl(\\rho(\\boldsymbol{w}^{T}\\tilde{\\boldsymbol{x}_k})-y\\bigr)x_{ki} \\biggr] \\\\\n",
    "        &= \\sum_{k=1}\\rho(\\boldsymbol{w}^{T}\\tilde{\\boldsymbol{x}_k})(1-\\rho(\\boldsymbol{w}^{T}\\tilde{\\boldsymbol{x}}_k))x_{ki}x_{kj} \\\\\n",
    "        &= \\sum_{k=1}^{n}\\hat{y}_k(1-\\hat{y}_k)x_{ki}x_{kj}\n",
    "    \\end{align}\n",
    "$$"
   ]
  },
  {
   "cell_type": "markdown",
   "metadata": {},
   "source": [
    "ヘッセ行列を  \n",
    "$$\n",
    "    \\boldsymbol{R}= diag(\\hat{y}_1(1-\\hat{y}_1), \\hat{y}_2(1-\\hat{y}_2), \\cdots, \\hat{y}_n(1-\\hat{y}_n))\n",
    "$$\n",
    "を用いて表すと  \n",
    "$$\n",
    "    \\boldsymbol{H}=\\tilde{\\boldsymbol{X}}^{T}\\boldsymbol{R}\\tilde{\\boldsymbol{X}}\n",
    "$$"
   ]
  },
  {
   "cell_type": "markdown",
   "metadata": {},
   "source": [
    "ニュートン法\n",
    "$$\n",
    "    \\boldsymbol{w}^{new} = \\boldsymbol{w}^{old} - \\boldsymbol{H}^{-1}\\nabla E(\\boldsymbol{w}^{old})\n",
    "$$"
   ]
  },
  {
   "cell_type": "markdown",
   "metadata": {},
   "source": [
    "$$\n",
    "\\begin{align}\n",
    "    \\boldsymbol{w}^{new} &= \\boldsymbol{w}^{old} - (\\boldsymbol{X}^{T}\\boldsymbol{R}\\boldsymbol{X})^{-1}\\boldsymbol{X}^{T}(\\hat{\\boldsymbol{y}}-\\boldsymbol{y}) \\\\\n",
    "    &= (\\boldsymbol{X}^{T}\\boldsymbol{R}\\boldsymbol{X})^{-1}\\boldsymbol{X}^{T}\\boldsymbol{R}\\boldsymbol{X}\\boldsymbol{w}^{old} - (\\boldsymbol{X}^{T}\\boldsymbol{R}\\boldsymbol{X})^{-1}\\boldsymbol{X}^{T}\\boldsymbol{R}\\boldsymbol{R}^{-1}(\\hat{\\boldsymbol{y}}-\\boldsymbol{y})\\\\\n",
    "    &= (\\boldsymbol{X}^{T}\\boldsymbol{R}\\boldsymbol{X})^{-1}(\\boldsymbol{X}^{T}\\boldsymbol{R})[\\boldsymbol{X}\\boldsymbol{w}^{old}-\\boldsymbol{R}^{-1}(\\hat{\\boldsymbol{y}}-\\boldsymbol{y})]\n",
    "\\end{align}\n",
    "$$"
   ]
  },
  {
   "cell_type": "markdown",
   "metadata": {},
   "source": [
    "※$\\boldsymbol{R}$の値も$\\boldsymbol{w}$に依存するので，$\\boldsymbol{w}$を更新するたびに，計算し直す必要がある。"
   ]
  },
  {
   "cell_type": "markdown",
   "metadata": {},
   "source": [
    "１次連立方程式\n",
    "$$\n",
    "    (\\boldsymbol{X}^{T}\\boldsymbol{R}\\boldsymbol{X})\\boldsymbol{w}^{new} = (\\boldsymbol{X}^{T}\\boldsymbol{R})[\\boldsymbol{X}\\boldsymbol{w}^{old}-\\boldsymbol{R}^{-1}(\\hat{\\boldsymbol{y}}-\\boldsymbol{y})]\n",
    "$$"
   ]
  },
  {
   "cell_type": "markdown",
   "metadata": {},
   "source": [
    "### ロジスティック回帰"
   ]
  },
  {
   "cell_type": "code",
   "execution_count": 1,
   "metadata": {},
   "outputs": [],
   "source": [
    "import numpy as np\n",
    "from scipy import linalg\n",
    "\n",
    "THRESH_MIN = 1e-10\n",
    "\n",
    "def sigmoid(x):\n",
    "    return 1 / (1 + np.exp(-x))\n",
    "\n",
    "class NativeLogisticRegression:\n",
    "    def __init__(self, tol=0.001, max_iter=3, random_seed=0):\n",
    "        self.tol_ = tol\n",
    "        self.max_iter_ = max_iter\n",
    "        self.random_state_ = np.random.RandomState(random_seed)\n",
    "        self.w_ = None\n",
    "        \n",
    "    def fit(self, X, y):\n",
    "        self.w_ = self.random_state_.randn(X.shape[1] + 1)\n",
    "        Xtil = np.c_[np.ones(X.shape[0]), X]\n",
    "        diff = np.inf\n",
    "        # prev_w = self.w_\n",
    "        iter = 0\n",
    "        \n",
    "        while diff > self.tol_ and iter < self.max_iter_:\n",
    "            yhat = sigmoid(np.dot(Xtil, self.w_)) # Xtilがnサンプルの特徴行列だからw^T*XtilではなくXtil*wとする\n",
    "            r = np.clip(yhat * (1 - yhat), THRESH_MIN, np.inf) # 対角行列は1次元配列で表現して，ブロードキャストで演算する\n",
    "            XR = Xtil.T * r # 行方向のブロードキャスト\n",
    "            XRX = np.dot(Xtil.T * r, Xtil)\n",
    "            prev_w = self.w_\n",
    "            b = np.dot(XR, np.dot(Xtil, self.w_) - 1 / r * (yhat - y)) # 1/rはR^-1\n",
    "            self.w_ = linalg.solve(XRX, b) # １次連立方程式\n",
    "            diff = abs(prev_w - self.w_).mean() # ニュートン法判定\n",
    "            iter += 1\n",
    "            \n",
    "    def predict(self, X):\n",
    "        Xtil = np.c_[np.ones(X.shape[0]), X]\n",
    "        yhat = sigmoid(np.dot(Xtil, self.w_))\n",
    "        return np.where(yhat > 0.5, 1, 0) # ２値判定"
   ]
  },
  {
   "cell_type": "code",
   "execution_count": 3,
   "metadata": {},
   "outputs": [
    {
     "name": "stdout",
     "output_type": "stream",
     "text": [
      "Accuracy: 97/100 = 0.97\n"
     ]
    }
   ],
   "source": [
    "import csv\n",
    "import numpy as np\n",
    "\n",
    "n_test = 100\n",
    "X = []\n",
    "y = []\n",
    "\n",
    "with open(\"./回帰分析_data/wdbc.csv\") as fp:\n",
    "    for row in csv.reader(fp, delimiter=\",\"):\n",
    "        if row[1] == \"B\":\n",
    "            y.append(0)\n",
    "        else:\n",
    "            y.append(1)\n",
    "        X.append(row[2:])\n",
    "        \n",
    "y = np.array(y, dtype=np.float64)\n",
    "X = np.array(X, dtype=np.float64)\n",
    "y_train = y[:-n_test]\n",
    "X_train = X[:-n_test]\n",
    "y_test = y[-n_test:]\n",
    "X_test = X[-n_test:]\n",
    "\n",
    "model = NativeLogisticRegression(tol=0.01)\n",
    "model.fit(X_train, y_train)\n",
    "\n",
    "y_predict = model.predict(X_test)\n",
    "n_hits = (y_test == y_predict).sum()\n",
    "print(\"Accuracy: {}/{} = {}\".format(n_hits, n_test, n_hits / n_test))"
   ]
  },
  {
   "cell_type": "markdown",
   "metadata": {},
   "source": [
    "# scikit-learn ロジスティック回帰"
   ]
  },
  {
   "cell_type": "markdown",
   "metadata": {},
   "source": [
    "https://scikit-learn.org/stable/modules/generated/sklearn.linear_model.LogisticRegression.html#sklearn.linear_model.LogisticRegression"
   ]
  },
  {
   "cell_type": "code",
   "execution_count": null,
   "metadata": {},
   "outputs": [],
   "source": [
    "from sklearn import datasets\n",
    "import numpy as np\n",
    "import matplotlib.pyplot as plt"
   ]
  },
  {
   "cell_type": "markdown",
   "metadata": {},
   "source": [
    "領域分類の関数"
   ]
  },
  {
   "cell_type": "code",
   "execution_count": 3,
   "metadata": {},
   "outputs": [],
   "source": [
    "from matplotlib.colors import ListedColormap\n",
    "\n",
    "def plot_decision_regions(X, y, classifier, test_idx=None, resolution=0.02):\n",
    "    markers = ('s', 'x', 'o', '^', 'v')\n",
    "    colors = ('red', 'blue', 'lightgreen', 'gray', 'cyan')\n",
    "    cmap = ListedColormap(colors[:len(np.unique(y))])\n",
    "\n",
    "    x1_min, x1_max = X[:, 0].min() - 1, X[:, 0].max() + 1\n",
    "    x2_min, x2_max = X[:, 1].min() - 1, X[:, 1].max() + 1\n",
    "    \n",
    "    xx1, xx2 = np.meshgrid(np.arange(x1_min, x1_max, resolution), np.arange(x2_min, x2_max, resolution))\n",
    "\n",
    "    # ZはN次元の予測値ベクトル\n",
    "    Z = classifier.predict(np.array([xx1.ravel(), xx2.ravel()]).T)\n",
    "    Z = Z.reshape(xx1.shape)\n",
    "    print(\"xx1.ravel()\", len(xx1.ravel()), xx1.ravel())\n",
    "    print(\"xx2.ravel()\", len(xx2.ravel()), xx2.ravel())\n",
    "\n",
    "    plt.contourf(xx1, xx2, Z, alpha=0.4, cmap=cmap)\n",
    "    plt.xlim(xx1.min(), xx1.max())\n",
    "    plt.ylim(xx2.min(), xx2.max())\n",
    "\n",
    "    # クラス毎にサンプルをプロット\n",
    "    for idx, cl in enumerate(np.unique(y)):\n",
    "        plt.scatter(x=X[y == cl, 0], y=X[y == cl, 1], alpha=0.8, c=cmap(idx), marker=markers[idx], label=cl)\n",
    "\n",
    "    # テストサンプルを目立たせる（点を○で表示)\n",
    "    if test_idx:\n",
    "        X_test, y_test = X[test_idx, :], y[test_idx]\n",
    "        plt.scatter(X_test[:, 0], X_test[:, 1], c='', edgecolors='black', alpha=1.0, linewidths=1, marker='o', s=55, label='test set')\n",
    "        "
   ]
  },
  {
   "cell_type": "markdown",
   "metadata": {},
   "source": [
    "データセットの準備"
   ]
  },
  {
   "cell_type": "code",
   "execution_count": 4,
   "metadata": {},
   "outputs": [],
   "source": [
    "iris = datasets.load_iris()\n",
    "X = iris.data[:, [2, 3]]\n",
    "y = iris.target\n",
    "\n",
    "from sklearn.model_selection import train_test_split\n",
    "X_train, X_test, y_train, y_test = train_test_split(X, y, test_size=0.3, random_state=0)\n",
    "\n",
    "from sklearn.preprocessing import StandardScaler\n",
    "sc = StandardScaler()\n",
    "sc.fit(X_train)\n",
    "X_train_std = sc.transform(X_train)\n",
    "X_test_std = sc.transform(X_test)\n",
    "X_combined_std = np.vstack((X_train_std, X_test_std))\n",
    "y_combined = np.hstack((y_train, y_test))"
   ]
  },
  {
   "cell_type": "code",
   "execution_count": 6,
   "metadata": {},
   "outputs": [
    {
     "name": "stderr",
     "output_type": "stream",
     "text": [
      "/Users/inoueshinichi/.pyenv/versions/anaconda3-5.0.1/envs/Education/lib/python3.6/site-packages/sklearn/linear_model/logistic.py:433: FutureWarning: Default solver will be changed to 'lbfgs' in 0.22. Specify a solver to silence this warning.\n",
      "  FutureWarning)\n",
      "/Users/inoueshinichi/.pyenv/versions/anaconda3-5.0.1/envs/Education/lib/python3.6/site-packages/sklearn/linear_model/logistic.py:460: FutureWarning: Default multi_class will be changed to 'auto' in 0.22. Specify the multi_class option to silence this warning.\n",
      "  \"this warning.\", FutureWarning)\n",
      "'c' argument looks like a single numeric RGB or RGBA sequence, which should be avoided as value-mapping will have precedence in case its length matches with 'x' & 'y'.  Please use a 2-D array with a single row if you really want to specify the same RGB or RGBA value for all points.\n",
      "'c' argument looks like a single numeric RGB or RGBA sequence, which should be avoided as value-mapping will have precedence in case its length matches with 'x' & 'y'.  Please use a 2-D array with a single row if you really want to specify the same RGB or RGBA value for all points.\n",
      "'c' argument looks like a single numeric RGB or RGBA sequence, which should be avoided as value-mapping will have precedence in case its length matches with 'x' & 'y'.  Please use a 2-D array with a single row if you really want to specify the same RGB or RGBA value for all points.\n"
     ]
    },
    {
     "name": "stdout",
     "output_type": "stream",
     "text": [
      "xx1.ravel() 67575 [-2.57496421 -2.55496421 -2.53496421 ...  2.66503579  2.68503579\n",
      "  2.70503579]\n",
      "xx2.ravel() 67575 [-2.45241201 -2.45241201 -2.45241201 ...  2.62758799  2.62758799\n",
      "  2.62758799]\n"
     ]
    },
    {
     "data": {
      "image/png": "[encoded data removed]",
      "text/plain": [
       "<Figure size 432x288 with 1 Axes>"
      ]
     },
     "metadata": {
      "needs_background": "light"
     },
     "output_type": "display_data"
    },
    {
     "name": "stdout",
     "output_type": "stream",
     "text": [
      "[[1.78177322e-11 6.12453348e-02 9.38754665e-01]]\n"
     ]
    }
   ],
   "source": [
    "from sklearn.linear_model import LogisticRegression\n",
    "\n",
    "lr = LogisticRegression(C=1000.0, random_state=0)\n",
    "lr.fit(X_train_std, y_train)\n",
    "\n",
    "plot_decision_regions(X=X_combined_std, y=y_combined, classifier=lr, test_idx=range(105, 150))\n",
    "plt.xlabel('petal length [standardized]')\n",
    "plt.ylabel('petal width [stand]')\n",
    "plt.legend(loc='upper left')\n",
    "plt.show()\n",
    "\n",
    "# 1サンプルの所属確率を求める\n",
    "print(lr.predict_proba(X_test_std[0, :].reshape(1, 2)))"
   ]
  },
  {
   "cell_type": "markdown",
   "metadata": {},
   "source": [
    "所属確率から所属ラベルを決定"
   ]
  },
  {
   "cell_type": "code",
   "execution_count": 7,
   "metadata": {},
   "outputs": [
    {
     "data": {
      "text/plain": [
       "array([2, 1, 0])"
      ]
     },
     "execution_count": 7,
     "metadata": {},
     "output_type": "execute_result"
    }
   ],
   "source": [
    "lr.predict_proba(X_test_std[:3, :]).argmax(axis=1)"
   ]
  },
  {
   "cell_type": "code",
   "execution_count": 8,
   "metadata": {},
   "outputs": [
    {
     "data": {
      "text/plain": [
       "array([2, 1, 0])"
      ]
     },
     "execution_count": 8,
     "metadata": {},
     "output_type": "execute_result"
    }
   ],
   "source": [
    "lr.predict(X_test_std[:3, :])"
   ]
  },
  {
   "cell_type": "markdown",
   "metadata": {},
   "source": [
    "### コスト関数にL2ノルムを入れて正則化を効かせる"
   ]
  },
  {
   "cell_type": "markdown",
   "metadata": {},
   "source": [
    "正則化係数Cが小さいほど正則化の効果がある"
   ]
  },
  {
   "cell_type": "code",
   "execution_count": 9,
   "metadata": {},
   "outputs": [
    {
     "name": "stderr",
     "output_type": "stream",
     "text": [
      "/Users/inoueshinichi/.pyenv/versions/anaconda3-5.0.1/envs/Education/lib/python3.6/site-packages/sklearn/linear_model/logistic.py:433: FutureWarning: Default solver will be changed to 'lbfgs' in 0.22. Specify a solver to silence this warning.\n",
      "  FutureWarning)\n",
      "/Users/inoueshinichi/.pyenv/versions/anaconda3-5.0.1/envs/Education/lib/python3.6/site-packages/sklearn/linear_model/logistic.py:460: FutureWarning: Default multi_class will be changed to 'auto' in 0.22. Specify the multi_class option to silence this warning.\n",
      "  \"this warning.\", FutureWarning)\n",
      "/Users/inoueshinichi/.pyenv/versions/anaconda3-5.0.1/envs/Education/lib/python3.6/site-packages/sklearn/linear_model/logistic.py:433: FutureWarning: Default solver will be changed to 'lbfgs' in 0.22. Specify a solver to silence this warning.\n",
      "  FutureWarning)\n",
      "/Users/inoueshinichi/.pyenv/versions/anaconda3-5.0.1/envs/Education/lib/python3.6/site-packages/sklearn/linear_model/logistic.py:460: FutureWarning: Default multi_class will be changed to 'auto' in 0.22. Specify the multi_class option to silence this warning.\n",
      "  \"this warning.\", FutureWarning)\n",
      "/Users/inoueshinichi/.pyenv/versions/anaconda3-5.0.1/envs/Education/lib/python3.6/site-packages/sklearn/linear_model/logistic.py:433: FutureWarning: Default solver will be changed to 'lbfgs' in 0.22. Specify a solver to silence this warning.\n",
      "  FutureWarning)\n",
      "/Users/inoueshinichi/.pyenv/versions/anaconda3-5.0.1/envs/Education/lib/python3.6/site-packages/sklearn/linear_model/logistic.py:460: FutureWarning: Default multi_class will be changed to 'auto' in 0.22. Specify the multi_class option to silence this warning.\n",
      "  \"this warning.\", FutureWarning)\n",
      "/Users/inoueshinichi/.pyenv/versions/anaconda3-5.0.1/envs/Education/lib/python3.6/site-packages/sklearn/linear_model/logistic.py:433: FutureWarning: Default solver will be changed to 'lbfgs' in 0.22. Specify a solver to silence this warning.\n",
      "  FutureWarning)\n",
      "/Users/inoueshinichi/.pyenv/versions/anaconda3-5.0.1/envs/Education/lib/python3.6/site-packages/sklearn/linear_model/logistic.py:460: FutureWarning: Default multi_class will be changed to 'auto' in 0.22. Specify the multi_class option to silence this warning.\n",
      "  \"this warning.\", FutureWarning)\n",
      "/Users/inoueshinichi/.pyenv/versions/anaconda3-5.0.1/envs/Education/lib/python3.6/site-packages/sklearn/linear_model/logistic.py:433: FutureWarning: Default solver will be changed to 'lbfgs' in 0.22. Specify a solver to silence this warning.\n",
      "  FutureWarning)\n",
      "/Users/inoueshinichi/.pyenv/versions/anaconda3-5.0.1/envs/Education/lib/python3.6/site-packages/sklearn/linear_model/logistic.py:460: FutureWarning: Default multi_class will be changed to 'auto' in 0.22. Specify the multi_class option to silence this warning.\n",
      "  \"this warning.\", FutureWarning)\n",
      "/Users/inoueshinichi/.pyenv/versions/anaconda3-5.0.1/envs/Education/lib/python3.6/site-packages/sklearn/linear_model/logistic.py:433: FutureWarning: Default solver will be changed to 'lbfgs' in 0.22. Specify a solver to silence this warning.\n",
      "  FutureWarning)\n",
      "/Users/inoueshinichi/.pyenv/versions/anaconda3-5.0.1/envs/Education/lib/python3.6/site-packages/sklearn/linear_model/logistic.py:460: FutureWarning: Default multi_class will be changed to 'auto' in 0.22. Specify the multi_class option to silence this warning.\n",
      "  \"this warning.\", FutureWarning)\n",
      "/Users/inoueshinichi/.pyenv/versions/anaconda3-5.0.1/envs/Education/lib/python3.6/site-packages/sklearn/linear_model/logistic.py:433: FutureWarning: Default solver will be changed to 'lbfgs' in 0.22. Specify a solver to silence this warning.\n",
      "  FutureWarning)\n",
      "/Users/inoueshinichi/.pyenv/versions/anaconda3-5.0.1/envs/Education/lib/python3.6/site-packages/sklearn/linear_model/logistic.py:460: FutureWarning: Default multi_class will be changed to 'auto' in 0.22. Specify the multi_class option to silence this warning.\n",
      "  \"this warning.\", FutureWarning)\n",
      "/Users/inoueshinichi/.pyenv/versions/anaconda3-5.0.1/envs/Education/lib/python3.6/site-packages/sklearn/linear_model/logistic.py:433: FutureWarning: Default solver will be changed to 'lbfgs' in 0.22. Specify a solver to silence this warning.\n",
      "  FutureWarning)\n",
      "/Users/inoueshinichi/.pyenv/versions/anaconda3-5.0.1/envs/Education/lib/python3.6/site-packages/sklearn/linear_model/logistic.py:460: FutureWarning: Default multi_class will be changed to 'auto' in 0.22. Specify the multi_class option to silence this warning.\n",
      "  \"this warning.\", FutureWarning)\n",
      "/Users/inoueshinichi/.pyenv/versions/anaconda3-5.0.1/envs/Education/lib/python3.6/site-packages/sklearn/linear_model/logistic.py:433: FutureWarning: Default solver will be changed to 'lbfgs' in 0.22. Specify a solver to silence this warning.\n",
      "  FutureWarning)\n",
      "/Users/inoueshinichi/.pyenv/versions/anaconda3-5.0.1/envs/Education/lib/python3.6/site-packages/sklearn/linear_model/logistic.py:460: FutureWarning: Default multi_class will be changed to 'auto' in 0.22. Specify the multi_class option to silence this warning.\n",
      "  \"this warning.\", FutureWarning)\n",
      "/Users/inoueshinichi/.pyenv/versions/anaconda3-5.0.1/envs/Education/lib/python3.6/site-packages/sklearn/linear_model/logistic.py:433: FutureWarning: Default solver will be changed to 'lbfgs' in 0.22. Specify a solver to silence this warning.\n",
      "  FutureWarning)\n",
      "/Users/inoueshinichi/.pyenv/versions/anaconda3-5.0.1/envs/Education/lib/python3.6/site-packages/sklearn/linear_model/logistic.py:460: FutureWarning: Default multi_class will be changed to 'auto' in 0.22. Specify the multi_class option to silence this warning.\n",
      "  \"this warning.\", FutureWarning)\n"
     ]
    },
    {
     "data": {
      "image/png": "[encoded data removed]",
      "text/plain": [
       "<Figure size 432x288 with 1 Axes>"
      ]
     },
     "metadata": {
      "needs_background": "light"
     },
     "output_type": "display_data"
    }
   ],
   "source": [
    "# 空のリストを生成（重み係数、逆正則化パラメータ）\n",
    "weights, params = [], []\n",
    "# 10個の逆正則化パラメータに対応するロジスティック回帰モデルをそれぞれ処理\n",
    "for c in np.arange(-5.0, 5.0, 1):\n",
    "    lr = LogisticRegression(C=10**c, random_state=0)\n",
    "    lr.fit(X_train_std, y_train)\n",
    "    # 重み係数を格納\n",
    "    weights.append(lr.coef_[1])\n",
    "    # 逆正則化パラメータを格納\n",
    "    params.append(10**c)\n",
    "\n",
    "# 重み係数をNumPy配列に計算\n",
    "weights = np.array(weights)\n",
    "# 横軸に逆正則化パラメータ、縦軸に重み係数をプロット\n",
    "plt.plot(params, weights[:, 0], label='petal length')\n",
    "plt.plot(params, weights[:, 1], linestyle='--', label='petal width')\n",
    "plt.ylabel('weight coefficient')\n",
    "plt.xlabel('C')\n",
    "plt.legend(loc='upper left')\n",
    "# 横軸を対数スケールに設定\n",
    "plt.xscale('log')\n",
    "plt.show()"
   ]
  },
  {
   "cell_type": "code",
   "execution_count": null,
   "metadata": {},
   "outputs": [],
   "source": []
  }
 ],
 "metadata": {
  "kernelspec": {
   "display_name": "Python 3",
   "language": "python",
   "name": "python3"
  },
  "language_info": {
   "codemirror_mode": {
    "name": "ipython",
    "version": 3
   },
   "file_extension": ".py",
   "mimetype": "text/x-python",
   "name": "python",
   "nbconvert_exporter": "python",
   "pygments_lexer": "ipython3",
   "version": "3.7.3"
  }
 },
 "nbformat": 4,
 "nbformat_minor": 2
}
