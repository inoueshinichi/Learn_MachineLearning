{
 "cells": [
  {
   "cell_type": "markdown",
   "metadata": {},
   "source": [
    "# ROC曲線の作り方"
   ]
  },
  {
   "cell_type": "markdown",
   "metadata": {},
   "source": [
    "### データの読み込み"
   ]
  },
  {
   "cell_type": "code",
   "execution_count": 1,
   "metadata": {},
   "outputs": [],
   "source": [
    "import pandas as pd\n",
    "\n",
    "# がんデータ\n",
    "df = pd.read_csv('https://archive.ics.uci.edu/ml/machine-learning-databases/breast-cancer-wisconsin/wdbc.data',\n",
    "                header=None)"
   ]
  },
  {
   "cell_type": "markdown",
   "metadata": {},
   "source": [
    "### ラベリング"
   ]
  },
  {
   "cell_type": "code",
   "execution_count": 5,
   "metadata": {
    "scrolled": true
   },
   "outputs": [
    {
     "name": "stdout",
     "output_type": "stream",
     "text": [
      "['M' 'M' 'M' 'M' 'M']\n",
      "['M' 'M' 'M' 'M' 'B']\n",
      "[1 1 1 1 1]\n",
      "[1 1 1 1 0]\n",
      "['B' 'M']\n",
      "[0 1]\n"
     ]
    }
   ],
   "source": [
    "from sklearn.preprocessing import LabelEncoder\n",
    "\n",
    "X = df.loc[:, 2:].values\n",
    "y = df.loc[:, 1].values\n",
    "\n",
    "print(y[:5])\n",
    "print(y[-5:])\n",
    "\n",
    "le = LabelEncoder()\n",
    "y = le.fit_transform(y)\n",
    "\n",
    "print(y[:5])\n",
    "print(y[-5:])\n",
    "\n",
    "print(le.classes_)\n",
    "print(le.transform(le.classes_))"
   ]
  },
  {
   "cell_type": "markdown",
   "metadata": {},
   "source": [
    "### データセットの作成"
   ]
  },
  {
   "cell_type": "code",
   "execution_count": 6,
   "metadata": {
    "scrolled": true
   },
   "outputs": [
    {
     "name": "stdout",
     "output_type": "stream",
     "text": [
      "[[1.291e+01 1.633e+01 8.253e+01 5.164e+02 7.941e-02 5.366e-02 3.873e-02\n",
      "  2.377e-02 1.829e-01 5.667e-02 1.942e-01 9.086e-01 1.493e+00 1.575e+01\n",
      "  5.298e-03 1.587e-02 2.321e-02 8.420e-03 1.853e-02 2.152e-03 1.388e+01\n",
      "  2.200e+01 9.081e+01 6.006e+02 1.097e-01 1.506e-01 1.764e-01 8.235e-02\n",
      "  3.024e-01 6.949e-02]\n",
      " [1.405e+01 2.715e+01 9.138e+01 6.004e+02 9.929e-02 1.126e-01 4.462e-02\n",
      "  4.304e-02 1.537e-01 6.171e-02 3.645e-01 1.492e+00 2.888e+00 2.984e+01\n",
      "  7.256e-03 2.678e-02 2.071e-02 1.626e-02 2.080e-02 5.304e-03 1.530e+01\n",
      "  3.317e+01 1.002e+02 7.067e+02 1.241e-01 2.264e-01 1.326e-01 1.048e-01\n",
      "  2.250e-01 8.321e-02]]\n",
      "[0 0]\n"
     ]
    }
   ],
   "source": [
    "from sklearn.model_selection import train_test_split\n",
    "\n",
    "X_train, X_test, y_train, y_test = train_test_split(X, y, test_size=0.20, stratify=y, random_state=1)\n",
    "\n",
    "print(X_train[:2, :])\n",
    "print(y_train[:2])"
   ]
  },
  {
   "cell_type": "markdown",
   "metadata": {},
   "source": [
    "### 学習モデルと検証の準備"
   ]
  },
  {
   "cell_type": "code",
   "execution_count": 10,
   "metadata": {},
   "outputs": [
    {
     "name": "stdout",
     "output_type": "stream",
     "text": [
      "X_train shape (455, 30)\n",
      "y_train_y shape (455,)\n",
      "X_test shape (114, 30)\n",
      "y_test shape (114,)\n",
      "[(array([143, 145, 147, 148, 150, 152, 153, 154, 155, 156, 158, 159, 161,\n",
      "       163, 164, 165, 166, 168, 170, 171, 172, 173, 174, 175, 176, 177,\n",
      "       178, 179, 180, 181, 182, 183, 184, 185, 186, 187, 188, 189, 190,\n",
      "       191, 192, 193, 194, 195, 196, 197, 198, 199, 200, 201, 202, 203,\n",
      "       204, 205, 206, 207, 208, 209, 210, 211, 212, 213, 214, 215, 216,\n",
      "       217, 218, 219, 220, 221, 222, 223, 224, 225, 226, 227, 228, 229,\n",
      "       230, 231, 232, 233, 234, 235, 236, 237, 238, 239, 240, 241, 242,\n",
      "       243, 244, 245, 246, 247, 248, 249, 250, 251, 252, 253, 254, 255,\n",
      "       256, 257, 258, 259, 260, 261, 262, 263, 264, 265, 266, 267, 268,\n",
      "       269, 270, 271, 272, 273, 274, 275, 276, 277, 278, 279, 280, 281,\n",
      "       282, 283, 284, 285, 286, 287, 288, 289, 290, 291, 292, 293, 294,\n",
      "       295, 296, 297, 298, 299, 300, 301, 302, 303, 304, 305, 306, 307,\n",
      "       308, 309, 310, 311, 312, 313, 314, 315, 316, 317, 318, 319, 320,\n",
      "       321, 322, 323, 324, 325, 326, 327, 328, 329, 330, 331, 332, 333,\n",
      "       334, 335, 336, 337, 338, 339, 340, 341, 342, 343, 344, 345, 346,\n",
      "       347, 348, 349, 350, 351, 352, 353, 354, 355, 356, 357, 358, 359,\n",
      "       360, 361, 362, 363, 364, 365, 366, 367, 368, 369, 370, 371, 372,\n",
      "       373, 374, 375, 376, 377, 378, 379, 380, 381, 382, 383, 384, 385,\n",
      "       386, 387, 388, 389, 390, 391, 392, 393, 394, 395, 396, 397, 398,\n",
      "       399, 400, 401, 402, 403, 404, 405, 406, 407, 408, 409, 410, 411,\n",
      "       412, 413, 414, 415, 416, 417, 418, 419, 420, 421, 422, 423, 424,\n",
      "       425, 426, 427, 428, 429, 430, 431, 432, 433, 434, 435, 436, 437,\n",
      "       438, 439, 440, 441, 442, 443, 444, 445, 446, 447, 448, 449, 450,\n",
      "       451, 452, 453, 454]), array([  0,   1,   2,   3,   4,   5,   6,   7,   8,   9,  10,  11,  12,\n",
      "        13,  14,  15,  16,  17,  18,  19,  20,  21,  22,  23,  24,  25,\n",
      "        26,  27,  28,  29,  30,  31,  32,  33,  34,  35,  36,  37,  38,\n",
      "        39,  40,  41,  42,  43,  44,  45,  46,  47,  48,  49,  50,  51,\n",
      "        52,  53,  54,  55,  56,  57,  58,  59,  60,  61,  62,  63,  64,\n",
      "        65,  66,  67,  68,  69,  70,  71,  72,  73,  74,  75,  76,  77,\n",
      "        78,  79,  80,  81,  82,  83,  84,  85,  86,  87,  88,  89,  90,\n",
      "        91,  92,  93,  94,  95,  96,  97,  98,  99, 100, 101, 102, 103,\n",
      "       104, 105, 106, 107, 108, 109, 110, 111, 112, 113, 114, 115, 116,\n",
      "       117, 118, 119, 120, 121, 122, 123, 124, 125, 126, 127, 128, 129,\n",
      "       130, 131, 132, 133, 134, 135, 136, 137, 138, 139, 140, 141, 142,\n",
      "       144, 146, 149, 151, 157, 160, 162, 167, 169])), (array([  0,   1,   2,   3,   4,   5,   6,   7,   8,   9,  10,  11,  12,\n",
      "        13,  14,  15,  16,  17,  18,  19,  20,  21,  22,  23,  24,  25,\n",
      "        26,  27,  28,  29,  30,  31,  32,  33,  34,  35,  36,  37,  38,\n",
      "        39,  40,  41,  42,  43,  44,  45,  46,  47,  48,  49,  50,  51,\n",
      "        52,  53,  54,  55,  56,  57,  58,  59,  60,  61,  62,  63,  64,\n",
      "        65,  66,  67,  68,  69,  70,  71,  72,  73,  74,  75,  76,  77,\n",
      "        78,  79,  80,  81,  82,  83,  84,  85,  86,  87,  88,  89,  90,\n",
      "        91,  92,  93,  94,  95,  96,  97,  98,  99, 100, 101, 102, 103,\n",
      "       104, 105, 106, 107, 108, 109, 110, 111, 112, 113, 114, 115, 116,\n",
      "       117, 118, 119, 120, 121, 122, 123, 124, 125, 126, 127, 128, 129,\n",
      "       130, 131, 132, 133, 134, 135, 136, 137, 138, 139, 140, 141, 142,\n",
      "       144, 146, 149, 151, 157, 160, 162, 167, 169, 296, 300, 301, 302,\n",
      "       303, 304, 305, 306, 307, 310, 314, 315, 316, 317, 318, 319, 320,\n",
      "       321, 322, 323, 324, 325, 326, 327, 328, 329, 330, 331, 332, 333,\n",
      "       334, 335, 336, 337, 338, 339, 340, 341, 342, 343, 344, 345, 346,\n",
      "       347, 348, 349, 350, 351, 352, 353, 354, 355, 356, 357, 358, 359,\n",
      "       360, 361, 362, 363, 364, 365, 366, 367, 368, 369, 370, 371, 372,\n",
      "       373, 374, 375, 376, 377, 378, 379, 380, 381, 382, 383, 384, 385,\n",
      "       386, 387, 388, 389, 390, 391, 392, 393, 394, 395, 396, 397, 398,\n",
      "       399, 400, 401, 402, 403, 404, 405, 406, 407, 408, 409, 410, 411,\n",
      "       412, 413, 414, 415, 416, 417, 418, 419, 420, 421, 422, 423, 424,\n",
      "       425, 426, 427, 428, 429, 430, 431, 432, 433, 434, 435, 436, 437,\n",
      "       438, 439, 440, 441, 442, 443, 444, 445, 446, 447, 448, 449, 450,\n",
      "       451, 452, 453, 454]), array([143, 145, 147, 148, 150, 152, 153, 154, 155, 156, 158, 159, 161,\n",
      "       163, 164, 165, 166, 168, 170, 171, 172, 173, 174, 175, 176, 177,\n",
      "       178, 179, 180, 181, 182, 183, 184, 185, 186, 187, 188, 189, 190,\n",
      "       191, 192, 193, 194, 195, 196, 197, 198, 199, 200, 201, 202, 203,\n",
      "       204, 205, 206, 207, 208, 209, 210, 211, 212, 213, 214, 215, 216,\n",
      "       217, 218, 219, 220, 221, 222, 223, 224, 225, 226, 227, 228, 229,\n",
      "       230, 231, 232, 233, 234, 235, 236, 237, 238, 239, 240, 241, 242,\n",
      "       243, 244, 245, 246, 247, 248, 249, 250, 251, 252, 253, 254, 255,\n",
      "       256, 257, 258, 259, 260, 261, 262, 263, 264, 265, 266, 267, 268,\n",
      "       269, 270, 271, 272, 273, 274, 275, 276, 277, 278, 279, 280, 281,\n",
      "       282, 283, 284, 285, 286, 287, 288, 289, 290, 291, 292, 293, 294,\n",
      "       295, 297, 298, 299, 308, 309, 311, 312, 313])), (array([  0,   1,   2,   3,   4,   5,   6,   7,   8,   9,  10,  11,  12,\n",
      "        13,  14,  15,  16,  17,  18,  19,  20,  21,  22,  23,  24,  25,\n",
      "        26,  27,  28,  29,  30,  31,  32,  33,  34,  35,  36,  37,  38,\n",
      "        39,  40,  41,  42,  43,  44,  45,  46,  47,  48,  49,  50,  51,\n",
      "        52,  53,  54,  55,  56,  57,  58,  59,  60,  61,  62,  63,  64,\n",
      "        65,  66,  67,  68,  69,  70,  71,  72,  73,  74,  75,  76,  77,\n",
      "        78,  79,  80,  81,  82,  83,  84,  85,  86,  87,  88,  89,  90,\n",
      "        91,  92,  93,  94,  95,  96,  97,  98,  99, 100, 101, 102, 103,\n",
      "       104, 105, 106, 107, 108, 109, 110, 111, 112, 113, 114, 115, 116,\n",
      "       117, 118, 119, 120, 121, 122, 123, 124, 125, 126, 127, 128, 129,\n",
      "       130, 131, 132, 133, 134, 135, 136, 137, 138, 139, 140, 141, 142,\n",
      "       143, 144, 145, 146, 147, 148, 149, 150, 151, 152, 153, 154, 155,\n",
      "       156, 157, 158, 159, 160, 161, 162, 163, 164, 165, 166, 167, 168,\n",
      "       169, 170, 171, 172, 173, 174, 175, 176, 177, 178, 179, 180, 181,\n",
      "       182, 183, 184, 185, 186, 187, 188, 189, 190, 191, 192, 193, 194,\n",
      "       195, 196, 197, 198, 199, 200, 201, 202, 203, 204, 205, 206, 207,\n",
      "       208, 209, 210, 211, 212, 213, 214, 215, 216, 217, 218, 219, 220,\n",
      "       221, 222, 223, 224, 225, 226, 227, 228, 229, 230, 231, 232, 233,\n",
      "       234, 235, 236, 237, 238, 239, 240, 241, 242, 243, 244, 245, 246,\n",
      "       247, 248, 249, 250, 251, 252, 253, 254, 255, 256, 257, 258, 259,\n",
      "       260, 261, 262, 263, 264, 265, 266, 267, 268, 269, 270, 271, 272,\n",
      "       273, 274, 275, 276, 277, 278, 279, 280, 281, 282, 283, 284, 285,\n",
      "       286, 287, 288, 289, 290, 291, 292, 293, 294, 295, 297, 298, 299,\n",
      "       308, 309, 311, 312, 313]), array([296, 300, 301, 302, 303, 304, 305, 306, 307, 310, 314, 315, 316,\n",
      "       317, 318, 319, 320, 321, 322, 323, 324, 325, 326, 327, 328, 329,\n",
      "       330, 331, 332, 333, 334, 335, 336, 337, 338, 339, 340, 341, 342,\n",
      "       343, 344, 345, 346, 347, 348, 349, 350, 351, 352, 353, 354, 355,\n",
      "       356, 357, 358, 359, 360, 361, 362, 363, 364, 365, 366, 367, 368,\n",
      "       369, 370, 371, 372, 373, 374, 375, 376, 377, 378, 379, 380, 381,\n",
      "       382, 383, 384, 385, 386, 387, 388, 389, 390, 391, 392, 393, 394,\n",
      "       395, 396, 397, 398, 399, 400, 401, 402, 403, 404, 405, 406, 407,\n",
      "       408, 409, 410, 411, 412, 413, 414, 415, 416, 417, 418, 419, 420,\n",
      "       421, 422, 423, 424, 425, 426, 427, 428, 429, 430, 431, 432, 433,\n",
      "       434, 435, 436, 437, 438, 439, 440, 441, 442, 443, 444, 445, 446,\n",
      "       447, 448, 449, 450, 451, 452, 453, 454]))]\n"
     ]
    }
   ],
   "source": [
    "from sklearn.pipeline import make_pipeline\n",
    "from sklearn.model_selection import StratifiedKFold\n",
    "from sklearn.preprocessing import StandardScaler\n",
    "from sklearn.decomposition import PCA\n",
    "from sklearn.linear_model import LogisticRegression\n",
    "\n",
    "pipe_lr = make_pipeline(StandardScaler(),\n",
    "                       PCA(n_components=2),\n",
    "                       LogisticRegression(penalty='l2', random_state=1, C=100.0))\n",
    "\n",
    "print(\"X_train shape\", X_train.shape)\n",
    "print(\"y_train_y shape\", y_train.shape)\n",
    "print(\"X_test shape\", X_test.shape)\n",
    "print(\"y_test shape\", y_test.shape)\n",
    "\n",
    "# 学習データを3分割にして、indexを確認\n",
    "cv = list(StratifiedKFold(n_splits=3, random_state=1).split(X_train, y_train))\n",
    "print(cv)"
   ]
  },
  {
   "cell_type": "markdown",
   "metadata": {},
   "source": [
    "### ROC曲線"
   ]
  },
  {
   "cell_type": "code",
   "execution_count": 13,
   "metadata": {},
   "outputs": [
    {
     "name": "stderr",
     "output_type": "stream",
     "text": [
      "/Users/inoueshinichi/opt/anaconda3/lib/python3.7/site-packages/sklearn/linear_model/logistic.py:432: FutureWarning: Default solver will be changed to 'lbfgs' in 0.22. Specify a solver to silence this warning.\n",
      "  FutureWarning)\n",
      "/Users/inoueshinichi/opt/anaconda3/lib/python3.7/site-packages/sklearn/linear_model/logistic.py:432: FutureWarning: Default solver will be changed to 'lbfgs' in 0.22. Specify a solver to silence this warning.\n",
      "  FutureWarning)\n",
      "/Users/inoueshinichi/opt/anaconda3/lib/python3.7/site-packages/sklearn/linear_model/logistic.py:432: FutureWarning: Default solver will be changed to 'lbfgs' in 0.22. Specify a solver to silence this warning.\n",
      "  FutureWarning)\n"
     ]
    },
    {
     "data": {
      "image/png": "[encoded data removed]",
      "text/plain": [
       "<Figure size 504x360 with 1 Axes>"
      ]
     },
     "metadata": {
      "needs_background": "light"
     },
     "output_type": "display_data"
    }
   ],
   "source": [
    "from sklearn.metrics import roc_curve, auc\n",
    "from scipy import interp\n",
    "import numpy as np\n",
    "from matplotlib import pyplot as plt\n",
    "%matplotlib inline\n",
    "\n",
    "# 4番目と14番目の特徴量だけを学習データに使用する\n",
    "X_train2 = X_train[:, [4, 14]]\n",
    "\n",
    "mean_tpr = 0.0 # 真陽性\n",
    "mean_fpr = np.linspace(0, 1, 100)\n",
    "all_tpr = []\n",
    "\n",
    "fig = plt.figure(figsize=(7, 5))\n",
    "for i, (train, test) in enumerate(cv):\n",
    "    fitedModel = pipe_lr.fit(X_train2[train], y_train[train])\n",
    "    \n",
    "    # 予測確率\n",
    "    probas = fitedModel.predict_proba(X_train2[test])\n",
    "    #print(probas[0, :]) \n",
    "    \n",
    "    # 偽陽性, 真陽性, 判断しきい値\n",
    "    fpr, tpr, thresholds = roc_curve(y_train[test], probas[:, 1], pos_label=1)\n",
    "    mean_tpr += interp(mean_fpr, fpr, tpr) # FPR(X軸)とTPR(Y軸)を線形補間\n",
    "    mean_tpr[0] = 0.0\n",
    "    roc_auc = auc(fpr, tpr)\n",
    "    \n",
    "    plt.plot(fpr, tpr, label='ROC fold %d (area = %0.2f)' % (i+1, roc_auc))\n",
    "plt.legend()\n",
    "plt.show()"
   ]
  },
  {
   "cell_type": "code",
   "execution_count": null,
   "metadata": {},
   "outputs": [],
   "source": []
  }
 ],
 "metadata": {
  "kernelspec": {
   "display_name": "Python 3",
   "language": "python",
   "name": "python3"
  },
  "language_info": {
   "codemirror_mode": {
    "name": "ipython",
    "version": 3
   },
   "file_extension": ".py",
   "mimetype": "text/x-python",
   "name": "python",
   "nbconvert_exporter": "python",
   "pygments_lexer": "ipython3",
   "version": "3.7.4"
  }
 },
 "nbformat": 4,
 "nbformat_minor": 2
}
